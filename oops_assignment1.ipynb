{
 "cells": [
  {
   "cell_type": "markdown",
   "id": "99b89b6a-84b8-4150-894b-cc4f2d069e56",
   "metadata": {},
   "source": [
    "Q1, Create a vehicle class with an init method having instance variables as name_of_vehicle, max_speed\n",
    "and average_of_vehicle."
   ]
  },
  {
   "cell_type": "code",
   "execution_count": 15,
   "id": "719d5395-3141-4e6e-8d06-534caa029346",
   "metadata": {},
   "outputs": [],
   "source": [
    "class vehicle:\n",
    "    def __init__(self, name_of_vehicle, max_speed, average_of_vehicle):\n",
    "        self.name_of_vehicle = name_of_vehicle\n",
    "        self. max_speed =  max_speed\n",
    "        self. average_of_vehicle =  average_of_vehicle\n",
    "honda_city = vehicle(\"car\", 300, 245)"
   ]
  },
  {
   "cell_type": "markdown",
   "id": "316bb92a-288a-431f-b20f-c1bd2576412e",
   "metadata": {},
   "source": [
    "Q2. Create a child class car from the vehicle class created in Que 1, which will inherit the vehicle class.\n",
    "Create a method named seating_capacity which takes capacity as an argument and returns the name of\n",
    "the vehicle and its seating capacity."
   ]
  },
  {
   "cell_type": "code",
   "execution_count": 30,
   "id": "a3ed475f-9978-420a-bb04-bc56b62dc91a",
   "metadata": {},
   "outputs": [],
   "source": [
    "class car(vehicle):\n",
    "    def __init__(self,name_of_vehicle, max_speed, average_of_vehicle):\n",
    "        vehicle.__init__(self, name_of_vehicle, max_speed, average_of_vehicle)\n",
    "        \n",
    "    def seating_capacity(self, capacity):     #give self here as well\n",
    "        self.capacity = capacity\n",
    "        return self.name_of_vehicle, self.capacity  #Not --> vehicle.name_of_vehicle"
   ]
  },
  {
   "cell_type": "code",
   "execution_count": 31,
   "id": "8f1cfd06-cdd6-4739-bd94-1c573b49a60b",
   "metadata": {},
   "outputs": [
    {
     "data": {
      "text/plain": [
       "('car', 2)"
      ]
     },
     "execution_count": 31,
     "metadata": {},
     "output_type": "execute_result"
    }
   ],
   "source": [
    "ferrari = car(\"car\", 300, 2450)\n",
    "ferrari.seating_capacity(2)"
   ]
  },
  {
   "cell_type": "markdown",
   "id": "ff471736-46b1-478c-81a9-be36802d50fa",
   "metadata": {},
   "source": [
    "Q3. What is multiple inheritance? Write a python code to demonstrate multiple inheritance."
   ]
  },
  {
   "cell_type": "raw",
   "id": "ea018963-005d-4400-ad36-955ecbc064ac",
   "metadata": {},
   "source": [
    "When a child class inherits the properties of two or more parent classes, the inheritance is said to be multiple inheritance. For eg. in the code below, class \"CHILD\" inherits the properties of both class \"FATHER\" & class \"MOTHER\"."
   ]
  },
  {
   "cell_type": "code",
   "execution_count": 40,
   "id": "fe9ad949-9f42-4cf9-9c94-dd09ba889de9",
   "metadata": {},
   "outputs": [
    {
     "name": "stdout",
     "output_type": "stream",
     "text": [
      "Sita's mother is: Sita and father is Sita\n"
     ]
    }
   ],
   "source": [
    "class FATHER:\n",
    "    def __init__(self, name):\n",
    "        self.name = name\n",
    "\n",
    "class MOTHER:\n",
    "    def __init__(self, name):\n",
    "        self.name = name\n",
    "    \n",
    "class CHILD( FATHER,MOTHER ):\n",
    "    def __init__(self, name, name_of_father, name_of_mother):\n",
    "        self.name = name\n",
    "        FATHER.__init__(self, name_of_father)\n",
    "        MOTHER.__init__(self, name_of_mother)\n",
    "        \n",
    "    def intro(self):\n",
    "        print(f\"{self.name}'s mother is: {self.name} and father is {self.name}\")  #<-- use the var name of the real class\n",
    "        \n",
    "luv = CHILD(\"luv\", \"Ram\" , \"Sita\")\n",
    "luv.intro()"
   ]
  },
  {
   "cell_type": "markdown",
   "id": "8343a66b-0329-4d0a-9911-3d6abc0c281f",
   "metadata": {},
   "source": [
    "Q4. What are getter and setter in python? Create a class and create a getter and a setter method in this\n",
    "class."
   ]
  },
  {
   "cell_type": "markdown",
   "id": "1f037a2a-e7f4-4c71-b13c-bd3981f62c93",
   "metadata": {},
   "source": [
    "Ans) A getter is a method used in python to get a value from the program. A setter is a method used in python to set a value to a variable. These are just names, not special keyword. This convention is used to keep the code self-explanatory. We can use other names as well."
   ]
  },
  {
   "cell_type": "code",
   "execution_count": 43,
   "id": "50ffb677-e14c-4e18-9554-f946cf7de0f6",
   "metadata": {},
   "outputs": [
    {
     "name": "stdout",
     "output_type": "stream",
     "text": [
      "Your favourite color is Sky Blue\n"
     ]
    }
   ],
   "source": [
    "class fav_color:\n",
    "    def set_fav_clr(self, color):\n",
    "        self.color = color\n",
    "    def get_fav_clr(self):\n",
    "        print(\"Your favourite color is\", self.color)\n",
    "        \n",
    "obj = fav_color()\n",
    "obj.set_fav_clr(\"Sky Blue\")\n",
    "obj.get_fav_clr()"
   ]
  },
  {
   "cell_type": "markdown",
   "id": "b8a1fb6a-6ced-41ab-9b6a-5ae3e50221c8",
   "metadata": {},
   "source": [
    "Q5.What is method overriding in python? Write a python code to demonstrate method overriding."
   ]
  },
  {
   "cell_type": "markdown",
   "id": "4fc0c04d-cef1-40b8-a8a7-5b24764c4ed1",
   "metadata": {},
   "source": [
    "Ans)  Multiple functions with same function prototypes can be used without collision, but they have to be declared in different contexts or scopes. In the code below, let's override the methods/functions of the abstract class."
   ]
  },
  {
   "cell_type": "code",
   "execution_count": 48,
   "id": "53b1f8ae-d94b-4ed4-8981-ddec60915fdc",
   "metadata": {},
   "outputs": [],
   "source": [
    "import abc\n",
    "\n",
    "class I_am_Abstract:\n",
    "    @abc.abstractmethod\n",
    "    def wish(self, wishing):\n",
    "        pass\n",
    "\n",
    "class inherit1(I_am_Abstract):\n",
    "    def wish(self,wishing):\n",
    "        print(\"Good_morning from inherit1\")\n",
    "\n",
    "class inherit2(I_am_Abstract):\n",
    "    def wish(self,wishing):\n",
    "        print(\"Good mo"
   ]
  },
  {
   "cell_type": "code",
   "execution_count": null,
   "id": "eba7b083-c498-41f6-b4fd-450cf988ac97",
   "metadata": {},
   "outputs": [],
   "source": []
  }
 ],
 "metadata": {
  "kernelspec": {
   "display_name": "Python 3 (ipykernel)",
   "language": "python",
   "name": "python3"
  },
  "language_info": {
   "codemirror_mode": {
    "name": "ipython",
    "version": 3
   },
   "file_extension": ".py",
   "mimetype": "text/x-python",
   "name": "python",
   "nbconvert_exporter": "python",
   "pygments_lexer": "ipython3",
   "version": "3.10.8"
  }
 },
 "nbformat": 4,
 "nbformat_minor": 5
}
