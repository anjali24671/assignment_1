{
 "cells": [
  {
   "cell_type": "markdown",
   "id": "b4fbb5be-080d-4abe-bc88-a6c59c935997",
   "metadata": {},
   "source": [
    "Q1. What is a database? Differentiate between SQL and NoSQL databases."
   ]
  },
  {
   "cell_type": "markdown",
   "id": "64ada71e-756f-45ea-bca6-482ddfc21429",
   "metadata": {},
   "source": [
    "    Ans) Database is a organized and effiecnt collection of data. We can easily manipulate, use data from a database.\n",
    "    SQL databases: They are structured in the form of schemas(tables). Which makes data retrival easy and efficient.\n",
    "    NoSQL databases: They are not in the form of schemas. They store data in the form of JSON documents, they are perfect for websites generating random and unstructured data."
   ]
  },
  {
   "cell_type": "markdown",
   "id": "2242fefe-ecb3-4516-a394-bd4db548c4ff",
   "metadata": {},
   "source": [
    "Q2. What is DDL? Explain why CREATE, DROP, ALTER, and TRUNCATE are used with an example."
   ]
  },
  {
   "cell_type": "markdown",
   "id": "b44db4bf-d7da-46fc-ac94-2fbc4ba59d70",
   "metadata": {},
   "source": [
    "    Ans) DDL stands for Data Definition Language. It is used to handle the fields of tables. We can manipulate the structure of tables with DDL."
   ]
  },
  {
   "cell_type": "markdown",
   "id": "9aeffb9e-c216-4285-9580-9b9276391388",
   "metadata": {},
   "source": [
    "    CREATE: To create a column.\n",
    "        create table student (name varchar(100), id integer(2) primary key);\n",
    "    \n",
    "    DROP: To delete a column or the whole table.\n",
    "        drop table student;\n",
    "        \n",
    "    ALTER: To alter a column.\n",
    "        alter table student add (class integer(2));\n",
    "        \n",
    "    TRUNCATE: Used to delete all the rows from a table, leaving an empty table.\n",
    "        truncate table student;"
   ]
  },
  {
   "cell_type": "markdown",
   "id": "20055a25-2a2e-449d-921c-b482a04a076f",
   "metadata": {},
   "source": [
    "Q3. What is DML? Explain INSERT, UPDATE, and DELETE with an example."
   ]
  },
  {
   "cell_type": "markdown",
   "id": "689e44e0-a302-479e-9ad4-3060f88f6c33",
   "metadata": {},
   "source": [
    "    Ans) DML stands for Data Manipulation language. It is used to manipulate the data.\n",
    "    INSERT: Used to insert row in a table.\n",
    "        insert into students (name, id, class) values(krishna, 2, 10);\n",
    "        \n",
    "    UPDATE: Used to updata exiting data in the table.\n",
    "        updata students set name = 'Kanha' where id=2;\n",
    "        \n",
    "    DELETE: Used to delete data in a table.\n",
    "        delete from student where id=2;"
   ]
  },
  {
   "cell_type": "markdown",
   "id": "913689ff-8c86-4417-b8df-b834d28d4540",
   "metadata": {},
   "source": [
    "Q4. What is DQL? Explain SELECT with an example."
   ]
  },
  {
   "cell_type": "markdown",
   "id": "f62efee1-74e1-4559-825d-afde4b48b62e",
   "metadata": {},
   "source": [
    "    Ans) DQL stands for Data Query Language. It is used to fetch and organize data from or to a table.\n",
    "    SELECT: Used to select column/s from table according to a condition.\n",
    "        select * from students;\n",
    "        select name, class from student where id=2;"
   ]
  },
  {
   "cell_type": "markdown",
   "id": "bb7e1420-bb65-47a2-a4cf-e04095c4b24d",
   "metadata": {},
   "source": [
    "Q5. Explain Primary Key and Foreign Key."
   ]
  },
  {
   "cell_type": "markdown",
   "id": "5e2328c9-66eb-425d-873c-b722f4af2981",
   "metadata": {},
   "source": [
    "    Ans) Primary key uniquly identifies rows in a table. While, Foriegn key is used to link two or more tables with the help of the primary key of the related table."
   ]
  },
  {
   "cell_type": "markdown",
   "id": "03b55e30-ba90-4e79-bbbe-75b8ad76902d",
   "metadata": {},
   "source": [
    "Q6. Write a python code to connect MySQL to python. Explain the cursor() and execute() method."
   ]
  },
  {
   "cell_type": "code",
   "execution_count": 2,
   "id": "14d9afd1-26e3-4eb3-99c7-878387fbc321",
   "metadata": {},
   "outputs": [
    {
     "ename": "ModuleNotFoundError",
     "evalue": "No module named 'sql'",
     "output_type": "error",
     "traceback": [
      "\u001b[0;31m---------------------------------------------------------------------------\u001b[0m",
      "\u001b[0;31mModuleNotFoundError\u001b[0m                       Traceback (most recent call last)",
      "Cell \u001b[0;32mIn[2], line 1\u001b[0m\n\u001b[0;32m----> 1\u001b[0m \u001b[38;5;28;01mimport\u001b[39;00m \u001b[38;5;21;01msql\u001b[39;00m\u001b[38;5;21;01m.\u001b[39;00m\u001b[38;5;21;01mconnector\u001b[39;00m\n",
      "\u001b[0;31mModuleNotFoundError\u001b[0m: No module named 'sql'"
     ]
    }
   ],
   "source": [
    "import mysql.connector as mc\n",
    "\n",
    "mydb = mc.connect(\n",
    "    host='localhost',\n",
    "    user='abc',\n",
    "    password='password'\n",
    ")\n",
    "\n",
    "mycursor = mydb.cursor()\n",
    "\n",
    "mycursor.execute('create database students;')\n",
    "mycursor.execute('use students;')\n",
    "mycursor.execute('create table student (name varchar(100), id integer(2) primary key);')\n",
    "mycursor.execute('insert into student values(\"kanha\", 32);')\n",
    "mydb.commit()\n",
    "mydb.close()"
   ]
  },
  {
   "cell_type": "markdown",
   "id": "33e3a29d-600b-46b5-be3e-220cb51dd63a",
   "metadata": {},
   "source": [
    "Ans) .cursor() makes it possible, with its functions to carry out queries in the db object.\n",
    "execute() is used to run the queries of sql through python."
   ]
  },
  {
   "cell_type": "markdown",
   "id": "a3ed4c07-79a7-4877-9013-95cda81da7c5",
   "metadata": {},
   "source": [
    "Q7. Give the order of execution of SQL clauses in an SQL query."
   ]
  },
  {
   "cell_type": "code",
   "execution_count": null,
   "id": "68eb5f63-5cbe-4033-980b-047980c2ca71",
   "metadata": {},
   "outputs": [],
   "source": []
  }
 ],
 "metadata": {
  "kernelspec": {
   "display_name": "Python 3 (ipykernel)",
   "language": "python",
   "name": "python3"
  },
  "language_info": {
   "codemirror_mode": {
    "name": "ipython",
    "version": 3
   },
   "file_extension": ".py",
   "mimetype": "text/x-python",
   "name": "python",
   "nbconvert_exporter": "python",
   "pygments_lexer": "ipython3",
   "version": "3.10.8"
  }
 },
 "nbformat": 4,
 "nbformat_minor": 5
}
