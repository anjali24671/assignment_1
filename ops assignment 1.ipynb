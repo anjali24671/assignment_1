{
 "cells": [
  {
   "cell_type": "markdown",
   "id": "6fc2ac77-fc5d-46e2-9797-9126288329fb",
   "metadata": {},
   "source": [
    "Q1. Explain Class and Object with respect to Object-Oriented Programming. Give a suitable example."
   ]
  },
  {
   "cell_type": "raw",
   "id": "d956baea-4e41-4be6-863f-ee87825203ac",
   "metadata": {},
   "source": [
    "Ans)Class:\n",
    "-> Class is a template which is used to describe an object. \n",
    "-> they are made in python using keyword \"class\"\n",
    "\n",
    "Object:\n",
    "-> Objects on the other hand are used to repreesent any real world entity. The behaviours and info regarding the entity are dscribed in the class\n",
    "-> They are also called the instance of the class"
   ]
  },
  {
   "cell_type": "code",
   "execution_count": 2,
   "id": "df3e582a-2d22-4b44-bd16-0b88c5fff8db",
   "metadata": {},
   "outputs": [
    {
     "name": "stdout",
     "output_type": "stream",
     "text": [
      "567\n"
     ]
    }
   ],
   "source": [
    "class Tree:\n",
    "    def __init__(self, height):\n",
    "        self.height = height\n",
    "    def whats_the_height(self):\n",
    "        print(self.height)\n",
    "\n",
    "neem = Tree(567)\n",
    "neem.whats_the_height()"
   ]
  },
  {
   "cell_type": "markdown",
   "id": "f982b573-8765-4459-91b6-05aef632e1d7",
   "metadata": {},
   "source": [
    "Q2. Name the four pillars of OOPs."
   ]
  },
  {
   "cell_type": "markdown",
   "id": "708ff452-094d-496b-b02c-43b4016c1bd9",
   "metadata": {},
   "source": [
    "Ans) The four pillars of OOP are:\n",
    "- Abstraction\n",
    "- Encapsulation\n",
    "- Polymmorphism\n",
    "- Inheritance"
   ]
  },
  {
   "cell_type": "markdown",
   "id": "a75b864d-5727-4743-8cc1-ec6a522cdf8b",
   "metadata": {},
   "source": [
    "Q3. Explain why the __init__() function is used. Give a suitable example."
   ]
  },
  {
   "cell_type": "raw",
   "id": "1df9fd34-9ddc-49fe-80e0-080d71f0dd79",
   "metadata": {},
   "source": [
    "Ans) The __init__ method is a special method, which is called automatically upon the creation of an instance.\n",
    "It can be used to initialize values for that instance. Or it can be used to do any work which should be default to an instance e.g height of student = 0 or more, nut not less."
   ]
  },
  {
   "cell_type": "code",
   "execution_count": 7,
   "id": "eedd29d2-f946-4a4f-9174-351cc2dd6a93",
   "metadata": {},
   "outputs": [
    {
     "name": "stdout",
     "output_type": "stream",
     "text": [
      "144\n",
      "0\n"
     ]
    }
   ],
   "source": [
    "class student:\n",
    "    def __init__(self, height):\n",
    "        if(height<0):\n",
    "            self.height = 0\n",
    "        else:\n",
    "            self.height = height\n",
    "    def get_height(self):\n",
    "        print(self.height)\n",
    "\n",
    "st = student(144)\n",
    "st2 = student(-9)\n",
    "st.get_height()\n",
    "st2.get_height()"
   ]
  },
  {
   "cell_type": "markdown",
   "id": "872bed7a-18cf-46cc-8988-e647f437bd91",
   "metadata": {},
   "source": [
    "Q4. Why self is used in OOPs?"
   ]
  },
  {
   "cell_type": "markdown",
   "id": "41dedd13-b60e-48a5-b370-18a66d38c6e0",
   "metadata": {},
   "source": [
    "Ans) self is used to represent the instance of the class. when we say: self.height = height, we say that set the value of height \n",
    "variable to the \"height variable which belongs to the instance\"."
   ]
  },
  {
   "cell_type": "markdown",
   "id": "983c23bb-b285-4643-93a0-1d2301e900ae",
   "metadata": {},
   "source": [
    "Q5. What is inheritance? Give an example for each type of inheritance."
   ]
  },
  {
   "cell_type": "raw",
   "id": "f3a7cd0d-e253-4663-ba7b-43eb42c81a68",
   "metadata": {},
   "source": [
    "Ans) Inheritance is used to inherit the properties( methods and variables) of the super classes into the subclass.\n",
    "Types:\n",
    "- single level\n",
    "- multi level\n",
    "- hybrid\n",
    "- multiple\n",
    "- heirarchical (one super class, multiple sublclasses in one level)"
   ]
  },
  {
   "cell_type": "code",
   "execution_count": 9,
   "id": "c7c20924-5c46-4980-90b0-feb35ddfe623",
   "metadata": {},
   "outputs": [],
   "source": [
    "# single level\n",
    "class A:\n",
    "    pass\n",
    "class B(A):\n",
    "    pass"
   ]
  },
  {
   "cell_type": "code",
   "execution_count": 10,
   "id": "7f1fddf4-e6ff-4f80-b5e7-7ddbdff2beb2",
   "metadata": {},
   "outputs": [],
   "source": [
    "# multilevel\n",
    "class A:\n",
    "    pass\n",
    "class B(A):\n",
    "    pass\n",
    "class C(B):\n",
    "    pass"
   ]
  },
  {
   "cell_type": "code",
   "execution_count": null,
   "id": "5f9764ee-adfa-41a5-bcd0-1922607a5528",
   "metadata": {},
   "outputs": [],
   "source": [
    "# hybrid\n",
    "class A:\n",
    "    pass\n",
    "class B(A):\n",
    "    pass\n",
    "class C(A):\n",
    "    pass\n",
    "class D(B,C):\n",
    "    pass\n",
    "    "
   ]
  },
  {
   "cell_type": "code",
   "execution_count": null,
   "id": "5f268c52-e773-4a85-a6bf-0860cc9783b9",
   "metadata": {},
   "outputs": [],
   "source": [
    "# multiple\n",
    "class A:\n",
    "    pass\n",
    "class B:\n",
    "    pass\n",
    "class C(A,B):\n",
    "    pass\n",
    "    "
   ]
  },
  {
   "cell_type": "code",
   "execution_count": null,
   "id": "2ebc6d99-f926-4e73-97c3-f6952a526181",
   "metadata": {},
   "outputs": [],
   "source": []
  }
 ],
 "metadata": {
  "kernelspec": {
   "display_name": "Python 3 (ipykernel)",
   "language": "python",
   "name": "python3"
  },
  "language_info": {
   "codemirror_mode": {
    "name": "ipython",
    "version": 3
   },
   "file_extension": ".py",
   "mimetype": "text/x-python",
   "name": "python",
   "nbconvert_exporter": "python",
   "pygments_lexer": "ipython3",
   "version": "3.10.8"
  }
 },
 "nbformat": 4,
 "nbformat_minor": 5
}
