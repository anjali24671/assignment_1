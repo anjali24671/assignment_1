{
 "cells": [
  {
   "cell_type": "markdown",
   "id": "b4fbb5be-080d-4abe-bc88-a6c59c935997",
   "metadata": {},
   "source": [
    "Q1. What is a database? Differentiate between SQL and NoSQL databases."
   ]
  },
  {
   "cell_type": "markdown",
   "id": "64ada71e-756f-45ea-bca6-482ddfc21429",
   "metadata": {},
   "source": [
    "    Ans) A database is a structured collection of data that is organized, stored and managed in a way that facilitates efficient retreival, manipulation, and analysis of information. Databases are essential invarious fields, including software deveelpment, data science and more. \n",
    "    SQl Databases: They use a relational data model, structured schema, and SQL query language. They are suitable for application with well-defined schemas and require transactions and complex quierying.\n",
    "    NoSQL Dataabases: They are unstructured, and comes with scema flexibility and are best suitaed for applications that require handling unstructured or changing data."
   ]
  },
  {
   "cell_type": "markdown",
   "id": "2242fefe-ecb3-4516-a394-bd4db548c4ff",
   "metadata": {},
   "source": [
    "Q2. What is DDL? Explain why CREATE, DROP, ALTER, and TRUNCATE are used with an example."
   ]
  },
  {
   "cell_type": "markdown",
   "id": "b44db4bf-d7da-46fc-ac94-2fbc4ba59d70",
   "metadata": {},
   "source": [
    "    Ans) DDL stands for Data Definition Language. It is a subset of SQL that is used to define and manage the structure of a database and its objects. DDL commands are responsile for creating, altering and deleting databases objects such as tables, indexes, views, and schemas."
   ]
  },
  {
   "cell_type": "markdown",
   "id": "9aeffb9e-c216-4285-9580-9b9276391388",
   "metadata": {},
   "source": [
    "    CREATE: To create a column.\n",
    "        create table student (name varchar(100), id integer(2) primary key);\n",
    "    \n",
    "    DROP: To delete a column or the whole table.\n",
    "        drop table student;\n",
    "        \n",
    "    ALTER: To alter a column.\n",
    "        alter table student add (class integer(2));\n",
    "        \n",
    "    TRUNCATE: Used to delete all the rows from a table, leaving an empty table.\n",
    "        truncate table student;"
   ]
  },
  {
   "cell_type": "markdown",
   "id": "20055a25-2a2e-449d-921c-b482a04a076f",
   "metadata": {},
   "source": [
    "Q3. What is DML? Explain INSERT, UPDATE, and DELETE with an example."
   ]
  },
  {
   "cell_type": "markdown",
   "id": "689e44e0-a302-479e-9ad4-3060f88f6c33",
   "metadata": {},
   "source": [
    "    Ans) DML stands for Data Manipulation language. It is a subset of SQL that is used to interact with and manipulate data stored in a database. DML commands allow us to insertm update, ad delete data in database tables, as well as retreive data using various querying techniques.\n",
    "    INSERT: Used to insert row in a table.\n",
    "        insert into students (name, id, class) values(krishna, 2, 10);\n",
    "        \n",
    "    UPDATE: Used to updata exiting data in the table.\n",
    "        updata students set name = 'Kanha' where id=2;\n",
    "        \n",
    "    DELETE: Used to delete data in a table.\n",
    "        delete from student where id=2;"
   ]
  },
  {
   "cell_type": "markdown",
   "id": "913689ff-8c86-4417-b8df-b834d28d4540",
   "metadata": {},
   "source": [
    "Q4. What is DQL? Explain SELECT with an example."
   ]
  },
  {
   "cell_type": "markdown",
   "id": "f62efee1-74e1-4559-825d-afde4b48b62e",
   "metadata": {},
   "source": [
    "    Ans) DQL stands for Data Query Language. DQL commands are used to poeform searches, retureve specific information, and filter data based on specified criteria.\n",
    "    \n",
    "    In essence, DQL commands are all about qurying a database to obtain the desired information. The primary DQL command is\"\n",
    "    SELECT: Used to retrieve data from one or mre tables based on specific conditions and criteria. It is the core command for qurying a database and is essential for extracting meaningful insights from stored data.\n",
    "    \n",
    "        select * from students;\n",
    "        select name, class from student where id=2;"
   ]
  },
  {
   "cell_type": "markdown",
   "id": "bb7e1420-bb65-47a2-a4cf-e04095c4b24d",
   "metadata": {},
   "source": [
    "Q5. Explain Primary Key and Foreign Key."
   ]
  },
  {
   "cell_type": "markdown",
   "id": "5e2328c9-66eb-425d-873c-b722f4af2981",
   "metadata": {},
   "source": [
    "    Ans) Primary key is a unique identifier for each row in a table. It ensures that each record can be uniquely identified and that not two records have the same primary kwy value.\n",
    "    The primary key serves as the main method of uniquely identifying and accessing data in a table. It is used to enforce entity integrity, meaning that every row in the table is distinct. It ensures that NULL is not allowed.\n",
    "    \n",
    "    Foreign key: A foreign key is a column or set of columns in one table that is used to establish a link between the data in two tables. It references the primary key of anoher table and creates a relationship between them. It cerates referential integrity."
   ]
  },
  {
   "cell_type": "markdown",
   "id": "03b55e30-ba90-4e79-bbbe-75b8ad76902d",
   "metadata": {},
   "source": [
    "Q6. Write a python code to connect MySQL to python. Explain the cursor() and execute() method."
   ]
  },
  {
   "cell_type": "code",
   "execution_count": 2,
   "id": "14d9afd1-26e3-4eb3-99c7-878387fbc321",
   "metadata": {},
   "outputs": [
    {
     "ename": "ModuleNotFoundError",
     "evalue": "No module named 'sql'",
     "output_type": "error",
     "traceback": [
      "\u001b[0;31m---------------------------------------------------------------------------\u001b[0m",
      "\u001b[0;31mModuleNotFoundError\u001b[0m                       Traceback (most recent call last)",
      "Cell \u001b[0;32mIn[2], line 1\u001b[0m\n\u001b[0;32m----> 1\u001b[0m \u001b[38;5;28;01mimport\u001b[39;00m \u001b[38;5;21;01msql\u001b[39;00m\u001b[38;5;21;01m.\u001b[39;00m\u001b[38;5;21;01mconnector\u001b[39;00m\n",
      "\u001b[0;31mModuleNotFoundError\u001b[0m: No module named 'sql'"
     ]
    }
   ],
   "source": [
    "import mysql.connector as mc\n",
    "\n",
    "mydb = mc.connect(\n",
    "    host='localhost',\n",
    "    user='abc',\n",
    "    password='password'\n",
    ")\n",
    "\n",
    "mycursor = mydb.cursor()\n",
    "\n",
    "mycursor.execute('create database students;')\n",
    "mycursor.execute('use students;')\n",
    "mycursor.execute('create table student (name varchar(100), id integer(2) primary key);')\n",
    "mycursor.execute('insert into student values(\"kanha\", 32);')\n",
    "mydb.commit()\n",
    "mydb.close()"
   ]
  },
  {
   "cell_type": "markdown",
   "id": "33e3a29d-600b-46b5-be3e-220cb51dd63a",
   "metadata": {},
   "source": [
    "Ans) .cursor() makes it possible, with its functions to carry out queries in the db object.\n",
    "execute() is used to run the queries of sql through python."
   ]
  },
  {
   "cell_type": "markdown",
   "id": "a3ed4c07-79a7-4877-9013-95cda81da7c5",
   "metadata": {},
   "source": [
    "Q7. Give the order of execution of SQL clauses in an SQL query."
   ]
  },
  {
   "cell_type": "markdown",
   "id": "836f80bc-617b-4666-8f42-aac337a0fcd7",
   "metadata": {},
   "source": [
    "    Ans) FROM > WHERE > GROUP BY> HAVING> SELECT etc"
   ]
  },
  {
   "cell_type": "code",
   "execution_count": null,
   "id": "a66ca8bd-9fc6-4103-bc95-f62361f80e7f",
   "metadata": {},
   "outputs": [],
   "source": []
  }
 ],
 "metadata": {
  "kernelspec": {
   "display_name": "Python 3 (ipykernel)",
   "language": "python",
   "name": "python3"
  },
  "language_info": {
   "codemirror_mode": {
    "name": "ipython",
    "version": 3
   },
   "file_extension": ".py",
   "mimetype": "text/x-python",
   "name": "python",
   "nbconvert_exporter": "python",
   "pygments_lexer": "ipython3",
   "version": "3.10.8"
  }
 },
 "nbformat": 4,
 "nbformat_minor": 5
}
