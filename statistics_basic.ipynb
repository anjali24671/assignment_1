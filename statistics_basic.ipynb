{
 "cells": [
  {
   "cell_type": "markdown",
   "id": "6733d7e4-1991-4afa-afeb-3b32a89e8321",
   "metadata": {},
   "source": [
    "Q1. What is Statistics?"
   ]
  },
  {
   "cell_type": "markdown",
   "id": "1ccfd899-c082-44f9-96da-a5b126da682f",
   "metadata": {},
   "source": [
    "Ans) \n",
    "- Statistics is the process of collecting, analyszing and interpreting data. \n",
    "- It is capable of summerizing and describing data as well as inferencing and predicting the outcomes of populations based on the collected data.\n",
    "- It is extensively used in Artificial Intelligence, Data Science and machine learning.\n",
    "- It can be used in machine learning algorithms, allowing you to extract meaningful information from vast data."
   ]
  },
  {
   "cell_type": "markdown",
   "id": "c3c171c9-f785-4266-940d-17955c6cccf3",
   "metadata": {},
   "source": [
    "Q2. Define the different types of statistics and give an example of when each type might be used."
   ]
  },
  {
   "cell_type": "markdown",
   "id": "3e96b5ce-217c-4f8f-985e-781bfb5c553c",
   "metadata": {},
   "source": [
    "Ans) Statistics can be broadly classified into two categories:\n",
    "\n",
    "Discriptive Statistics:\n",
    "\n",
    "In descriptive statistics, the main focus is on understanding tha data and summarizing data. Here we measure central tendency: mean, median and mode; dispersion: Variance and standard deviation; and distribute data using probability distribution functions.\n",
    "\n",
    "Inferential Statistics\n",
    "\n",
    "In Inferencial statistics, the main focus is on making inferences about the populations by studying the data of a small sample. Studying the whole population is not feasible in terms of time and money. So, we take a small sample, collect its data and study it. The results obtained are used to represent the population. The techniques used are z-test, t-test chi-test and more."
   ]
  },
  {
   "cell_type": "code",
   "execution_count": null,
   "id": "71df5c67-19b2-45f5-abda-3515a647cecb",
   "metadata": {},
   "outputs": [],
   "source": [
    "Q3. What are the different types of data and how do they differ from each other? Provide an example of\n",
    "each type of data."
   ]
  },
  {
   "cell_type": "markdown",
   "id": "4fac1708-65f4-434a-94d7-cf3db8916b6a",
   "metadata": {},
   "source": [
    "Ans) The data is divided mainly into two categories and to further subcategories:\n",
    "                                                            \n",
    "                                                             Data\n",
    "                                                            /   \\\n",
    "                                                  Qualitative   Quantitative \n",
    "                                                 /     \\           /    \\\n",
    "                                            nominal   ordinal  discrete  continuous\n",
    "                                            \n",
    "- Quantitaive:\n",
    "When the data is the repersentation of quantity of something.\n",
    "    - Discrete: They are discrete values, which are whole numbers. eg: 23, 78, 09\n",
    "    - Continuous: They occur in a contiuous space. eg: (23.5 - 56.0)\n",
    "    \n",
    "- Qualitative:\n",
    "    - Nominal: specifies different classes, with equal importance, eg: farenhreit, celcius, kelvin\n",
    "    - Ordinal: specifies classes with unequal, ranked importance, eg: good, better, best\n",
    "    "
   ]
  },
  {
   "cell_type": "raw",
   "id": "3dd380a5-4da3-4a9c-9aa9-a217c7d7248b",
   "metadata": {},
   "source": [
    "Q4. Categorise the following datasets with respect to quantitative and qualitative data types:\n",
    "(i) Grading in exam: A+, A, B+, B, C+, C, D, E\n",
    "(ii) Colour of mangoes: yellow, green, orange, red\n",
    "(iii) Height data of a class: [178.9, 179, 179.5, 176, 177.2, 178.3, 175.8,...]\n",
    "(iv) Number of mangoes exported by a farm: [500, 600, 478, 672, ...]"
   ]
  },
  {
   "cell_type": "code",
   "execution_count": null,
   "id": "fd1762a4-a629-4f8b-ba80-277e3ed3b81c",
   "metadata": {},
   "outputs": [],
   "source": [
    "(i) Qualitative, ordinal\n",
    "(ii) Qualitative, nominal\n",
    "(iii) Quantitative, continuous\n",
    "(iv) Qunatitative, discrete"
   ]
  },
  {
   "cell_type": "markdown",
   "id": "c5fdf97d-6e0a-42aa-83bf-4d9834a103e4",
   "metadata": {},
   "source": [
    "Q5. Explain the concept of levels of measurement and give an example of a variable for each level."
   ]
  },
  {
   "cell_type": "markdown",
   "id": "7a6a9f01-0b12-41b3-a66a-fb4b1fee3cec",
   "metadata": {},
   "source": [
    "Ans) \n",
    "Level of measurement also known as scales of measurement are different ways in which different types of data can be categorized, measured and analyzed. As we know, data is various types and each type is different from the other one. To work with them, we need different methods and that's when scales of meaurement slides in.\n",
    "\n",
    "There are four main scales:\n",
    "- Nominal scale:\n",
    "    Used to analyze Qualitative, nominal data such as gender, units of distance, etc. The frequency of each categorie can be calulated.The difference between different values cannot be measured. There are no ranks.\n",
    "    \n",
    "- Ordinal scale\n",
    "    Used to analyze Qualitataive, ordinal data such as ranks in indian army, best schools, etc. It allows for the comparison of relative values. However, the difference between values cannot be measured.\n",
    "    \n",
    "- Interval scale:\n",
    "    Used to analyze Qunatitative data such as numerical data. The difference between data values can be measured. We can perform different mathemetical operation as well, but it doesnt have a true zero value which shows emptiness. eg: temperature: zero temperature doesn't mean there's no temperature.\n",
    "    \n",
    "- Ratio scale:\n",
    "    Used to analyze Qunatitative data such as numerical data. The difference between data values can be measured. We can perform different mathemetical operation as well, and unlike interval scale, it has a zero value."
   ]
  },
  {
   "cell_type": "markdown",
   "id": "0c39d562-2f6d-4a26-9afe-ac4ca010ff89",
   "metadata": {},
   "source": [
    "Q6. Why is it important to understand the level of measurement when analyzing data? Provide an\n",
    "example to illustrate your answer."
   ]
  },
  {
   "cell_type": "raw",
   "id": "ccbfd01f-6ab3-44c9-a5d2-12f0342dfb73",
   "metadata": {},
   "source": [
    "Ans) Data can be of many types. Treating one type like another is going to mislead the calculations and hence making the results inaccurate.\n",
    "This is why it gets important for us to use the right level of measurement.\n",
    "\n",
    "Let's understant with an example:\n",
    "let the data represent different temperatures: -20, 30, 50, 2,-5,-7\n",
    "\n",
    "This should get an interval scale, but we'll choose ratio scale, where 0 is true and is equivalent to being EMPTY.\n",
    "When the temperature is 0, it doesn't mean that there's no temperature at all. Which makes it nonsense.\n",
    "Hence using inappropriate scale leads to misleading analysis.\n",
    "\n",
    "This is why, we'll use the appropriate scale i.e., interval scale of measurement."
   ]
  },
  {
   "cell_type": "markdown",
   "id": "dae2c286-8248-48a7-9eed-a8488645ebdf",
   "metadata": {},
   "source": [
    "Q7. How nominal data type is different from ordinal data type."
   ]
  },
  {
   "cell_type": "raw",
   "id": "fc4a3daa-e00d-4778-b610-07b9f6f80b1f",
   "metadata": {},
   "source": [
    "Both nominal and ordinal data types lie under the category of quallitative data.\n",
    "Both of them represents the qualities of objects which cannot be measured. They are pretty similar, but there certain ley differences which set them apart form eaach other:\n",
    "\n",
    "\n",
    "- Nominal data:\n",
    "    They categorize the data in different classes such no class is greater or lesser than another, all           classes hold the same importance.  eg: male, Female(male is not greater than female and vice versa)\n",
    "    \n",
    "    \n",
    "\n",
    "- Ordinal data:\n",
    "    They categorize data in different classes such that, they have hierarchy between each other. One class       is greater than the other. \n",
    "    \n",
    "    eg: police inspector < chief minister < prime minister < president"
   ]
  },
  {
   "cell_type": "markdown",
   "id": "734f18e7-eb63-49d1-a704-99ee46b426a5",
   "metadata": {},
   "source": [
    "Q8. Which type of plot can be used to display data in terms of range?"
   ]
  },
  {
   "cell_type": "raw",
   "id": "6adf65d4-37d0-445b-aa8d-c2e7beddac99",
   "metadata": {},
   "source": [
    "Ans)\n",
    "A type of plot commonly used to display data in terms of range is a box plot, also known as a box-and-whisker plot. Box plots are particularly effective for visualizing the distribution of data, including its spread and central tendency, as well as identifying potential outliers.\n",
    "In a box plot, the key components that represent the range of the data are:\n",
    "\n",
    "- Box: \n",
    "    The box itself represents the interquartile range (IQR), which spans from the lower quartile (25th           percentile) to the upper quartile (75th percentile). The width of the box illustrates the spread of the     middle 50% of the data.\n",
    "\n",
    "- Whiskers: \n",
    "    The whiskers extend from the box to the minimum and maximum values within a certain range, often             determined by a specified criterion (e.g., 1.5 times the IQR). Whiskers provide insights into the extent     of the data beyond the interquartile range.\n",
    "\n",
    "- Median Line: \n",
    "    A line within the box represents the median (50th percentile) of the data, indicating the central           tendency.\n",
    "\n",
    "- Outliers:\n",
    "    Outliers, if present, are typically plotted as individual data points outside the whiskers. They can         provide insights into unusual observations or potential data anomalies."
   ]
  },
  {
   "cell_type": "code",
   "execution_count": null,
   "id": "1c294f8f-995e-4c16-8f9f-1418eeef9580",
   "metadata": {},
   "outputs": [],
   "source": [
    "Q9. Describe the difference between descriptive and inferential statistics. Give an example of each\n",
    "type of statistics and explain how they are used."
   ]
  },
  {
   "cell_type": "code",
   "execution_count": null,
   "id": "4bddf3e4-77e5-4da1-87e3-e7470efab028",
   "metadata": {},
   "outputs": [],
   "source": [
    "Q10. What are some common measures of central tendency and variability used in statistics? Explain\n",
    "how each measure can be used to describe a dataset.\n"
   ]
  }
 ],
 "metadata": {
  "kernelspec": {
   "display_name": "Python 3 (ipykernel)",
   "language": "python",
   "name": "python3"
  },
  "language_info": {
   "codemirror_mode": {
    "name": "ipython",
    "version": 3
   },
   "file_extension": ".py",
   "mimetype": "text/x-python",
   "name": "python",
   "nbconvert_exporter": "python",
   "pygments_lexer": "ipython3",
   "version": "3.10.8"
  }
 },
 "nbformat": 4,
 "nbformat_minor": 5
}
