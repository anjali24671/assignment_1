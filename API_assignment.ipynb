{
 "cells": [
  {
   "cell_type": "code",
   "execution_count": null,
   "id": "6279e75a-cf17-43d0-85a0-2c3f55d9efb2",
   "metadata": {},
   "outputs": [],
   "source": [
    "Q1. What is an API? Give an example, where an API is used in real life."
   ]
  },
  {
   "cell_type": "markdown",
   "id": "7f4f224e-97a3-4ea5-aef5-45def94f26f5",
   "metadata": {},
   "source": [
    "    Ans) An API stands for Application programmable interface. It is an intermediatery between two or more applications, allowing them to communicate effectively without the need to understand each others internal code. It helps developers to build new applications on top of already build application services, without the need to concern over the internal conversion of format( programming language). \n",
    "    An example is uber, which let's us book taxis, and show us the map of the current area. But it doesn't know how to make map, instead it relies on a third party to access and use map. For this purpose it uses API."
   ]
  },
  {
   "cell_type": "code",
   "execution_count": null,
   "id": "a6326944-9a88-40ad-8cd6-cc59560a4932",
   "metadata": {},
   "outputs": [],
   "source": [
    "Q2. Give advantages and disadvantages of using API."
   ]
  },
  {
   "cell_type": "markdown",
   "id": "cc162e86-9fd1-4203-9ebc-4bc6cbc8f145",
   "metadata": {},
   "source": [
    "    Ans) Advantages:\n",
    "    \n",
    "    - interoperablity: different softwares can work with each other even when they built on entirely different platforms or technologies.\n",
    "    \n",
    "    - Reusability: code can be reused by exposing them in a standardrized way with the help of API.\n",
    "    \n",
    "    Disadvantages:\n",
    "    \n",
    "    - Dependency on external services: If softwares rely too much on external services then if anything happens to the source, our application will be vulnerable.\n",
    "    \n",
    "    - Lack of Control: developers have limited control over the sevice."
   ]
  },
  {
   "cell_type": "code",
   "execution_count": null,
   "id": "d19d62ec-b728-4cd3-9f85-f3c3279b9a71",
   "metadata": {},
   "outputs": [],
   "source": [
    "Q3. What is a Web API? Differentiate between API and Web API."
   ]
  },
  {
   "cell_type": "markdown",
   "id": "39d8c4e9-f809-4c2c-b2d2-cf87975dfd1a",
   "metadata": {},
   "source": [
    "    Ans) APIs which renders services through web are called web APIs. They do so through HTTP. They are exposed by web servers and allow client apps to request and exchenge data with the server in a standardized format(json or xml). Whereas other api can helpp us to communicate in other contexts like hardware, operating system, database etc."
   ]
  },
  {
   "cell_type": "code",
   "execution_count": null,
   "id": "2f72224d-4cdf-4ca0-b202-25059eda7ef3",
   "metadata": {},
   "outputs": [],
   "source": [
    "Q4. Explain REST and SOAP Architecture. Mention shortcomings of SOAP."
   ]
  },
  {
   "cell_type": "markdown",
   "id": "7dccdc49-a7ab-4fa8-a1cc-3696436c5a7e",
   "metadata": {},
   "source": [
    "    Ans) Rest standands for representational state transfer. It uses HTTP protocols for communication. It uses flexible formats like json, xml, etc.\n",
    "    \n",
    "    Soap stands for simple object access protocol. It uses rigid formats like xml for data tansfer. It is more rigid than rest. It is stateful,"
   ]
  },
  {
   "cell_type": "code",
   "execution_count": null,
   "id": "9ffaea76-2c39-4448-a867-31659ce03bfe",
   "metadata": {},
   "outputs": [],
   "source": [
    "Q5. Differentiate between REST and SOAP."
   ]
  }
 ],
 "metadata": {
  "kernelspec": {
   "display_name": "Python 3 (ipykernel)",
   "language": "python",
   "name": "python3"
  },
  "language_info": {
   "codemirror_mode": {
    "name": "ipython",
    "version": 3
   },
   "file_extension": ".py",
   "mimetype": "text/x-python",
   "name": "python",
   "nbconvert_exporter": "python",
   "pygments_lexer": "ipython3",
   "version": "3.10.8"
  }
 },
 "nbformat": 4,
 "nbformat_minor": 5
}
