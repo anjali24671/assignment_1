{
 "cells": [
  {
   "cell_type": "markdown",
   "id": "bf44839f-7e65-4705-8c0d-3a04ce348637",
   "metadata": {},
   "source": [
    "Q1. What is multiprocessing in python? Why is it useful?"
   ]
  },
  {
   "cell_type": "markdown",
   "id": "2d8cd9e2-5c28-401a-962e-b5a0efa8a244",
   "metadata": {},
   "source": [
    "    Ans) When two or more processes takes place simulataneously in different processors, it is called multiprocessing. It is useful for speed and performance.\n",
    "    "
   ]
  },
  {
   "cell_type": "markdown",
   "id": "d0aba9f4-39d2-4c34-8c62-04212493930d",
   "metadata": {},
   "source": [
    "Q2. What are the differences between multiprocessing and multithreading?"
   ]
  },
  {
   "cell_type": "markdown",
   "id": "0a8f22d0-8c72-4720-bc26-4297cc7165fb",
   "metadata": {},
   "source": [
    "    Ans) In multiprocessing, multiple processes( programs) executes at the same time, but in different processors. In multithreading, two or more programs execute CONCURRENTLY:  lets say a program is executing, if it gets free time in between, it will shift its focus to another program , when it again gets time, it will switch to another( if there are more than two threads) or the previous thread(if it only has two thread)."
   ]
  },
  {
   "cell_type": "markdown",
   "id": "21d18232-35db-4101-b349-3f4973244c8f",
   "metadata": {},
   "source": [
    "Q3. Write a python code to create a process using the multiprocessing module."
   ]
  },
  {
   "cell_type": "code",
   "execution_count": 3,
   "id": "b6c6b15a-59e1-4660-b22a-1d38e027b72e",
   "metadata": {},
   "outputs": [
    {
     "name": "stdout",
     "output_type": "stream",
     "text": [
      "hello 1\n"
     ]
    }
   ],
   "source": [
    "import multiprocessing\n",
    "\n",
    "def sayHello(num):\n",
    "    print(\"hello {}\".format(num))\n",
    "\n",
    "if __name__ == '__main__':\n",
    "    procs = multiprocessing.Process(target=sayHello, args=(1,))\n",
    "    procs.start()"
   ]
  },
  {
   "cell_type": "markdown",
   "id": "c7a21805-d6b0-47eb-a36c-18d9e38e4059",
   "metadata": {},
   "source": [
    "Q4. What is a multiprocessing pool in python? Why is it used?"
   ]
  },
  {
   "cell_type": "markdown",
   "id": "d08dcab8-9c1b-4912-95ae-b7b1e694e351",
   "metadata": {},
   "source": [
    "    Ans)Pool in python is a technique of multiprocessing where a function is distributed to a number of worker processes."
   ]
  },
  {
   "cell_type": "markdown",
   "id": "fa6a2e60-93b4-4445-99bf-22abf2ebac61",
   "metadata": {},
   "source": [
    "Q5) How can we create a pool of worker processes in python using the multiprocessing module?"
   ]
  },
  {
   "cell_type": "code",
   "execution_count": 19,
   "id": "f926b1d7-3712-4d09-930e-7f9f141709ab",
   "metadata": {},
   "outputs": [
    {
     "name": "stdout",
     "output_type": "stream",
     "text": [
      "hello 1hello 3hello 4hello 2\n",
      "\n",
      "\n",
      "\n",
      "[None, None, None, None]\n"
     ]
    }
   ],
   "source": [
    "data =[1,2,3,4]\n",
    "\n",
    "with multiprocessing.Pool(processes = 4) as pool:\n",
    "    res = pool.map(sayHello, data)\n",
    "    "
   ]
  },
  {
   "cell_type": "markdown",
   "id": "3278eab0-fb36-4add-b100-01239bd5e9eb",
   "metadata": {},
   "source": [
    "Q6) Write a python program to create 4 processes, each process should print a different number using the\n",
    "multiprocessing module in python."
   ]
  },
  {
   "cell_type": "code",
   "execution_count": 4,
   "id": "93089eed-f824-41ef-8a16-e86e62950e7b",
   "metadata": {},
   "outputs": [
    {
     "name": "stdout",
     "output_type": "stream",
     "text": [
      "3124\n",
      "\n",
      "\n",
      "\n"
     ]
    }
   ],
   "source": [
    "def print_number(num):\n",
    "    print(num)\n",
    "    \n",
    "data =[1,2,3,4]\n",
    "\n",
    "with multiprocessing.Pool(processes = 4) as pool:\n",
    "    res = pool.map(print_number, data)"
   ]
  }
 ],
 "metadata": {
  "kernelspec": {
   "display_name": "Python 3 (ipykernel)",
   "language": "python",
   "name": "python3"
  },
  "language_info": {
   "codemirror_mode": {
    "name": "ipython",
    "version": 3
   },
   "file_extension": ".py",
   "mimetype": "text/x-python",
   "name": "python",
   "nbconvert_exporter": "python",
   "pygments_lexer": "ipython3",
   "version": "3.10.8"
  }
 },
 "nbformat": 4,
 "nbformat_minor": 5
}
