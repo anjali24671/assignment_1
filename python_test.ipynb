{
 "cells": [
  {
   "cell_type": "code",
   "execution_count": 1,
   "metadata": {},
   "outputs": [
    {
     "name": "stdout",
     "output_type": "stream",
     "text": [
      "11\n"
     ]
    }
   ],
   "source": [
    "# Q1\n",
    "def add_numbers(a, b):\n",
    "    '''Adds two numbers and return the result'''\n",
    "    return a+b\n",
    "\n",
    "print( add_numbers(5,6))"
   ]
  },
  {
   "cell_type": "markdown",
   "metadata": {},
   "source": []
  },
  {
   "cell_type": "code",
   "execution_count": 3,
   "metadata": {},
   "outputs": [
    {
     "name": "stdout",
     "output_type": "stream",
     "text": [
      "25.0\n"
     ]
    }
   ],
   "source": [
    "# Q2\n",
    "def sqroot(num):\n",
    "    ''' calculates the square root of a number'''\n",
    "    import math\n",
    "    print(math.sqrt(num))\n",
    "\n",
    "sqroot(625)"
   ]
  },
  {
   "cell_type": "code",
   "execution_count": 7,
   "metadata": {},
   "outputs": [
    {
     "name": "stdout",
     "output_type": "stream",
     "text": [
      "2\n",
      "3\n",
      "5\n",
      "7\n",
      "11\n",
      "13\n",
      "17\n",
      "19\n",
      "23\n",
      "29\n",
      "31\n",
      "37\n",
      "41\n",
      "43\n",
      "47\n"
     ]
    }
   ],
   "source": [
    "# Q3\n",
    "def print_prime():\n",
    "    '''prints all prime numbers between 0 to 50'''\n",
    "\n",
    "    for i in range(2,51):\n",
    "        count =0\n",
    "        for j in range(2, i+1):\n",
    "            if i%j==0 & (j==i | j==1):\n",
    "                count += 1\n",
    "        \n",
    "        if count==1:\n",
    "            print(i)\n",
    "    \n",
    "print_prime()\n"
   ]
  },
  {
   "cell_type": "code",
   "execution_count": 9,
   "metadata": {},
   "outputs": [
    {
     "name": "stdout",
     "output_type": "stream",
     "text": [
      "9 5 8\n"
     ]
    }
   ],
   "source": [
    "# Q4\n",
    "def swap_three(a, b, c):\n",
    "    '''swaps three numbers w/o using additional variables'''\n",
    "    \n",
    "    a = a+b+c\n",
    "    b = a-(b+c)\n",
    "    c = a-(b+c)\n",
    "    a = a-(b+c)\n",
    "    print(a, b, c)\n",
    "\n",
    "swap_three(5,8,9)"
   ]
  },
  {
   "cell_type": "code",
   "execution_count": 11,
   "metadata": {},
   "outputs": [
    {
     "name": "stdout",
     "output_type": "stream",
     "text": [
      "negative\n",
      "positive\n",
      "zero\n"
     ]
    }
   ],
   "source": [
    "# Q5\n",
    " \n",
    "def nature(num):\n",
    "    '''to determine if the number is positive, negative or zero'''\n",
    "    if num>0:\n",
    "        print(\"positive\")\n",
    "    \n",
    "    elif num<0:\n",
    "        print(\"negative\")\n",
    "    else:\n",
    "        print(\"zero\")\n",
    "    \n",
    "nature(-54)\n",
    "nature(95)\n",
    "nature(00)"
   ]
  },
  {
   "cell_type": "code",
   "execution_count": 13,
   "metadata": {},
   "outputs": [
    {
     "name": "stdout",
     "output_type": "stream",
     "text": [
      "even\n",
      "odd\n"
     ]
    }
   ],
   "source": [
    "# Q6\n",
    "\n",
    "def even_odd(num):\n",
    "    '''determines whether a given number is even or odd'''\n",
    "\n",
    "    if num%2 == 0:\n",
    "        print(\"even\")\n",
    "    else:\n",
    "        print(\"odd\")\n",
    "\n",
    "even_odd(2)\n",
    "even_odd(1)"
   ]
  },
  {
   "cell_type": "code",
   "execution_count": 15,
   "metadata": {},
   "outputs": [
    {
     "name": "stdout",
     "output_type": "stream",
     "text": [
      "25\n"
     ]
    }
   ],
   "source": [
    "# Q7\n",
    "def sum_of_digits(num):\n",
    "    '''returns the sum of digits'''\n",
    "    sum =0\n",
    "    while(num!=0):\n",
    "        digit = num%10\n",
    "        num = int(num/10)\n",
    "        sum += digit\n",
    "    \n",
    "    print(sum)\n",
    "\n",
    "sum_of_digits(76543)"
   ]
  },
  {
   "cell_type": "code",
   "execution_count": 19,
   "metadata": {},
   "outputs": [
    {
     "name": "stdout",
     "output_type": "stream",
     "text": [
      "6345\n"
     ]
    }
   ],
   "source": [
    "# Q8\n",
    "def reverse_num(num):\n",
    "    '''reverses a number'''\n",
    "\n",
    "    reverse = 0\n",
    "    while(num!=0):\n",
    "        digit = num%10\n",
    "        num = int(num/10)\n",
    "        reverse *=10 \n",
    "        reverse += digit\n",
    "\n",
    "    print(reverse)\n",
    "\n",
    "reverse_num(5436)"
   ]
  },
  {
   "cell_type": "code",
   "execution_count": 25,
   "metadata": {},
   "outputs": [
    {
     "name": "stdout",
     "output_type": "stream",
     "text": [
      "True\n"
     ]
    }
   ],
   "source": [
    "# Q9\n",
    "def is_armstrong(num):\n",
    "    '''returns true for armstrong number and false otherwise'''\n",
    "    sum =0\n",
    "    num_value = num\n",
    "    while(num!=0):\n",
    "        digit = num%10\n",
    "        num = int(num/10)\n",
    "        sum += digit**3\n",
    "    \n",
    "    print(sum==num_value)\n",
    "\n",
    "is_armstrong(371)"
   ]
  },
  {
   "cell_type": "code",
   "execution_count": 32,
   "metadata": {},
   "outputs": [
    {
     "data": {
      "text/plain": [
       "True"
      ]
     },
     "execution_count": 32,
     "metadata": {},
     "output_type": "execute_result"
    }
   ],
   "source": [
    "# Q10\n",
    "def is_leap(year):\n",
    "    '''returns true if a year is leap'''\n",
    "\n",
    "    if( year%100==0 and year%400==0):\n",
    "        return True\n",
    "    elif( year%100!=0 and year%4==0):\n",
    "        return True\n",
    "    else:\n",
    "        return False\n",
    "    \n",
    "is_leap(1996)"
   ]
  },
  {
   "cell_type": "code",
   "execution_count": 39,
   "metadata": {},
   "outputs": [
    {
     "name": "stdout",
     "output_type": "stream",
     "text": [
      "[2, 3, 4, 5, 6, 'apple', 'mango', 'banana', 'grapes', 'orange']\n",
      "[2, 3, 4, 5, 6, 'apple', 'mango', 'banana', 'grapes']\n"
     ]
    }
   ],
   "source": [
    "# Q11\n",
    "a = [2,3,4,5,6,7]\n",
    "a.append('mango')\n",
    "a.append('banana')\n",
    "a.append('grapes')\n",
    "a.append('orange')\n",
    "\n",
    "a[5] = 'apple'\n",
    "print(a)\n",
    "a.pop()\n",
    "print(a)"
   ]
  },
  {
   "cell_type": "code",
   "execution_count": 40,
   "metadata": {},
   "outputs": [
    {
     "data": {
      "text/plain": [
       "[2, 3, 4]"
      ]
     },
     "execution_count": 40,
     "metadata": {},
     "output_type": "execute_result"
    }
   ],
   "source": [
    "# Q12\n",
    "L = [1,2,3,4,5,6,7]\n",
    "L[1:4]"
   ]
  },
  {
   "cell_type": "code",
   "execution_count": 47,
   "metadata": {},
   "outputs": [
    {
     "name": "stdout",
     "output_type": "stream",
     "text": [
      "[3, 8, 6, 5, 4]\n"
     ]
    }
   ],
   "source": [
    "# Q13\n",
    "\n",
    "Lst = [4,5,6,8,3]\n",
    "def reverse_l(L):\n",
    "    last_ind = len(L)-1\n",
    "\n",
    "    for i in range( int(last_ind/2)+1 ):\n",
    "        # swap elements L[i] and L[lengt - i]\n",
    "        temp = L[i]\n",
    "        L[i] = L[last_ind-i]\n",
    "        L[last_ind-i] = temp\n",
    "    print(L)\n",
    "\n",
    "reverse_l(Lst)"
   ]
  },
  {
   "cell_type": "code",
   "execution_count": 48,
   "metadata": {},
   "outputs": [
    {
     "data": {
      "text/plain": [
       "[4, 16, 49, 9, 36, 64]"
      ]
     },
     "execution_count": 48,
     "metadata": {},
     "output_type": "execute_result"
    }
   ],
   "source": [
    "# Q14\n",
    "\n",
    "L=[2,4,7,3,6,8]\n",
    "L_sq = [ x**2 for x in L ]\n",
    "L_sq"
   ]
  },
  {
   "cell_type": "code",
   "execution_count": 50,
   "metadata": {},
   "outputs": [
    {
     "name": "stdout",
     "output_type": "stream",
     "text": [
      "10\n"
     ]
    }
   ],
   "source": [
    "# Q15\n",
    "from functools import reduce\n",
    "\n",
    "tp = (1,2,3,4)\n",
    "print(reduce(lambda a,b: a+b, tp ))"
   ]
  },
  {
   "cell_type": "code",
   "execution_count": 53,
   "metadata": {},
   "outputs": [
    {
     "name": "stdout",
     "output_type": "stream",
     "text": [
      "{1, 2, 3, 'apple', 'sea'}\n"
     ]
    }
   ],
   "source": [
    "# Q16\n",
    "\n",
    "set1 = {1,2,3}\n",
    "set2 = {'apple', 'sea'}\n",
    "\n",
    "print(set1.union(set2))"
   ]
  },
  {
   "cell_type": "code",
   "execution_count": 56,
   "metadata": {},
   "outputs": [
    {
     "data": {
      "text/plain": [
       "{1, 124, 2, 2342, 243, 4, 'Moana'}"
      ]
     },
     "execution_count": 56,
     "metadata": {},
     "output_type": "execute_result"
    }
   ],
   "source": [
    "# Q17\n",
    "\n",
    "set1 = {1,2342,2,243,124,4}\n",
    "set1.add('Moana')\n",
    "\n",
    "set1"
   ]
  },
  {
   "cell_type": "code",
   "execution_count": 59,
   "metadata": {},
   "outputs": [
    {
     "data": {
      "text/plain": [
       "{'Giraffe', 'Hermit Crab'}"
      ]
     },
     "execution_count": 59,
     "metadata": {},
     "output_type": "execute_result"
    }
   ],
   "source": [
    "# Q18\n",
    "set_animal = {'Badger', 'Giraffe', 'Hermit Crab'}\n",
    "set_animal.remove('Badger')\n",
    "set_animal"
   ]
  },
  {
   "cell_type": "code",
   "execution_count": 3,
   "metadata": {},
   "outputs": [
    {
     "name": "stdout",
     "output_type": "stream",
     "text": [
      "(('Pride and Prejudice', 'The Shawshank Redemption'), ('To Kill a Mockingbird', 'The Godfather'), ('1984', 'The Dark Knight'))\n"
     ]
    }
   ],
   "source": [
    "favorite_books = {\"1984\", \"To Kill a Mockingbird\", \"Pride and Prejudice\"}\n",
    "favorite_movies = [\"The Shawshank Redemption\", \"The Godfather\", \"The Dark Knight\"]\n",
    "\n",
    "x = zip(favorite_books,favorite_movies )\n",
    "print(tuple(x))"
   ]
  },
  {
   "cell_type": "code",
   "execution_count": 8,
   "metadata": {},
   "outputs": [
    {
     "name": "stdout",
     "output_type": "stream",
     "text": [
      "-1\n",
      "-1\n",
      "-1\n",
      "-1\n",
      "-1\n"
     ]
    }
   ],
   "source": [
    "# Q20\n",
    "l = [1,2,3,4,5,6]\n",
    "\n",
    "def cons_diff(lst):\n",
    "    for i in range(1, len(lst)):\n",
    "        print(lst[i-1]-lst[i])\n",
    "\n",
    "cons_diff(l)"
   ]
  },
  {
   "cell_type": "code",
   "execution_count": 10,
   "metadata": {},
   "outputs": [
    {
     "name": "stdout",
     "output_type": "stream",
     "text": [
      "1.25\n"
     ]
    }
   ],
   "source": [
    "# Q21\n",
    "\n",
    "d = {\"apple\": 0.75, \"banana\": 1.25, \"orange\": 0.90}\n",
    "print(d['banana'])"
   ]
  },
  {
   "cell_type": "code",
   "execution_count": 11,
   "metadata": {},
   "outputs": [
    {
     "name": "stdout",
     "output_type": "stream",
     "text": [
      "35\n"
     ]
    }
   ],
   "source": [
    "# Q22\n",
    "\n",
    "d={}\n",
    "d['Alice'] = 30\n",
    "d['Bob'] = 25\n",
    "d['Charlie'] = 35\n",
    "\n",
    "print(d['Charlie'])"
   ]
  },
  {
   "cell_type": "code",
   "execution_count": 19,
   "metadata": {},
   "outputs": [
    {
     "data": {
      "text/plain": [
       "{'hello': 2}"
      ]
     },
     "execution_count": 19,
     "metadata": {},
     "output_type": "execute_result"
    }
   ],
   "source": [
    "# Q24\n",
    "\n",
    "strg = \"hello world hello\"\n",
    "\n",
    "def word_count(st):\n",
    "    '''returns a dictionary containing the count of each word'''\n",
    "    import re\n",
    "    l = re.split(' ', st)\n",
    "    d ={}\n",
    "    for word in l:\n",
    "        d[word]=0\n",
    "        for other_word in l:\n",
    "            if word==other_word:\n",
    "                d[word] +=1\n",
    "                l.remove(word)\n",
    "    return d\n",
    "\n",
    "word_count(strg)\n"
   ]
  },
  {
   "cell_type": "code",
   "execution_count": 13,
   "metadata": {},
   "outputs": [
    {
     "name": "stdout",
     "output_type": "stream",
     "text": [
      "{'hello': 2, 'world': 1}\n"
     ]
    }
   ],
   "source": [
    "# Q25\n",
    "st = \"hello world hello\"\n",
    "\n",
    "import re\n",
    "# list keeps the words in string\n",
    "l = re.split(' ', st)\n",
    "# set keeps the unique words string\n",
    "st = set(l)\n",
    "d ={}\n",
    "\n",
    "# making a dictionary, having keys as the elem of list and value 0 for every elem\n",
    "for ele in l:\n",
    "    d[ele]=0\n",
    "\n",
    "for i in range(len(l)):\n",
    "    for j in range(len(st)):\n",
    "        if l[i] == l[j]:\n",
    "            d[l[i]] +=1\n",
    "print(d)"
   ]
  },
  {
   "cell_type": "code",
   "execution_count": 2,
   "metadata": {},
   "outputs": [
    {
     "name": "stdout",
     "output_type": "stream",
     "text": [
      "Too Low!\n"
     ]
    }
   ],
   "source": [
    "# Q26\n",
    "num = int(input(\"Enter a number( 1- 10): \"))\n",
    "if num<5:\n",
    "    print(\"Too Low!\")\n",
    "else:\n",
    "    print(\"Too High!\")"
   ]
  },
  {
   "cell_type": "code",
   "execution_count": 3,
   "metadata": {},
   "outputs": [
    {
     "name": "stdout",
     "output_type": "stream",
     "text": [
      "Access granted\n"
     ]
    }
   ],
   "source": [
    "# Q27\n",
    "passw = input(\"Enter password\")\n",
    "if passw == 'password123':\n",
    "    print(\"Access granted\")\n",
    "else:\n",
    "    print(\"Access denied\")\n"
   ]
  },
  {
   "cell_type": "code",
   "execution_count": 4,
   "metadata": {},
   "outputs": [
    {
     "name": "stdout",
     "output_type": "stream",
     "text": [
      "Too low\n"
     ]
    }
   ],
   "source": [
    "# Q28\n",
    "import random\n",
    "num = random.randint(1,100)\n",
    "guess = int(input(\"Guess the number: \"))\n",
    "\n",
    "if num > guess:\n",
    "    print(\"Too low\")\n",
    "elif num< guess:\n",
    "    print(\"too high!\")\n",
    "else:\n",
    "    print('You win')"
   ]
  },
  {
   "cell_type": "code",
   "execution_count": 5,
   "metadata": {},
   "outputs": [
    {
     "name": "stdout",
     "output_type": "stream",
     "text": [
      "You loose\n"
     ]
    }
   ],
   "source": [
    "# Q29\n",
    "num = random.randint(1,100)\n",
    "\n",
    "chance = 3\n",
    "while(chance!=0):\n",
    "    guess = int(input(\"Guess the number: \"))\n",
    "    if guess == num:\n",
    "        print('You Win')\n",
    "        break\n",
    "\n",
    "    if chance == 1:\n",
    "        print('You loose')\n",
    "    chance -=1"
   ]
  },
  {
   "cell_type": "code",
   "execution_count": 7,
   "metadata": {},
   "outputs": [
    {
     "name": "stdout",
     "output_type": "stream",
     "text": [
      "adult\n"
     ]
    }
   ],
   "source": [
    "# Q30\n",
    "age = int(input('Enter your age: '))\n",
    "\n",
    "if age >=0 and age <=12:\n",
    "    print('Child')\n",
    "elif age>=13 and age<=19:\n",
    "    print('teenager')\n",
    "elif age>=20 and age<=59:\n",
    "    print('adult')\n",
    "else:\n",
    "    print('senior')"
   ]
  },
  {
   "cell_type": "code",
   "execution_count": 9,
   "metadata": {},
   "outputs": [
    {
     "name": "stdout",
     "output_type": "stream",
     "text": [
      "Radha 23 female\n"
     ]
    }
   ],
   "source": [
    "# Q31\n",
    "\n",
    "class person:\n",
    "\n",
    "    def __init__(self, name, age, gender):\n",
    "        self.name = name\n",
    "        self.age = age\n",
    "        self.gender = gender\n",
    "    \n",
    "    def properties(self):\n",
    "        print(self.name , self.age, self.gender)\n",
    "\n",
    "p1 = person('Radha',23, 'female')\n",
    "p1.properties()"
   ]
  },
  {
   "cell_type": "code",
   "execution_count": 10,
   "metadata": {},
   "outputs": [
    {
     "name": "stdout",
     "output_type": "stream",
     "text": [
      "1035\n",
      "2070\n"
     ]
    }
   ],
   "source": [
    "# Q32\n",
    "class Rectangle:\n",
    "\n",
    "    def __init__(self, w, h):\n",
    "        self.width = w\n",
    "        self.height = h\n",
    "\n",
    "    def calcu_area(self):\n",
    "        return self.width * self.height\n",
    "    \n",
    "    def calcu_per(self):\n",
    "        return 2*(self.height * self.width)\n",
    "    \n",
    "r1 = Rectangle(23,45)\n",
    "print( r1.calcu_area() )\n",
    "print( r1.calcu_per() )"
   ]
  },
  {
   "cell_type": "code",
   "execution_count": 11,
   "metadata": {},
   "outputs": [],
   "source": [
    "# Q33\n",
    "\n",
    "class bankAccount:\n",
    "\n",
    "    def __init__(self, intr, blc=0):\n",
    "        self.balance = blc\n",
    "        self.interest_rate = intr\n",
    "\n",
    "    def deposit(self):\n",
    "        self.balance +=1\n",
    "\n",
    "    def withdraw(self):\n",
    "        pass\n",
    "\n",
    "    def calcu_inter(self):\n",
    "        pass"
   ]
  },
  {
   "cell_type": "code",
   "execution_count": 16,
   "metadata": {},
   "outputs": [
    {
     "name": "stdout",
     "output_type": "stream",
     "text": [
      "name: micheal\n",
      " specie: Dog\n",
      " breed: german shepherd\n",
      " owner: ramu \n"
     ]
    }
   ],
   "source": [
    "# Q34\n",
    "class Animal:\n",
    "\n",
    "    def __init__(self, name, species):\n",
    "        self.name = name\n",
    "        self.species = species\n",
    "\n",
    "class Dog(Animal):\n",
    "     \n",
    "    def __init__(self, name, breed, owner):\n",
    "            super().__init__(name, 'Dog')\n",
    "            self.breed = breed\n",
    "            self.owner = owner\n",
    "    def print_details(self):\n",
    "         print(f'name: {self.name}\\n specie: {self.species}\\n breed: {self.breed}\\n owner: {self.owner} ')\n",
    "\n",
    "dg = Dog('micheal', 'german shepherd', 'ramu')\n",
    "dg.print_details()\n"
   ]
  },
  {
   "cell_type": "code",
   "execution_count": 20,
   "metadata": {},
   "outputs": [
    {
     "name": "stdout",
     "output_type": "stream",
     "text": [
      "make: 23, model: 23x, year:  2003\n",
      "make: 23, model: 23x, year:  2003\n",
      "battery_size: very large, range: 2000\n"
     ]
    }
   ],
   "source": [
    "# Q35\n",
    "\n",
    "class Car:\n",
    "\n",
    "    def __init__(self, make,model, year):\n",
    "        self.make = make\n",
    "        self.model = model\n",
    "        self.year = year\n",
    "\n",
    "    def print_details(self):\n",
    "         print(f'make: {self.make}, model: {self.model}, year:  {self.year}')\n",
    "\n",
    "class ElectricCar(Car):\n",
    "     \n",
    "    def __init__(self, make, model, year, battery_size, range):\n",
    "            super().__init__( make, model, year)\n",
    "            self.battery_size = battery_size\n",
    "            self.range= range\n",
    "    \n",
    "    def print_details(self):\n",
    "        super().print_details()\n",
    "        print(f'battery_size: {self.battery_size}, range: {self.range}')\n",
    "\n",
    "cr = Car(23,'23x', 2003)\n",
    "cr.print_details()\n",
    "\n",
    "el_cr = ElectricCar(23,'23x', 2003, 'very large', 2000)\n",
    "el_cr.print_details()"
   ]
  },
  {
   "cell_type": "code",
   "execution_count": 21,
   "metadata": {},
   "outputs": [
    {
     "name": "stdout",
     "output_type": "stream",
     "text": [
      "name: krishna, id: 345\n",
      "name: radha, id: 346\n",
      "advisor: brahm, research_area: bhakti\n"
     ]
    }
   ],
   "source": [
    "# Q36\n",
    "class student:\n",
    "\n",
    "    def __init__(self, name, id):\n",
    "        self.make = name\n",
    "        self.model = id\n",
    "\n",
    "    def print_details(self):\n",
    "         print(f'name: {self.make}, id: {self.model}')\n",
    "\n",
    "class graduateStudent(student):\n",
    "     \n",
    "    def __init__(self, name, id, advisor,research_area ):\n",
    "            super().__init__(name, id)\n",
    "            self.battery_size = advisor\n",
    "            self.range= research_area\n",
    "    \n",
    "    def print_details(self):\n",
    "        super().print_details()\n",
    "        print(f'advisor: {self.battery_size}, research_area: {self.range}')\n",
    "\n",
    "cr = student('krishna', 345)\n",
    "cr.print_details()\n",
    "\n",
    "el_cr = graduateStudent('radha', 346, 'brahm', 'bhakti')\n",
    "el_cr.print_details()"
   ]
  },
  {
   "cell_type": "code",
   "execution_count": 24,
   "metadata": {},
   "outputs": [
    {
     "name": "stdout",
     "output_type": "stream",
     "text": [
      "area: 1904  perimeter: 3808\n",
      "area: 3631.681107549801  perimeter: 213.62830044410595\n"
     ]
    }
   ],
   "source": [
    "# 37\n",
    "from math import pi\n",
    "from abc import abstractmethod\n",
    "class shape:\n",
    "\n",
    "    @abstractmethod\n",
    "    def calcu_area(self):\n",
    "        pass\n",
    "\n",
    "    @abstractmethod\n",
    "    def calcu_per(self):\n",
    "        pass\n",
    "\n",
    "class Rectangle(shape):\n",
    "\n",
    "    def __init__(self, w, h):\n",
    "        self.width = w\n",
    "        self.height = h\n",
    "\n",
    "    def calcu_area(self):\n",
    "        self.area = self.width * self.height\n",
    "    \n",
    "    def calcu_per(self):\n",
    "        self.perimeter= 2*(self.height * self.width)\n",
    "    \n",
    "class circle(shape):\n",
    "\n",
    "    def __init__(self,r):\n",
    "        self.radius = r\n",
    "\n",
    "    def calcu_area(self):\n",
    "        self.area= pi * (self.radius**2)\n",
    "    \n",
    "    def calcu_per(self):\n",
    "        self.perimeter = 2*pi* self.radius\n",
    "    \n",
    "r = Rectangle(34,56)\n",
    "r.calcu_area()\n",
    "r.calcu_per()\n",
    "print(f'area: {r.area}  perimeter: {r.perimeter}')\n",
    "\n",
    "c = circle(34)\n",
    "c.calcu_area()\n",
    "c.calcu_per()\n",
    "print(f'area: {c.area}  perimeter: {c.perimeter}')\n",
    "        \n",
    "    "
   ]
  },
  {
   "cell_type": "code",
   "execution_count": 27,
   "metadata": {},
   "outputs": [
    {
     "name": "stdout",
     "output_type": "stream",
     "text": [
      "salary: 10000000\n",
      "salary after raise: 10000200\n",
      "annual salary: 120000000\n"
     ]
    }
   ],
   "source": [
    "# 38\n",
    "\n",
    "class employee:\n",
    "\n",
    "    def __init__(self, name,id, salary):\n",
    "        self.name = name\n",
    "        self.id = id\n",
    "        self.salary = salary\n",
    "        self.annual_sal = self.salary*12\n",
    "\n",
    "    def raise_sal(self, r):\n",
    "        self.salary +=r\n",
    "    \n",
    "e = employee('radhe', 2,10000000)\n",
    "print(f'salary: {e.salary}')\n",
    "\n",
    "e.raise_sal(200)\n",
    "print(f'salary after raise: {e.salary}')\n",
    "\n",
    "print(f'annual salary: {e.annual_sal}')"
   ]
  },
  {
   "cell_type": "code",
   "execution_count": 28,
   "metadata": {},
   "outputs": [
    {
     "name": "stdout",
     "output_type": "stream",
     "text": [
      "title: arjun, author: vedvyas, publisher:  golok\n",
      "title: geets, author: vyas, publisher:  prthvi\n",
      "file_format: pdf, file_size: 24mb\n"
     ]
    }
   ],
   "source": [
    "# Q39\n",
    "class book:\n",
    "\n",
    "    def __init__(self, make,model, year):\n",
    "        self.title = make\n",
    "        self.author = model\n",
    "        self.publisher = year\n",
    "\n",
    "    def print_details(self):\n",
    "         print(f'title: {self.title}, author: {self.author}, publisher:  {self.publisher}')\n",
    "\n",
    "class Ebook(book):\n",
    "     \n",
    "    def __init__(self, make, model, year, battery_size, range):\n",
    "            super().__init__( make, model, year)\n",
    "            self.file_format = battery_size\n",
    "            self.file_size= range\n",
    "    \n",
    "    def print_details(self):\n",
    "        super().print_details()\n",
    "        print(f'file_format: {self.file_format}, file_size: {self.file_size}')\n",
    "\n",
    "cr = book('arjun','vedvyas', 'golok')\n",
    "cr.print_details()\n",
    "\n",
    "el_cr = Ebook('geets', 'vyas', 'prthvi', 'pdf', '24mb')\n",
    "el_cr.print_details()"
   ]
  },
  {
   "cell_type": "code",
   "execution_count": 1,
   "metadata": {},
   "outputs": [
    {
     "name": "stdout",
     "output_type": "stream",
     "text": [
      "1000\n",
      "800\n",
      "800\n"
     ]
    }
   ],
   "source": [
    "# 40\n",
    "\n",
    "class bank:\n",
    "\n",
    "    def new_account(self, name, acc):\n",
    "        self.name = name\n",
    "        self.acc = acc\n",
    "        self.balance = 0\n",
    "\n",
    "    def deposit(self, amnt):\n",
    "        self.balance +=amnt\n",
    "        return self.balance\n",
    "    \n",
    "    def withdraw(self, amnt):\n",
    "        self.balance -=amnt\n",
    "        return self.balance\n",
    "\n",
    "    def total_blc(self):\n",
    "        print(self.balance)\n",
    "\n",
    "w = bank()\n",
    "w.new_account('krishan', 'saving')\n",
    "print(w.deposit(1000))\n",
    "print(w.withdraw(200))\n",
    "w.total_blc()"
   ]
  },
  {
   "cell_type": "code",
   "execution_count": 18,
   "metadata": {},
   "outputs": [
    {
     "name": "stdout",
     "output_type": "stream",
     "text": [
      "224\n"
     ]
    }
   ],
   "source": [
    "# Q41\n",
    "\n",
    "file_name = input(\"Enter the location of file: \")\n",
    "with open(file_name,'r') as obj:\n",
    "    text = obj.read()\n",
    "    list_words = text.split()\n",
    "    print(len(list_words))\n"
   ]
  },
  {
   "cell_type": "code",
   "execution_count": 19,
   "metadata": {},
   "outputs": [
    {
     "name": "stdout",
     "output_type": "stream",
     "text": [
      "philosophical\n"
     ]
    }
   ],
   "source": [
    "# Q42\n",
    "\n",
    "file_name = input(\"Enter the location of file: \")\n",
    "with open(file_name,'r') as obj:\n",
    "    text = obj.read()\n",
    "    list_words = text.split()\n",
    "\n",
    "    longest = len(list_words[0])\n",
    "    lon_word = list_words[0]\n",
    "\n",
    "    for i in range(1, len(list_words)):\n",
    "        if longest < len(list_words[i]):\n",
    "            longest = len(list_words[i])\n",
    "            lon_word = list_words[i]\n",
    "\n",
    "    print(lon_word)\n",
    "            "
   ]
  },
  {
   "cell_type": "code",
   "execution_count": 31,
   "metadata": {},
   "outputs": [
    {
     "name": "stdout",
     "output_type": "stream",
     "text": [
      "['', 'prescribed', 'duties']\n"
     ]
    }
   ],
   "source": [
    "# Q43\n",
    "\n",
    "\n",
    "# file_name = input(\"Enter the location of file: \")\n",
    "\n",
    "with open('file.txt','r') as obj:\n",
    "    text = obj.read()\n",
    "\n",
    "    # preprocessing text (removing special charaters)\n",
    "    text = text.lower()\n",
    "    text = ''.join(letter for letter in text if letter.isalnum() or letter == ' ' or letter == '\\n')\n",
    "    text = text.replace('\\n', ' ')   \n",
    "    text_list = text.split(' ')\n",
    "    \n",
    "    # Let the max freq be 0 initially\n",
    "    max_len = 0\n",
    "    # List will contain the words with max freq\n",
    "    max_freq_wrd =[]\n",
    "\n",
    "    for i in range(len(text_list)-1):\n",
    "        count = 0\n",
    "        for j in range(i+1, len(text_list)):\n",
    "            if text_list[i] == text_list[j]:\n",
    "                count +=1\n",
    "\n",
    "        # if another word has the same maximum frequency, then add it to the list\n",
    "        if count == max_len:\n",
    "            max_len = count\n",
    "            max_freq_wrd.append(text_list[i])\n",
    "\n",
    "        # If a word has frequency more than the hitherto elements in the list\n",
    "        # Then, clear that list and add this new word\n",
    "        elif count > max_len:\n",
    "            max_len = count\n",
    "            max_freq_wrd.clear()\n",
    "            max_freq_wrd.append(text_list[i])\n",
    "            \n",
    "    print(max_freq_wrd)\n",
    "        \n"
   ]
  },
  {
   "cell_type": "code",
   "execution_count": 37,
   "metadata": {},
   "outputs": [
    {
     "name": "stdout",
     "output_type": "stream",
     "text": [
      " There are 14 rows in the csv file\n"
     ]
    }
   ],
   "source": [
    "# Q44\n",
    "import csv\n",
    "\n",
    "with open('airtravel.csv', 'r') as obj:\n",
    "    reader = csv.reader(obj)\n",
    "    lst = list(reader)\n",
    "\n",
    "    print(f' There are {len(lst)} rows in the csv file')\n",
    "    "
   ]
  },
  {
   "cell_type": "code",
   "execution_count": 59,
   "metadata": {},
   "outputs": [
    {
     "name": "stdout",
     "output_type": "stream",
     "text": [
      "351.84615384615387\n"
     ]
    }
   ],
   "source": [
    "#45\n",
    "import csv\n",
    "\n",
    "with open('airtravel.csv', 'r') as obj:\n",
    "    reader = csv.reader(obj)\n",
    "    lst = list(reader)\n",
    "    \n",
    "    col = input('Enter the col')\n",
    "    indexOfCol = None\n",
    "    limit = len(lst[0])\n",
    "\n",
    "    # Find the index of that column\n",
    "    for i in range(limit):\n",
    "        if lst[0][i] == col:\n",
    "            indexOfCol = i\n",
    "\n",
    "    # sum of the specified column\n",
    "    sum = 0\n",
    "    for i in range(1, len(lst)-1):\n",
    "        sum += int(lst[i][indexOfCol])\n",
    "    \n",
    "    # avg\n",
    "    print(sum/(len(lst)-1))\n",
    "                \n",
    "            \n"
   ]
  },
  {
   "cell_type": "code",
   "execution_count": 51,
   "metadata": {},
   "outputs": [
    {
     "name": "stdout",
     "output_type": "stream",
     "text": [
      "{'name': 'sonoo', 'salary': 56000, 'married': True}\n"
     ]
    }
   ],
   "source": [
    "# Q46\n",
    "import json\n",
    "\n",
    "with open('file.json', 'r') as obj:\n",
    "    content = json.load(obj)\n",
    "    print(content['employee'])"
   ]
  },
  {
   "cell_type": "code",
   "execution_count": 66,
   "metadata": {},
   "outputs": [],
   "source": [
    "# Q47 \n",
    "\n",
    "lst_str = [\"English Translation:\",\"You have\" ,\"a right to\" ,\"perform your\" ,\"prescribed duties\"]\n",
    "\n",
    "with open('file.txt','w') as obj:\n",
    "\n",
    "    for i in range(len(lst_str)):\n",
    "        lst_str[i] ='\\n' + lst_str[i]\n",
    "    \n",
    "    obj.writelines(lst_str)"
   ]
  },
  {
   "cell_type": "code",
   "execution_count": 64,
   "metadata": {},
   "outputs": [
    {
     "name": "stdout",
     "output_type": "stream",
     "text": [
      "0x13743b531dd63ba79af57cdb38f218\n"
     ]
    }
   ],
   "source": [
    "# 48\n",
    "with open('file.bin', 'rb') as obj:\n",
    "    print( hex( int( obj.read() ) ) )\n"
   ]
  },
  {
   "cell_type": "code",
   "execution_count": 69,
   "metadata": {},
   "outputs": [
    {
     "name": "stdout",
     "output_type": "stream",
     "text": [
      "['JAN', '340', '360', '417']\n",
      "['FEB', '318', '342', '391']\n",
      "['MAR', '364', '406', '419']\n"
     ]
    }
   ],
   "source": [
    "# 49\n",
    "import csv\n",
    "\n",
    "with open('airtravel.csv', 'r') as obj:\n",
    "    reader = csv.reader(obj)\n",
    "    lst = list(reader)\n",
    "    del lst[-1]\n",
    "    \n",
    "    # Print the rows having month JAN, FEB OR MAR\n",
    "    for l in lst:\n",
    "        if l[0]=='JAN' or l[0]=='FEB' or l[0]=='MAR':\n",
    "            print(l)\n",
    "        "
   ]
  },
  {
   "cell_type": "code",
   "execution_count": null,
   "metadata": {},
   "outputs": [],
   "source": [
    "\n",
    "Q50. Write a Python program to read a text file, count the frequency of each word, and write the\n",
    "results to\n",
    "a new text file."
   ]
  },
  {
   "cell_type": "code",
   "execution_count": 101,
   "metadata": {},
   "outputs": [
    {
     "name": "stdout",
     "output_type": "stream",
     "text": [
      "['english', 'translation', 'you', 'have', 'a', 'right', 'to', 'perform', 'your', 'prescribed', 'duties', 'duties', 'duties', 'prescribed']\n",
      "{'english': 1, 'translation': 1, 'you': 1, 'have': 1, 'a': 1, 'right': 1, 'to': 1, 'perform': 1, 'your': 1, 'prescribed': 1, 'duties': 2}\n"
     ]
    }
   ],
   "source": [
    "with open('file.txt','r') as obj:\n",
    "    text = obj.read()\n",
    "\n",
    "    # preprocessing text (removing special charaters)\n",
    "    text = text.lower()\n",
    "    text = ''.join(letter for letter in text if letter.isalnum() or letter == ' ' or letter == '\\n')\n",
    "    text = text.replace('\\n', ' ')   \n",
    "    text_list = text.split(' ')\n",
    "    for ele in text_list:\n",
    "        if ele =='':\n",
    "            text_list.remove(ele)\n",
    "    del text_list[-1]\n",
    "\n",
    "\n",
    "   \n",
    "    text_set = set(text_list)\n",
    "    no_of_unique = len(set(text_list))\n",
    "    info ={}\n",
    "\n",
    "    print(text_list)\n",
    "    for i in range(no_of_unique):\n",
    "        count=0\n",
    "        for j in range(i, len(text_list)-1):\n",
    "            if text_list[i] == text_list[j]:\n",
    "                count += 1\n",
    "                if j!=i:\n",
    "                    text_list.remove(text_list[j])\n",
    "        info[text_list[i]] = count\n",
    "    print(info)\n",
    "    "
   ]
  },
  {
   "cell_type": "code",
   "execution_count": 109,
   "metadata": {},
   "outputs": [
    {
     "name": "stdout",
     "output_type": "stream",
     "text": [
      "[2, 4, 6, 8, 10, 12, 14, 16, 18, 20]\n"
     ]
    }
   ],
   "source": [
    "# Q51\n",
    "\n",
    "lst = []\n",
    "i = 2\n",
    "while True:\n",
    "\n",
    "    if len(lst) ==10:\n",
    "        print(lst)\n",
    "        break\n",
    "    \n",
    "    if i%2 == 0:\n",
    "        lst.append(i)\n",
    "    i = i+1\n",
    "    \n"
   ]
  },
  {
   "cell_type": "code",
   "execution_count": 111,
   "metadata": {},
   "outputs": [
    {
     "name": "stdout",
     "output_type": "stream",
     "text": [
      "['esiak', 'uaa', 'iyahnak', 'idab', 'rood', 'irgan']\n"
     ]
    }
   ],
   "source": [
    "# Q52\n",
    "\n",
    "lst = ['kaise', 'aau', 'kanhayi', 'badi', 'door', 'nagri']\n",
    "\n",
    "for i in range(len(lst)):\n",
    "    lst[i] = lst[i][-1::-1]\n",
    "print(lst)\n"
   ]
  },
  {
   "cell_type": "code",
   "execution_count": 112,
   "metadata": {},
   "outputs": [
    {
     "name": "stdout",
     "output_type": "stream",
     "text": [
      " 2 * 1 = 2 \n",
      "\n",
      " 2 * 2 = 4 \n",
      "\n",
      " 2 * 3 = 6 \n",
      "\n",
      " 2 * 4 = 8 \n",
      "\n",
      " 2 * 5 = 10 \n",
      "\n",
      " 2 * 6 = 12 \n",
      "\n",
      " 2 * 7 = 14 \n",
      "\n",
      " 2 * 8 = 16 \n",
      "\n",
      " 2 * 9 = 18 \n",
      "\n",
      " 2 * 10 = 20 \n",
      "\n"
     ]
    }
   ],
   "source": [
    "# Q53\n",
    "num = int(input('enter a number: '))\n",
    "\n",
    "for i in range(1,11):\n",
    "    print(f' {num} * {i} = {num*i} \\n')"
   ]
  },
  {
   "cell_type": "code",
   "execution_count": 119,
   "metadata": {},
   "outputs": [
    {
     "data": {
      "text/plain": [
       "9"
      ]
     },
     "execution_count": 119,
     "metadata": {},
     "output_type": "execute_result"
    }
   ],
   "source": [
    "from functools import reduce\n",
    "\n",
    "# Input\n",
    "lst = input().split(' ')\n",
    "lst = [int(x) for x in lst]\n",
    "\n",
    "\n",
    "# Sum Logic\n",
    "sum = reduce((lambda a,b: a+b),lst )\n",
    "sum\n"
   ]
  },
  {
   "cell_type": "code",
   "execution_count": 120,
   "metadata": {},
   "outputs": [
    {
     "name": "stdout",
     "output_type": "stream",
     "text": [
      "2\n",
      "3\n",
      "5\n"
     ]
    }
   ],
   "source": [
    "# Q55\n",
    "num = int(input('Enter a number:'))\n",
    "\n",
    "for i in range(2, num+1):\n",
    "    count = 0\n",
    "\n",
    "    for j in range(2,i+1):\n",
    "        if i%j == 0:\n",
    "            count+=1\n",
    "    if count==1:\n",
    "        print(i)"
   ]
  },
  {
   "cell_type": "code",
   "execution_count": 121,
   "metadata": {},
   "outputs": [
    {
     "name": "stdout",
     "output_type": "stream",
     "text": [
      "Enter again\n",
      "Enter again\n"
     ]
    }
   ],
   "source": [
    "# Q56\n",
    "passwrd = 'I luv Radha Rani'\n",
    "user_passwrd = input()\n",
    "\n",
    "while user_passwrd!=passwrd:\n",
    "    print('Enter again')\n",
    "    user_passwrd = input()"
   ]
  },
  {
   "cell_type": "code",
   "execution_count": 123,
   "metadata": {},
   "outputs": [
    {
     "name": "stdout",
     "output_type": "stream",
     "text": [
      "['esiak', 'uaa', 'iyahnak', 'idab', 'rood', 'irgan']\n"
     ]
    }
   ],
   "source": [
    "# Q57\n",
    "lst = ['kaise', 'aau', 'kanhayi', 'badi', 'door', 'nagri']\n",
    "\n",
    "i=0\n",
    "while i!=len(lst):\n",
    "    lst[i] = lst[i][-1::-1]\n",
    "    i+=1\n",
    "\n",
    "print(lst)\n"
   ]
  },
  {
   "cell_type": "code",
   "execution_count": 126,
   "metadata": {},
   "outputs": [
    {
     "name": "stdout",
     "output_type": "stream",
     "text": [
      "1\n",
      "1\n",
      "2\n",
      "3\n",
      "5\n",
      "8\n"
     ]
    }
   ],
   "source": [
    "# Q58\n",
    "\n",
    "limit = int(input('Enter a number'))\n",
    "\n",
    "a=1\n",
    "b=1\n",
    "c = a+b\n",
    "while c<=limit:\n",
    "    c = a+b\n",
    "\n",
    "    # Initial step\n",
    "    if a==1 and b==1:\n",
    "        print(f'{a}\\n{b}\\n{c}')\n",
    "       \n",
    "    else:\n",
    "        print(f'{c}')\n",
    "    a=b\n",
    "    b=c\n",
    "\n"
   ]
  },
  {
   "cell_type": "code",
   "execution_count": 128,
   "metadata": {},
   "outputs": [
    {
     "name": "stdout",
     "output_type": "stream",
     "text": [
      "6\n"
     ]
    }
   ],
   "source": [
    "# Q59\n",
    "\n",
    "lst = input().split(' ')\n",
    "lst = [int(x) for x in lst]\n",
    "\n",
    "i=0\n",
    "mul = 1\n",
    "while i<len(lst):\n",
    "    mul *= lst[i]\n",
    "    i+=1\n",
    "\n",
    "print(mul)"
   ]
  },
  {
   "cell_type": "code",
   "execution_count": 131,
   "metadata": {},
   "outputs": [
    {
     "name": "stdout",
     "output_type": "stream",
     "text": [
      "120\n"
     ]
    }
   ],
   "source": [
    "# Q60\n",
    "def fact(n):\n",
    "    if n==1:\n",
    "        return 1\n",
    "    else:\n",
    "       return (fact(n-1)) * n \n",
    "\n",
    "num = int(input('Enter a number: '))\n",
    "print(fact(num))\n"
   ]
  },
  {
   "cell_type": "code",
   "execution_count": 8,
   "metadata": {},
   "outputs": [
    {
     "name": "stdout",
     "output_type": "stream",
     "text": [
      "6\n",
      "0\n",
      "1\n",
      "2\n",
      "3\n",
      "4\n",
      "5\n",
      "6\n",
      "7\n",
      "8\n",
      "9\n",
      "8\n"
     ]
    }
   ],
   "source": [
    "# Q61\n",
    "import threading\n",
    "from time import sleep\n",
    "\n",
    "def even():\n",
    "    for i in range(10):\n",
    "        sleep(1)\n",
    "        if i%2==0:  \n",
    "            print(i)\n",
    "\n",
    "def odd():\n",
    "    for i in range(10):\n",
    "        sleep(1)\n",
    "        if i%2!=0:  \n",
    "            print(i)\n",
    "\n",
    "thrdEven = threading.Thread(target=even)\n",
    "thrdOdd = threading.Thread(target=odd)\n",
    "\n",
    "thrdEven.start()\n",
    "thrdOdd.start()"
   ]
  },
  {
   "cell_type": "code",
   "execution_count": 32,
   "metadata": {},
   "outputs": [
    {
     "name": "stdout",
     "output_type": "stream",
     "text": [
      "[10, 3, 7, 6, 10, 9, 1, 9, 10, 9]\n"
     ]
    },
    {
     "data": {
      "text/plain": [
       "[1, 3, 6, 7, 9, 9, 9, 10, 10, 10]"
      ]
     },
     "execution_count": 32,
     "metadata": {},
     "output_type": "execute_result"
    }
   ],
   "source": [
    "# Q62\n",
    "\n",
    "import random\n",
    "from threading import Thread\n",
    "\n",
    "# list of random numbers\n",
    "lst =[]\n",
    "while len(lst)!=10:\n",
    "    lst.append( random.randint(1,10) )\n",
    "print(lst)\n",
    "\n",
    "# sort! sorts the first half of a list\n",
    "def sort1(l):\n",
    "\n",
    "    firstHalf=[]\n",
    "    for i in range(len(l)//2):\n",
    "        firstHalf.append(l[i])\n",
    "    \n",
    "    firstHalf.sort()\n",
    "    for i in range(len(l)//2):\n",
    "        l[i] = firstHalf[i]\n",
    "    \n",
    "\n",
    "# sort2 sorts the second half of a list\n",
    "def sort2(l):\n",
    "\n",
    "    secHalf=[]\n",
    "    for i in range(len(l)//2+1, len(l)):\n",
    "        secHalf.append(l[i])\n",
    "    \n",
    "    secHalf.sort()\n",
    "    stat = len(l)//2+1\n",
    "    for i in range(len(secHalf)):\n",
    "         l[stat + i] = secHalf[i]\n",
    "\n",
    "thread1 = Thread(target=sort1, args=(lst,))\n",
    "thread2 = Thread(target=sort2, args=(lst,))\n",
    "thread1.start()\n",
    "thread2.start()\n",
    "\n",
    "thread1.join()\n",
    "thread2.join()\n",
    "\n",
    "sorted(lst)\n"
   ]
  },
  {
   "cell_type": "code",
   "execution_count": 4,
   "metadata": {},
   "outputs": [],
   "source": [
    "# Q63\n",
    "import threading\n",
    "from threading import Thread\n",
    "\n",
    "lock = threading.Lock()\n",
    "balance = 0\n",
    "\n",
    "def deposit():\n",
    "    global balance\n",
    "    for i in range(10):\n",
    "        lock.acquire()\n",
    "        balance += 100\n",
    "        lock.release()\n",
    "\n",
    "def withdraw():\n",
    "    global balance\n",
    "    for i in range(10):\n",
    "        lock.acquire()\n",
    "        balance -= 50\n",
    "        lock.release()\n",
    "\n",
    "# Create and start two threads\n",
    "thread1 = Thread(target=deposit)\n",
    "thread2 = Thread(target=withdraw)\n",
    "\n",
    "thread1.start()\n",
    "thread2.start()\n",
    "\n",
    "thread1.join()\n",
    "thread2.join()\n"
   ]
  },
  {
   "cell_type": "code",
   "execution_count": 17,
   "metadata": {},
   "outputs": [
    {
     "name": "stdout",
     "output_type": "stream",
     "text": [
      "06/08/2023 12:29:29\n",
      "Enter:"
     ]
    }
   ],
   "source": [
    "# Q64\n",
    "import time\n",
    "from datetime import datetime\n",
    "\n",
    "def curr_data_time():\n",
    "\n",
    "    commnd = input()\n",
    "\n",
    "    while commnd!='q':\n",
    "        time.sleep(1)\n",
    "        st = datetime.now()\n",
    "        print( st.strftime(\"%d/%m/%Y %H:%M:%S\") )\n",
    "        commnd = input('Enter q to quit:')\n",
    "    \n",
    "\n",
    "Th = Thread(target=curr_data_time)\n",
    "Th.start()\n"
   ]
  },
  {
   "cell_type": "code",
   "execution_count": 19,
   "metadata": {},
   "outputs": [
    {
     "name": "stdout",
     "output_type": "stream",
     "text": [
      "00\n",
      "\n",
      "1\n",
      "1\n",
      "22\n",
      "\n",
      "3\n",
      "3\n",
      "44\n",
      "\n",
      "5\n",
      "5\n",
      "6\n",
      "6\n",
      "7\n",
      "7\n",
      "88\n",
      "\n",
      "9\n",
      "9\n"
     ]
    }
   ],
   "source": [
    "# Q65\n",
    "from time import sleep\n",
    "\n",
    "def counting():\n",
    "    for i in range(10):\n",
    "        sleep(1)\n",
    "        print(i)\n",
    "\n",
    "thrd1 = threading.Thread(target=counting)\n",
    "thrd2 = threading.Thread(target=counting)\n",
    "\n",
    "thrd1.start()\n",
    "thrd2.start()"
   ]
  },
  {
   "cell_type": "code",
   "execution_count": 20,
   "metadata": {},
   "outputs": [
    {
     "name": "stdout",
     "output_type": "stream",
     "text": [
      "2\n"
     ]
    }
   ],
   "source": [
    "# Q66\n",
    "lock = threading.Lock()\n",
    "var=0\n",
    "\n",
    "def incre():\n",
    "    \n",
    "    global var\n",
    "    lock.acquire()\n",
    "    var+=1\n",
    "    lock.release()\n",
    "    \n",
    "\n",
    "thrd1 = threading.Thread(target=incre)\n",
    "thrd2 = threading.Thread(target=incre)\n",
    "\n",
    "thrd1.start()\n",
    "thrd2.start()\n",
    "\n",
    "print(var)"
   ]
  },
  {
   "cell_type": "code",
   "execution_count": 22,
   "metadata": {},
   "outputs": [
    {
     "name": "stdout",
     "output_type": "stream",
     "text": [
      "5\n",
      "4\n",
      "3\n",
      "2\n",
      "1\n",
      "Blastoff!\n"
     ]
    }
   ],
   "source": [
    "# Q68\n",
    "def count_down():\n",
    "    var=5\n",
    "    while var!=0:\n",
    "        print(var)\n",
    "        var -=1\n",
    "    print('Blastoff!')\n",
    "\n",
    "thrd1 = threading.Thread(target=count_down)\n",
    "thrd1.start()"
   ]
  },
  {
   "cell_type": "code",
   "execution_count": 23,
   "metadata": {},
   "outputs": [
    {
     "name": "stdout",
     "output_type": "stream",
     "text": [
      "1\n",
      "1\n",
      "2\n",
      "3\n",
      "5\n",
      "8\n"
     ]
    }
   ],
   "source": [
    "# Q68\n",
    "def fibb():\n",
    "    limit = int(input('Enter a number'))\n",
    "    a=1\n",
    "    b=1\n",
    "    c = a+b\n",
    "    while c<=limit:\n",
    "        c = a+b\n",
    "\n",
    "        # Initial step\n",
    "        if a==1 and b==1:\n",
    "            print(f'{a}\\n{b}\\n{c}')\n",
    "        \n",
    "        else:\n",
    "            print(f'{c}')\n",
    "        a=b\n",
    "        b=c\n",
    "\n",
    "thrd1 = threading.Thread(target=fibb)\n",
    "thrd1.start()"
   ]
  },
  {
   "cell_type": "code",
   "execution_count": 24,
   "metadata": {},
   "outputs": [
    {
     "name": "stdout",
     "output_type": "stream",
     "text": [
      "5\n"
     ]
    }
   ],
   "source": [
    "# Q69\n",
    "import random\n",
    "lock = threading.Lock()\n",
    "var=0\n",
    "\n",
    "def adding():\n",
    "    global var\n",
    "    lock.acquire()\n",
    "\n",
    "    for i in range(10):\n",
    "        operand = random.randint(1,10) \n",
    "        var+= operand\n",
    "    lock.release()   \n",
    "\n",
    "def subtract():\n",
    "    global var\n",
    "    lock.acquire()\n",
    "\n",
    "    for i in range(10):\n",
    "        operand = random.randint(1,10) \n",
    "        var-= operand\n",
    "    lock.release()   \n",
    "        \n",
    "        \n",
    "    \n",
    "\n",
    "thrd1 = threading.Thread(target=adding)\n",
    "thrd2 = threading.Thread(target=subtract)\n",
    "\n",
    "thrd1.start()\n",
    "thrd2.start()\n",
    "\n",
    "print(var)"
   ]
  },
  {
   "cell_type": "code",
   "execution_count": 26,
   "metadata": {},
   "outputs": [
    {
     "name": "stdout",
     "output_type": "stream",
     "text": [
      "5050\n"
     ]
    }
   ],
   "source": [
    "# Q70\n",
    "\n",
    "def hunderad():\n",
    "    sum =0\n",
    "    for i in range(1,101):\n",
    "        sum += i\n",
    "    print(sum)\n",
    "    \n",
    "thrd1 = threading.Thread(target=hunderad)\n",
    "thrd1.start()"
   ]
  },
  {
   "cell_type": "code",
   "execution_count": 15,
   "metadata": {},
   "outputs": [],
   "source": [
    "# Q71\n",
    "import multiprocessing\n",
    "\n",
    "def countin():\n",
    "    for i in range(1,11):\n",
    "        print(i)\n",
    "\n",
    "if __name__ == '__main__':\n",
    "    m1 = multiprocessing.Process(target=countin)\n",
    "    m2 = multiprocessing.Process(target=countin)\n",
    "    m1.start()\n",
    "    m2.start()\n",
    "\n",
    "    m1.join()\n",
    "    m2.join()"
   ]
  },
  {
   "cell_type": "code",
   "execution_count": 20,
   "metadata": {},
   "outputs": [
    {
     "name": "stdout",
     "output_type": "stream",
     "text": [
      "500500\n"
     ]
    }
   ],
   "source": [
    "# Q72\n",
    "from multiprocessing import Value\n",
    "\n",
    "def sumInt(total, start, end):\n",
    "    for i in range(start, end+1):\n",
    "        with total.get_lock():\n",
    "            total.value += i\n",
    "\n",
    "if __name__ == '__main__':\n",
    "    total = Value('i',0)\n",
    "\n",
    "    p1 = multiprocessing.Process(target=(sumInt(total, 1, 255)))\n",
    "    p2 = multiprocessing.Process(target=(sumInt(total, 256, 455)))\n",
    "    p3 = multiprocessing.Process(target=(sumInt(total, 456, 755)))\n",
    "    p4 = multiprocessing.Process(target=(sumInt(total, 756, 1000)))\n",
    "\n",
    "    p1.start()\n",
    "    p2.start()\n",
    "    p3.start()\n",
    "    p4.start()\n",
    "\n",
    "    p1.join()\n",
    "    p2.join()\n",
    "    p3.join()\n",
    "    p4.join()\n",
    "\n",
    "    print(total.value)\n"
   ]
  },
  {
   "cell_type": "code",
   "execution_count": 1,
   "metadata": {},
   "outputs": [],
   "source": [
    "# Q73\n",
    "\n",
    "from multiprocessing import Process, Queue\n",
    "from functools import reduce\n",
    "\n",
    "def calculate_sum(numbers, q):\n",
    "    sum = reduce((lambda a,b: a+b),numbers)\n",
    "    q.put(sum)\n",
    "\n",
    "if __name__ == '__main__':\n",
    "    numbers =[1,2,3,4,5]\n",
    "\n",
    "    q = Queue()\n",
    "    p = Process(target=calculate_sum, args=(numbers, q))\n",
    "    p.start()\n",
    "\n",
    "    result = q.get()\n",
    "    print(f'The sum of the numbers {numbers} is {result}.')\n"
   ]
  },
  {
   "cell_type": "code",
   "execution_count": 3,
   "metadata": {},
   "outputs": [],
   "source": [
    "# Q74\n",
    "def max_elem(sub_l):\n",
    "    return max(sub_l)\n",
    "\n",
    "if __name__ == '__main__':\n",
    "    lst = [[1,2,3,4],[4,5,6,3],[7,6,5,6]]\n",
    "    with multiprocessing.Pool(processes=2) as pool:\n",
    "        result = pool.map(max_elem, lst)\n",
    "    print(max(result))\n"
   ]
  },
  {
   "cell_type": "code",
   "execution_count": 2,
   "metadata": {},
   "outputs": [],
   "source": [
    "# Q75\n",
    "import multiprocessing\n",
    "def sq(n):\n",
    "    return  n ** 2\n",
    "\n",
    "if __name__ == '__main__':\n",
    "    lst = [1,2,3,4,5]\n",
    "    with multiprocessing.Pool(processes=3) as pool:\n",
    "        result = pool.map(sq, lst)\n",
    "    print(result)"
   ]
  },
  {
   "cell_type": "code",
   "execution_count": null,
   "metadata": {},
   "outputs": [],
   "source": [
    "# Q76\n",
    "def func(x):\n",
    "    return x+3    \n",
    "\n",
    "if __name__ =='__main__':\n",
    "    p = multiprocessing.Process(target=func, args=(2))\n",
    "    p.start()"
   ]
  },
  {
   "cell_type": "code",
   "execution_count": null,
   "metadata": {},
   "outputs": [],
   "source": [
    "# Q77\n",
    "def my_func(num1, num2):\n",
    "    return num1*num2\n",
    "\n",
    "if __name__ == '__main__':\n",
    "    with multiprocessing.Pool(processes=2) as pool:\n",
    "        results = pool.starmap(my_func, [(1,2),(3,4)])\n",
    "    print(results)"
   ]
  },
  {
   "cell_type": "code",
   "execution_count": null,
   "metadata": {},
   "outputs": [],
   "source": [
    "# Q78\n",
    "def sum_sq(lst, result):\n",
    "    total = 0\n",
    "    for num in numbers:\n",
    "        total += num**2\n",
    "    result.value = total\n",
    "\n",
    "if __name__ == '__main__':\n",
    "    lst=[1,2,3,4]\n",
    "    p = multiprocessing.Process(target=sum_sq, args=(lst, result))\n",
    "    p.start()\n",
    "    print(result.value)"
   ]
  },
  {
   "cell_type": "code",
   "execution_count": null,
   "metadata": {},
   "outputs": [],
   "source": [
    "# Q79\n",
    "\n",
    "def sum_workers(data_chunk):\n",
    "    return sum(data_chunk)\n",
    "\n",
    "def main():\n",
    "    data = [1, 2, 3, 4, 5, 6, 7, 8, 9, 10] * 100000\n",
    "\n",
    "    pool = multiprocessing.Pool(processes=4)\n",
    "    chunksize = len(data)//4\n",
    "    chunks = [data[i:i+chunksize] for i in range(0,len(data), chunksize)]\n",
    "    results = pool.map(sum_workers, chunks)\n",
    "    pool.close()\n",
    "    pool.join()\n",
    "    total = sum(results)\n",
    "    print(total)\n",
    "\n",
    "if __name__ == \"__main__\":\n",
    "    main()\n"
   ]
  },
  {
   "cell_type": "code",
   "execution_count": 3,
   "metadata": {},
   "outputs": [],
   "source": [
    "# Q80\n",
    "import multiprocessing\n",
    "def factorial(n):\n",
    "    if n == 0:\n",
    "        return 1\n",
    "    else:\n",
    "        return n * factorial(n-1)\n",
    "def factorial_worker(n):\n",
    "    return factorial(n)\n",
    "def main():\n",
    "    n = 10\n",
    "    pool = multiprocessing.Pool(processes=4)\n",
    "    results = pool.map(factorial_worker, range(1, n+1))\n",
    "    pool.close()\n",
    "    pool.join()\n",
    "    print(f\"The factorials of the numbers 1 to {n} are: {results}\")\n",
    "if __name__ == \"__main__\":\n",
    "    main()"
   ]
  },
  {
   "cell_type": "code",
   "execution_count": 2,
   "metadata": {},
   "outputs": [
    {
     "name": "stdout",
     "output_type": "stream",
     "text": [
      "this is my main prog\n"
     ]
    }
   ],
   "source": [
    "import multiprocessing\n",
    "def test():\n",
    "    print(\"this is my multiprocessing prog\")\n",
    "\n",
    "if __name__ == '__main__':\n",
    "    m = multiprocessing.Process(target=test)\n",
    "    print(\"this is my main prog\")\n",
    "    m.start()\n",
    "    m.join()\n",
    "    "
   ]
  },
  {
   "cell_type": "markdown",
   "metadata": {},
   "source": [
    "# "
   ]
  },
  {
   "cell_type": "code",
   "execution_count": 7,
   "metadata": {},
   "outputs": [
    {
     "name": "stdout",
     "output_type": "stream",
     "text": [
      "Cannot be Zero\n"
     ]
    }
   ],
   "source": [
    "# Q81\n",
    "\n",
    "try:\n",
    "    a = int(input())\n",
    "    b = int(input())\n",
    "    \n",
    "    if type(a)!=int or type(b)!=int:\n",
    "        raise ValueError('They must be int')\n",
    "    elif b==0:\n",
    "        raise ZeroDivisionError('Cannot be Zero')\n",
    "    print(a/b)\n",
    "   \n",
    "\n",
    "except ValueError as v:\n",
    "    print(v) \n",
    "except ZeroDivisionError as z:\n",
    "    print(z)\n",
    "except Exception as e:\n",
    "    print(e)\n",
    "    "
   ]
  },
  {
   "cell_type": "code",
   "execution_count": 17,
   "metadata": {},
   "outputs": [
    {
     "name": "stdout",
     "output_type": "stream",
     "text": [
      "password is too weak\n"
     ]
    }
   ],
   "source": [
    "# Q82\n",
    "class PasswordError(Exception):\n",
    "    def __init__(self, message):\n",
    "        self.message = message\n",
    "        super().__init__(self.message)\n",
    "        \n",
    "def not_atleast_one_uppper(st):\n",
    "    for i in st:\n",
    "        if i.isupper():\n",
    "            return False\n",
    "    return True\n",
    "\n",
    "passwrd = input()\n",
    "try:\n",
    "    if len(passwrd)<8 or not_atleast_one_uppper(passwrd):\n",
    "        raise PasswordError('password is too weak')\n",
    "except PasswordError as p:\n",
    "    print(p)"
   ]
  },
  {
   "cell_type": "code",
   "execution_count": 20,
   "metadata": {},
   "outputs": [
    {
     "name": "stdout",
     "output_type": "stream",
     "text": [
      "Cannot calculate the square root of negative number\n"
     ]
    }
   ],
   "source": [
    "# Q83\n",
    "import math\n",
    "\n",
    "num = int(input())\n",
    "try:\n",
    "    if num<0:\n",
    "        raise ValueError('Cannot calculate the square root of negative number')\n",
    "    print(math.sqrt(num))\n",
    "except ValueError as v:\n",
    "    print(v)\n"
   ]
  },
  {
   "cell_type": "code",
   "execution_count": 22,
   "metadata": {},
   "outputs": [
    {
     "name": "stdout",
     "output_type": "stream",
     "text": [
      "5.5\n"
     ]
    }
   ],
   "source": [
    "# Q85\n",
    "lst = input().split()\n",
    "\n",
    "try:\n",
    "    if len(lst)==0:\n",
    "        raise ValueError(\"List doesn't contain any element\")\n",
    "    \n",
    "    lst = [int(i) for i in lst]\n",
    "    sum=0\n",
    "\n",
    "    for i in lst:\n",
    "        sum += i\n",
    "\n",
    "    print(sum/len(lst))\n",
    "\n",
    "except ValueError as v:\n",
    "    print(v)\n"
   ]
  },
  {
   "cell_type": "code",
   "execution_count": 30,
   "metadata": {},
   "outputs": [
    {
     "name": "stdout",
     "output_type": "stream",
     "text": [
      "4\n"
     ]
    }
   ],
   "source": [
    "#Q86\n",
    "def vowel(st):\n",
    "    st2 = st\n",
    "    st = st.lower()\n",
    "    count = 0\n",
    "    for i in st:\n",
    "        if i=='a' or i=='i' or i=='o' or i=='u':\n",
    "            count +=1\n",
    "    st = st2\n",
    "    return count\n",
    "\n",
    "in_string = input('Enter a string: ')\n",
    "\n",
    "try:\n",
    "    if type(in_string)!=str:\n",
    "        raise TypeError('Input not string')\n",
    "\n",
    "    print(vowel(in_string))\n",
    "\n",
    "except TypeError as t:\n",
    "    print(t)"
   ]
  },
  {
   "cell_type": "code",
   "execution_count": 31,
   "metadata": {},
   "outputs": [
    {
     "name": "stdout",
     "output_type": "stream",
     "text": [
      "3\n",
      "some error occured\n"
     ]
    }
   ],
   "source": [
    "# Q87\n",
    "lst =[1,2,3]\n",
    "\n",
    "try:\n",
    "    print(lst[2])\n",
    "    print(lst[3])\n",
    "except:\n",
    "    print('some error occured')"
   ]
  },
  {
   "cell_type": "code",
   "execution_count": null,
   "metadata": {},
   "outputs": [],
   "source": [
    "# Q88\n",
    "# multiple errors can be handled by defining multiple except blocks\n",
    "try:\n",
    "    a = int(input())\n",
    "    b = int(input())\n",
    "    \n",
    "    if type(a)!=int or type(b)!=int:\n",
    "        raise ValueError('They must be int')\n",
    "    elif b==0:\n",
    "        raise ZeroDivisionError('Cannot be Zero')\n",
    "    print(a/b)\n",
    "   \n",
    "\n",
    "except ValueError as v:\n",
    "    print(v) \n",
    "except ZeroDivisionError as z:\n",
    "    print(z)\n",
    "except Exception as e:\n",
    "    print(e)\n",
    "    "
   ]
  },
  {
   "cell_type": "code",
   "execution_count": 33,
   "metadata": {},
   "outputs": [
    {
     "name": "stdout",
     "output_type": "stream",
     "text": [
      "Zero entered!\n"
     ]
    }
   ],
   "source": [
    "# Q89\n",
    "n = int(input('Enter a number: '))\n",
    "try:\n",
    "    if n==0:\n",
    "        raise ZeroDivisionError('Zero entered!')\n",
    "except ZeroDivisionError as z:\n",
    "    print(z)\n",
    "else:\n",
    "    print(1/n)"
   ]
  },
  {
   "cell_type": "code",
   "execution_count": 36,
   "metadata": {},
   "outputs": [
    {
     "name": "stdout",
     "output_type": "stream",
     "text": [
      "[Errno 2] No such file or directory: 'file2.txt'\n"
     ]
    }
   ],
   "source": [
    "# Q90\n",
    "\n",
    "try:\n",
    "    obj = open('file2.txt', 'r') \n",
    "    print('file found')\n",
    "except FileNotFoundError as f:\n",
    "    print(f)\n",
    "finally:\n",
    "    obj.close()\n"
   ]
  },
  {
   "cell_type": "code",
   "execution_count": null,
   "metadata": {},
   "outputs": [],
   "source": [
    "# Q91\n",
    "import mysql.connector as ms\n",
    "\n",
    "mydb = ms.connect(\n",
    "    host='localhost',\n",
    "    user='abc',\n",
    "    password='password'\n",
    ")\n",
    "\n",
    "mycursor = mydb.cursor()\n",
    "\n",
    "mycursor.execute('create database home;')\n",
    "mycursor.execute('use home;')\n",
    "mycursor.execute('create table ghar (id integer not null, name varchar(20), room varchar(20));')\n"
   ]
  },
  {
   "cell_type": "code",
   "execution_count": null,
   "metadata": {},
   "outputs": [],
   "source": [
    "# Q92\n",
    "mycursor.execute('insert into ghar (1, \"vrindavaan\", big room\");')\n",
    "mydb.commit()\n"
   ]
  },
  {
   "cell_type": "code",
   "execution_count": null,
   "metadata": {},
   "outputs": [],
   "source": [
    "# Q93\n",
    "mycursor.execute('Create index idx_name on ghar (id);')\n"
   ]
  },
  {
   "cell_type": "code",
   "execution_count": null,
   "metadata": {},
   "outputs": [],
   "source": [
    "# Q94\n",
    "mycursor.execute('select name, id , room from ghar inner join orders on id = orders.sno;')\n",
    "result = mycursor.fetchall()\n",
    "for s in result:\n",
    "    print(s)"
   ]
  },
  {
   "cell_type": "code",
   "execution_count": null,
   "metadata": {},
   "outputs": [],
   "source": [
    "# Q95\n",
    "try:\n",
    "    import mysql.connector as ms\n",
    "\n",
    "    mydb = ms.connect(\n",
    "        host='localhost',\n",
    "        user='abc',\n",
    "        password='password'\n",
    "    )\n",
    "\n",
    "except mysql.connector.Error as err:\n",
    "    print(err)\n",
    "\n",
    "else:\n",
    "    mycursor = mydb.cursor()\n",
    "    mycursor.execute('create database home;')\n",
    "    mycursor.execute('use home;')\n",
    "    mycursor.execute('create table ghar (id integer not null, name varchar(20), room varchar(20));')"
   ]
  },
  {
   "cell_type": "code",
   "execution_count": null,
   "metadata": {},
   "outputs": [],
   "source": [
    "# Q96\n",
    "import pymongo\n",
    "myclient = pymongo.MongoClient('mogodb://localhost:27017/')\n",
    "mydb = myclient[\"mydatabase\"]\n",
    "mycol = mydb[\"customers\"]\n",
    "\n",
    "mydict = {\"name\":\"john\", \"address\":\"highway 37\"}\n",
    "\n",
    "x = mycol.insert_one(mydict)\n",
    "print(x.inserted_id)"
   ]
  },
  {
   "cell_type": "code",
   "execution_count": null,
   "metadata": {},
   "outputs": [],
   "source": [
    "# Q97\n",
    "\n",
    "import pymongo\n",
    "myclient = pymongo.MongoClient('mongodb://localhost:27017/')\n",
    "mydb = mycleint[\"mydatabase\"]\n",
    "mycol = mydb['customer']\n",
    "\n",
    "myquery = {'address': 'highway'}\n",
    "newvalues = {'$set': {'address':  'park lane 38'}}\n",
    "\n",
    "mycol.update_one(myquery, newvalues)\n",
    "\n",
    "print(\"documents updated:\", mycol.modified_count)"
   ]
  },
  {
   "cell_type": "code",
   "execution_count": null,
   "metadata": {},
   "outputs": [],
   "source": [
    "# Q98\n",
    "import pymongo\n",
    "try:\n",
    "    myclient = pymongo.MongoClien('mongodb://localhost:27017/')\n",
    "    mydb = myclient['mydatabase']\n",
    "    mycol = mydb['customers']\n",
    "\n",
    "except pymongo.errors.ConnectionFailure as err:\n",
    "    print(err)\n",
    "\n",
    "else:\n",
    "    mydict = {'name':'john', 'address':'higwaya 37'}\n",
    "    mycol.insert_one(mydict)\n",
    "finally:\n",
    "    myclient.close()"
   ]
  },
  {
   "cell_type": "code",
   "execution_count": null,
   "metadata": {},
   "outputs": [],
   "source": [
    "# 99\n",
    "Q99. Write a Python program to query a MongoDB database using aggregation."
   ]
  },
  {
   "cell_type": "code",
   "execution_count": null,
   "metadata": {},
   "outputs": [],
   "source": [
    "# Q100\n",
    "import pymongo\n",
    "myclient = pymongo.MongoClient(\"mongodb://localhost:27017/\")\n",
    "mydb = myclient[\"mydatabase\"]\n",
    "mycol = mydb['customer']\n",
    "myquery = {\"$text\":{ \"$search\": \"apple\"}}\n",
    "mydoc = mycol.find(myquery)\n",
    "\n",
    "for x in mydoc:\n",
    "    print(x)"
   ]
  },
  {
   "cell_type": "code",
   "execution_count": 4,
   "metadata": {},
   "outputs": [
    {
     "ename": "ModuleNotFoundError",
     "evalue": "No module named 'flask'",
     "output_type": "error",
     "traceback": [
      "\u001b[1;31m---------------------------------------------------------------------------\u001b[0m",
      "\u001b[1;31mModuleNotFoundError\u001b[0m                       Traceback (most recent call last)",
      "Cell \u001b[1;32mIn[4], line 2\u001b[0m\n\u001b[0;32m      1\u001b[0m \u001b[39m# Q101\u001b[39;00m\n\u001b[1;32m----> 2\u001b[0m \u001b[39mfrom\u001b[39;00m \u001b[39mflask\u001b[39;00m \u001b[39mimport\u001b[39;00m Flask\n\u001b[0;32m      4\u001b[0m app \u001b[39m=\u001b[39m Flask(\u001b[39m__name__\u001b[39m)\n\u001b[0;32m      6\u001b[0m \u001b[39m@app\u001b[39m\u001b[39m.\u001b[39mroute(\u001b[39m\"\u001b[39m\u001b[39m/\u001b[39m\u001b[39m\"\u001b[39m)\n\u001b[0;32m      7\u001b[0m \u001b[39mdef\u001b[39;00m \u001b[39mhello\u001b[39m():\n",
      "\u001b[1;31mModuleNotFoundError\u001b[0m: No module named 'flask'"
     ]
    }
   ],
   "source": [
    "# Q101\n",
    "from flask import Flask\n",
    "\n",
    "app = Flask(__name__)\n",
    "\n",
    "@app.route(\"/\")\n",
    "def hello():\n",
    "    return \"Hello, World!\"\n",
    "\n",
    "if __name__ == \"__main__\":\n",
    "    app.run()"
   ]
  },
  {
   "cell_type": "code",
   "execution_count": null,
   "metadata": {},
   "outputs": [],
   "source": [
    "# Q102\n",
    "app = Flask(__name__)\n",
    "\n",
    "@app.route(\"/\")\n",
    "def hello(name):\n",
    "    return \"Hello, {name}!\"\n",
    "\n",
    "if __name__ == \"__main__\":\n",
    "    app.run()\n"
   ]
  },
  {
   "cell_type": "code",
   "execution_count": null,
   "metadata": {},
   "outputs": [],
   "source": [
    "app = Flask(__name__)\n",
    "\n",
    "@app.route(\"/\")\n",
    "def hello(num):\n",
    "    return f\"{num**2}\"\n",
    "\n",
    "if __name__ == \"__main__\":\n",
    "    app.run()"
   ]
  },
  {
   "cell_type": "code",
   "execution_count": null,
   "metadata": {},
   "outputs": [],
   "source": [
    "# Q103\n",
    "app = Flask(__name__)\n",
    "\n",
    "@app.route(\"/\")\n",
    "def hello():\n",
    "    return \"Hello, World!\"\n",
    "\n",
    "if __name__ == \"__main__\":\n",
    "    app.run()"
   ]
  },
  {
   "cell_type": "code",
   "execution_count": null,
   "metadata": {},
   "outputs": [],
   "source": [
    "# 104\n",
    "\n",
    "from flask import Flask, request, rener_template\n",
    "app = Flask(__name__)\n",
    "\n",
    "@app.route(\"/\", methods=[\"GET\", \"POST\"])\n",
    "def hello():\n",
    "    if request.method == \"POST\":\n",
    "        name = request.form[\"name\"]\n",
    "        return f\"Hello, {name}!\"\n",
    "    else:\n",
    "        return render_template(\"index.html\")\n",
    "    \n",
    "if __name__ == \"__main__\":\n",
    "    app.run()\n",
    "\n",
    "    "
   ]
  },
  {
   "cell_type": "code",
   "execution_count": null,
   "metadata": {},
   "outputs": [],
   "source": [
    "# 105\n",
    "\n",
    "app = Flask(__name__)\n",
    "@app.route(\"/names\")\n",
    "def names():\n",
    "    names = [(\"Radha\", 23), (\"Krishna\",23), {\"chaitanya\", 34}]\n",
    "    return render_template(\"names.html\", names=names)\n",
    "\n",
    "if __name__ == \"__main__\":\n",
    "    app.run()\n",
    "\n",
    "'''<html>\n",
    "  <body>\n",
    "    <table>\n",
    "      <thead>\n",
    "        <tr>\n",
    "          <th>Name</th>\n",
    "          <th>Age</th>\n",
    "        </tr>\n",
    "      </thead>\n",
    "      <tbody>\n",
    "        {% for name in names %}\n",
    "          <tr>\n",
    "            <td>{{ name[0] }}</td>\n",
    "            <td>{{ name[1] }}</td>\n",
    "          </tr>\n",
    "        {% endfor %}\n",
    "      </tbody>\n",
    "    </table>\n",
    "  </body>\n",
    "</html>'''\n",
    "'''"
   ]
  },
  {
   "cell_type": "code",
   "execution_count": null,
   "metadata": {},
   "outputs": [],
   "source": [
    "# 106\n",
    "\n",
    "app = Flask(__name__)\n",
    "@app.route(\"/names\")\n",
    "def names():\n",
    "    names = [(\"Radha\", 23), (\"Krishna\",23), {\"chaitanya\", 34}]\n",
    "    return render_template(\"names.html\", names=names)\n",
    "\n",
    "if __name__ == \"__main__\":\n",
    "    app.run()\n",
    "\n",
    "''' <!doctype html>\n",
    "<html>\n",
    "  <body>\n",
    "    <form method=\"POST\">\n",
    "      <label for=\"name\">Name:</label>\n",
    "      <select id=\"name\" name=\"name\">\n",
    "        {% for name in names %}\n",
    "          <option value=\"{{ name }}\">{{ name }}</option>\n",
    "        {% endfor %}\n",
    "      </select>\n",
    "      <input type=\"submit\" value=\"Submit\">\n",
    "    </form>\n",
    "  </body>\n",
    "</html> '''"
   ]
  },
  {
   "cell_type": "code",
   "execution_count": null,
   "metadata": {},
   "outputs": [],
   "source": [
    "# 107\n",
    "\n",
    "app = Flask(__name__)\n",
    "@app.route(\"/names\")\n",
    "def names():\n",
    "    names = [(\"Radha\", 23), (\"Krishna\",23), {\"chaitanya\", 34}]\n",
    "    return render_template(\"names.html\", names=names)\n",
    "\n",
    "if __name__ == \"__main__\":\n",
    "    app.run()\n",
    "\n",
    "''' <!doctype html>\n",
    "<html>\n",
    "  <body>\n",
    "    <form method=\"POST\">\n",
    "      <label for=\"name\">Name:</label>\n",
    "      <select id=\"name\" name=\"name\">\n",
    "        {% for name in names %}\n",
    "          <option value=\"{{ name }}\">{{ name }}</option>\n",
    "        {% endfor %}\n",
    "      </select>\n",
    "      <input type=\"submit\" value=\"Submit\">\n",
    "    </form>\n",
    "  </body>\n",
    "</html>'''"
   ]
  },
  {
   "cell_type": "code",
   "execution_count": null,
   "metadata": {},
   "outputs": [],
   "source": [
    "# 108\n",
    "\n",
    "from flask import Flask, request, jsonify\n",
    "app = Flask(__name__)\n",
    "@app.route(\"/data\", methods=[\"POST\"])\n",
    "def data():\n",
    "    data = request.get_json()\n",
    "    return jsonify(data)\n",
    "if __name__ == \"__main__\":\n",
    "    app.run()\n"
   ]
  },
  {
   "cell_type": "code",
   "execution_count": null,
   "metadata": {},
   "outputs": [],
   "source": [
    "# 109\n",
    "from flask import Flask, send_from_directory\n",
    "app = Flask(__name__)\n",
    "@app.route(\"/static/<path:filename>\")\n",
    "def static_file(filename):\n",
    "    return send_from_directory(\"static\", filename)\n",
    "if __name__ == \"__main__\":\n",
    "    app.run()\n"
   ]
  },
  {
   "cell_type": "code",
   "execution_count": null,
   "metadata": {},
   "outputs": [],
   "source": [
    "from flask import Flask, redirect\n",
    "app = Flask(__name__)\n",
    "@app.route(\"/\")\n",
    "def index():\n",
    "    return redirect(\"/hello\")\n",
    "@app.route(\"/hello\")\n",
    "def hello():\n",
    "    return \"Hello, World!\"\n",
    "if __name__ == \"__main__\":\n",
    "    app.run()\n"
   ]
  },
  {
   "cell_type": "markdown",
   "metadata": {},
   "source": [
    "Q102. Write a Flask route that takes a name parameter and returns \"Hello, [name]!\" as plain\n",
    "text.\n",
    "Q103. Write a Flask route that takes a number parameter and returns the square of that number\n",
    "as plain\n",
    "text.\n",
    "Q104. Write a Flask route that displays a simple HTML form that asks for a name and returns\n",
    "\"Hello,\n",
    "[name]!\" when submitted.\n",
    "Q105. Write a Flask route that displays a list of names in an HTML unordered list.\n",
    "Q106. Write a Flask route that displays a list of names in a table.\n",
    "Q107. Write a Flask route that displays a list of names in a dropdown menu.\n",
    "Q108. Write a Flask route that receives data through a POST request and returns the data in\n",
    "JSON format.\n",
    "Q109. Write a Flask route that redirects the user to a different URL."
   ]
  },
  {
   "cell_type": "code",
   "execution_count": 1,
   "metadata": {},
   "outputs": [
    {
     "ename": "SyntaxError",
     "evalue": "unterminated string literal (detected at line 10) (3038742865.py, line 10)",
     "output_type": "error",
     "traceback": [
      "\u001b[1;36m  Cell \u001b[1;32mIn[1], line 10\u001b[1;36m\u001b[0m\n\u001b[1;33m    \"Hello,\u001b[0m\n\u001b[1;37m    ^\u001b[0m\n\u001b[1;31mSyntaxError\u001b[0m\u001b[1;31m:\u001b[0m unterminated string literal (detected at line 10)\n"
     ]
    }
   ],
   "source": [
    "\n"
   ]
  },
  {
   "cell_type": "markdown",
   "metadata": {},
   "source": []
  },
  {
   "cell_type": "code",
   "execution_count": null,
   "metadata": {},
   "outputs": [],
   "source": []
  },
  {
   "cell_type": "code",
   "execution_count": null,
   "metadata": {},
   "outputs": [],
   "source": []
  }
 ],
 "metadata": {
  "kernelspec": {
   "display_name": "Python 3",
   "language": "python",
   "name": "python3"
  },
  "language_info": {
   "codemirror_mode": {
    "name": "ipython",
    "version": 3
   },
   "file_extension": ".py",
   "mimetype": "text/x-python",
   "name": "python",
   "nbconvert_exporter": "python",
   "pygments_lexer": "ipython3",
   "version": "3.11.2"
  },
  "orig_nbformat": 4
 },
 "nbformat": 4,
 "nbformat_minor": 2
}
