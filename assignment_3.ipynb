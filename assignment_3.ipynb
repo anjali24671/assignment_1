{
 "cells": [
  {
   "cell_type": "markdown",
   "id": "b5fc051b-8e69-4dbf-afcd-83429a7bae1f",
   "metadata": {},
   "source": [
    "Q1. Which keyword is used to create a function? Create a function to return a list of odd numbers in the\n",
    "range of 1 to 25."
   ]
  },
  {
   "cell_type": "code",
   "execution_count": 1,
   "id": "d519814b-8512-473f-b6d8-67c9f79cafa9",
   "metadata": {},
   "outputs": [],
   "source": [
    "# def keyword is used to create a function\n",
    "\n",
    "def odd_num():\n",
    "    l = []\n",
    "    for i in range(1,26):\n",
    "        if i %2!=0:\n",
    "            l.append(i)\n",
    "    return l"
   ]
  },
  {
   "cell_type": "code",
   "execution_count": 2,
   "id": "044b41d6-4e06-48ef-8dd8-b45dc5549a85",
   "metadata": {},
   "outputs": [
    {
     "data": {
      "text/plain": [
       "[1, 3, 5, 7, 9, 11, 13, 15, 17, 19, 21, 23, 25]"
      ]
     },
     "execution_count": 2,
     "metadata": {},
     "output_type": "execute_result"
    }
   ],
   "source": [
    "odd_num()"
   ]
  },
  {
   "cell_type": "markdown",
   "id": "57004439-ef00-4aec-8dd2-ab303bd05cfa",
   "metadata": {},
   "source": [
    "Q2. Why *args and **kwargs is used in some functions? Create a function each for *args and **kwargs\n",
    "to demonstrate their use."
   ]
  },
  {
   "cell_type": "code",
   "execution_count": 20,
   "id": "47736bad-a444-47fb-b0e6-95cad806afcd",
   "metadata": {},
   "outputs": [],
   "source": [
    "# *args is used in a funtion to take any number of arguments, this parameter should be used at last position(in pramater list)\n",
    "# else we can use keyword arguments for other parameters, to avoid confusion\n",
    "def full_name( *name):\n",
    "    for i in name:\n",
    "        print(i, end=\" \")\n",
    "        \n",
    "def definition( **kwarg):\n",
    "    for key,value in kwarg.items():\n",
    "        print(f\"{key} : {value} \\n \")\n"
   ]
  },
  {
   "cell_type": "code",
   "execution_count": 25,
   "id": "fbc6cb60-35ba-4c7c-8c53-0b920e0a70f7",
   "metadata": {},
   "outputs": [
    {
     "name": "stdout",
     "output_type": "stream",
     "text": [
      "Anjali Sharma \n",
      "\n",
      " Efficacy are made up of effectiveness\n",
      " Egregious are made up of shocking\n"
     ]
    }
   ],
   "source": [
    "full_name(\"Anjali\",\"Sharma\")\n",
    "print(\"\\n\")\n",
    "info(Efficacy = \"effectiveness\",Egregious =\"shocking\")"
   ]
  },
  {
   "cell_type": "markdown",
   "id": "9ac3ef47-55d3-4464-8d6b-1823ee3c20db",
   "metadata": {},
   "source": [
    "Q3. What is an iterator in python? Name the method used to initialise the iterator object and the method\n",
    "used for iteration. Use these methods to print the first five elements of the given list [2, 4, 6, 8, 10, 12, 14,\n",
    "16, 18, 20]."
   ]
  },
  {
   "cell_type": "markdown",
   "id": "c47b3248-b734-47e3-964b-6939a1d70bd3",
   "metadata": {},
   "source": [
    "Ans) Iterator is used to go to traverse through the elements of a data structure.\n",
    "iter() function is used to initialize an iterator object. \n",
    "next() fucntion is used to fetch elements of iter_object"
   ]
  },
  {
   "cell_type": "code",
   "execution_count": 8,
   "id": "9226b38d-653d-4472-bbd5-468e7ac4cc80",
   "metadata": {},
   "outputs": [
    {
     "name": "stdout",
     "output_type": "stream",
     "text": [
      "2\n",
      "4\n",
      "6\n",
      "8\n",
      "10\n"
     ]
    }
   ],
   "source": [
    "lst = [x*2  for x in range(1,11,1)]\n",
    "lst_iter =iter(lst)\n",
    "\n",
    "for i in range(5):\n",
    "    print(next(lst_iter))"
   ]
  },
  {
   "cell_type": "markdown",
   "id": "5e53f6e0-4057-424a-83a2-80de425148b5",
   "metadata": {},
   "source": [
    "Q4. What is a generator function in python? Why yield keyword is used? Give an example of a generator\n",
    "function."
   ]
  },
  {
   "cell_type": "markdown",
   "id": "bfd5ec70-c1ec-46f1-8f94-f4a3c155b196",
   "metadata": {},
   "source": [
    "Ans) Generator functions are memory efficient, instead of returning all the values at once using return, here values are returned one by one\n",
    "with the help of yield.\n",
    "note:\n",
    "There can be more than one yield unlike return"
   ]
  },
  {
   "cell_type": "code",
   "execution_count": 26,
   "id": "5b850dbe-12a8-4996-9774-7f0f679bb518",
   "metadata": {},
   "outputs": [
    {
     "name": "stdout",
     "output_type": "stream",
     "text": [
      "0\n",
      "2\n",
      "4\n",
      "6\n",
      "8\n"
     ]
    }
   ],
   "source": [
    "def even_no (n):\n",
    "    for i in range(n):\n",
    "        if(i%2 == 0):\n",
    "            yield i\n",
    "lst=[]\n",
    "lst = even_no(10)\n",
    "type(lst)\n",
    "\n",
    "for value in lst:\n",
    "    print(value)\n",
    "    \n",
    "    "
   ]
  },
  {
   "cell_type": "markdown",
   "id": "912b03d5-6538-4045-9318-970560ffffd4",
   "metadata": {},
   "source": [
    "Q5. Create a generator function for prime numbers less than 1000. Use the next() method to print the\n",
    "first 20 prime numbers."
   ]
  },
  {
   "cell_type": "code",
   "execution_count": 40,
   "id": "e5ce7ef8-05ca-482a-8f8c-be19c523c661",
   "metadata": {},
   "outputs": [
    {
     "name": "stdout",
     "output_type": "stream",
     "text": [
      "2\n",
      "3\n",
      "5\n",
      "7\n",
      "11\n",
      "13\n",
      "17\n",
      "19\n",
      "23\n",
      "29\n",
      "31\n",
      "37\n",
      "41\n",
      "43\n",
      "47\n",
      "53\n",
      "59\n",
      "61\n",
      "67\n",
      "71\n"
     ]
    }
   ],
   "source": [
    "def isPrime(n):\n",
    "    not_prime =0\n",
    "    for i in range(2,n):\n",
    "        \n",
    "        if(n%i==0):\n",
    "            not_prime+=1\n",
    "    if(not_prime==0):\n",
    "        return True\n",
    "    else:\n",
    "        return False\n",
    "\n",
    "def prime_num_till_limit(n):\n",
    "    for i in range(2,n):\n",
    "        if( isPrime(i) == True):\n",
    "            yield i\n",
    "        else:\n",
    "            continue\n",
    "lst_prime = []\n",
    "lst_prime = prime_num_till_limit(1000)\n",
    "for value in range(20):\n",
    "    print(next(lst_prime))"
   ]
  },
  {
   "cell_type": "markdown",
   "id": "d7e7317e-06b0-43d4-b6c5-92360b3b6c3d",
   "metadata": {},
   "source": [
    "Q6. Write a python program to print the first 10 Fibonacci numbers using a while loop."
   ]
  },
  {
   "cell_type": "code",
   "execution_count": 45,
   "id": "380435d2-ef47-4266-82c2-fa0bf5252a39",
   "metadata": {},
   "outputs": [
    {
     "name": "stdout",
     "output_type": "stream",
     "text": [
      "0\n",
      "1\n",
      "1\n",
      "2\n",
      "3\n",
      "5\n",
      "8\n",
      "13\n",
      "21\n",
      "34\n"
     ]
    }
   ],
   "source": [
    "def fibb(n):\n",
    "    a = 0\n",
    "    b = 1\n",
    "    yield a\n",
    "    yield b\n",
    "    for i in range(n-2):\n",
    "        c = a+b\n",
    "        yield c\n",
    "        a = b\n",
    "        b = c\n",
    "fibb_list = fibb(10)\n",
    "for value in fibb_list:\n",
    "    print(value)"
   ]
  },
  {
   "cell_type": "markdown",
   "id": "a18ee0ae-60d8-4752-bec5-2d07ebf19212",
   "metadata": {},
   "source": [
    "Q7. Write a List Comprehension to iterate through the given string: ‘pwskills’.\n",
    "Expected output: ['p', 'w', 's', 'k', 'i', 'l', 'l', 's']"
   ]
  },
  {
   "cell_type": "code",
   "execution_count": 46,
   "id": "8acb257b-b904-497a-a188-d91c44c736a2",
   "metadata": {},
   "outputs": [
    {
     "name": "stdout",
     "output_type": "stream",
     "text": [
      "['p', 'w', 's', 'k', 'i', 'l', 'l']\n"
     ]
    }
   ],
   "source": [
    "iter_string = [x for x in iter(\"pwskills\")]\n",
    "print(iter_string)"
   ]
  },
  {
   "cell_type": "markdown",
   "id": "1779eead-d62a-49d3-b6ef-88257166b068",
   "metadata": {},
   "source": [
    "Q8. Write a python program to check whether a given number is Palindrome or not using a while loop."
   ]
  },
  {
   "cell_type": "code",
   "execution_count": 19,
   "id": "8a4cdcfc-ac09-4ec9-87f0-be8b04039ea4",
   "metadata": {},
   "outputs": [
    {
     "name": "stdout",
     "output_type": "stream",
     "text": [
      "palindrome\n",
      "not palindrome\n"
     ]
    }
   ],
   "source": [
    "num1 = 2222\n",
    "num2= 678\n",
    "def is_palindrome(num):\n",
    "    l1 = list(iter(str(num)))\n",
    "    l2 = l1[::-1]\n",
    "    i =0\n",
    "    count=0\n",
    "    while i < len(l2):\n",
    "        if l1[i] == l2[i]:\n",
    "            count+=1\n",
    "        i+=1\n",
    "    if count == len(l2):\n",
    "        print(\"palindrome\")\n",
    "    else:\n",
    "        print(\"not palindrome\")\n",
    "        \n",
    "is_palindrome(num1)\n",
    "is_palindrome(num2)"
   ]
  },
  {
   "cell_type": "markdown",
   "id": "4c7364f8-4238-4a67-b20b-9356853b2148",
   "metadata": {},
   "source": [
    "Q9. Write a code to print odd numbers from 1 to 100 using list comprehension.\n",
    "Note: Use a list comprehension to create a list from 1 to 100 and use another List comprehension to filter\n",
    "out odd numbers."
   ]
  },
  {
   "cell_type": "code",
   "execution_count": 7,
   "id": "fd16d350-fe56-4548-b968-54e48c19dc2e",
   "metadata": {},
   "outputs": [],
   "source": [
    "l1 = [x for x in range(1,101)]\n",
    "l2 = [x for x in l1 if(x%2!=0)]\n"
   ]
  }
 ],
 "metadata": {
  "kernelspec": {
   "display_name": "Python 3 (ipykernel)",
   "language": "python",
   "name": "python3"
  },
  "language_info": {
   "codemirror_mode": {
    "name": "ipython",
    "version": 3
   },
   "file_extension": ".py",
   "mimetype": "text/x-python",
   "name": "python",
   "nbconvert_exporter": "python",
   "pygments_lexer": "ipython3",
   "version": "3.10.8"
  }
 },
 "nbformat": 4,
 "nbformat_minor": 5
}
