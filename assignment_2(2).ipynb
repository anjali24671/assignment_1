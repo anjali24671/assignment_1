{
 "cells": [
  {
   "cell_type": "markdown",
   "id": "21868021-ea27-4a68-b163-e822d181a5fc",
   "metadata": {},
   "source": [
    "Q1. How do you comment code in Python? What are the different types of comments?"
   ]
  },
  {
   "cell_type": "code",
   "execution_count": 6,
   "id": "7963899b-af1c-4440-8974-aba39fca8c29",
   "metadata": {},
   "outputs": [
    {
     "data": {
      "text/plain": [
       "' multiple line comment '"
      ]
     },
     "execution_count": 6,
     "metadata": {},
     "output_type": "execute_result"
    }
   ],
   "source": [
    "#  single lines comment\n",
    "''' multiple line comment '''\n",
    "\"\"\" multiple line comment \"\"\"\n"
   ]
  },
  {
   "cell_type": "markdown",
   "id": "d90340fe-c08a-4719-b113-87747cd7161d",
   "metadata": {},
   "source": [
    "Q2. What are variables in Python? How do you declare and assign values to variables?"
   ]
  },
  {
   "cell_type": "code",
   "execution_count": 1,
   "id": "f9b9799f-e96a-4a60-bddb-f695b3af1678",
   "metadata": {},
   "outputs": [],
   "source": [
    "# variables are used to store values of different datatypes\n",
    "var = 12  # <-- int variable\n",
    "lst = [\"y\", 78.00 ]\n",
    "boolean = True"
   ]
  },
  {
   "cell_type": "markdown",
   "id": "8d6ccdf3-d6c1-4e54-aad5-ed05a6a3311f",
   "metadata": {},
   "source": [
    "Q3. How do you convert one data type to another in Python?"
   ]
  },
  {
   "cell_type": "code",
   "execution_count": 2,
   "id": "3271f8fb-7bb4-4932-9335-0fafc352ed2f",
   "metadata": {},
   "outputs": [
    {
     "name": "stdout",
     "output_type": "stream",
     "text": [
      "5 has the data type <class 'str'> \n"
     ]
    }
   ],
   "source": [
    "# by type casting\n",
    "a = 5\n",
    "string = str(a)\n",
    "print(f'{string} has the data type { type(string)} ')"
   ]
  },
  {
   "cell_type": "markdown",
   "id": "56238a96-6196-4288-8b2f-ac2728a68b75",
   "metadata": {},
   "source": [
    "Q4. How do you write and execute a Python script from the command line?\n"
   ]
  },
  {
   "cell_type": "code",
   "execution_count": null,
   "id": "c934e7ee-b2c7-4671-a165-4972a66efcf9",
   "metadata": {},
   "outputs": [],
   "source": [
    "''' 1) open the folder where the python file is stored, using cd\n",
    "    2) write the command -> python file_name.py\n",
    "    '''"
   ]
  },
  {
   "cell_type": "markdown",
   "id": "c229e617-5c33-4d2a-8a37-f2e34ccb93ae",
   "metadata": {},
   "source": [
    "Q5. Given a list my_list = [1, 2, 3, 4, 5], write the code to slice the list and obtain the sub-list [2, 3]."
   ]
  },
  {
   "cell_type": "code",
   "execution_count": 10,
   "id": "b8a555f4-3ff7-4228-91c2-0da275a4094f",
   "metadata": {},
   "outputs": [
    {
     "name": "stdout",
     "output_type": "stream",
     "text": [
      "[2, 3]\n",
      "[2, 3]\n"
     ]
    }
   ],
   "source": [
    "my_list = [1,2,3,4,5]\n",
    "print( my_list[1:3])\n",
    "print( my_list[-4:-2])"
   ]
  },
  {
   "cell_type": "markdown",
   "id": "f9ad5375-99c5-46e1-8c2a-82790d2781ce",
   "metadata": {},
   "source": [
    "Q6. What is a complex number in mathematics, and how is it represented in Python?"
   ]
  },
  {
   "cell_type": "code",
   "execution_count": 12,
   "id": "0f9db548-f3b7-4f5f-966a-6c01778c416e",
   "metadata": {},
   "outputs": [
    {
     "data": {
      "text/plain": [
       "complex"
      ]
     },
     "execution_count": 12,
     "metadata": {},
     "output_type": "execute_result"
    }
   ],
   "source": [
    "# complex number has a real part and an imaginary part\n",
    "comp = 3 + 8j\n",
    "com = 4+ 9J\n",
    "type(com)"
   ]
  },
  {
   "cell_type": "markdown",
   "id": "2e4052f4-efee-4378-a993-653df7aefb20",
   "metadata": {},
   "source": [
    "Q7. What is the correct way to declare a variable named age and assign the value 25 to it?"
   ]
  },
  {
   "cell_type": "code",
   "execution_count": 13,
   "id": "ad3e7d41-59dd-4144-8f66-437084da723b",
   "metadata": {},
   "outputs": [],
   "source": [
    "age = 25"
   ]
  },
  {
   "cell_type": "markdown",
   "id": "6cfd06eb-a7af-4a5e-8a74-188cf781cda8",
   "metadata": {},
   "source": [
    "Q8. Declare a variable named price and assign the value 9.99 to it. What data type does this variable\n",
    "belong to?"
   ]
  },
  {
   "cell_type": "code",
   "execution_count": 14,
   "id": "c2975318-8476-4462-8cf9-fdb50a0d4b17",
   "metadata": {},
   "outputs": [
    {
     "data": {
      "text/plain": [
       "float"
      ]
     },
     "execution_count": 14,
     "metadata": {},
     "output_type": "execute_result"
    }
   ],
   "source": [
    "price = 9.99\n",
    "type( price)"
   ]
  },
  {
   "cell_type": "markdown",
   "id": "15a7b770-d0f0-4768-85db-dc26089b0c91",
   "metadata": {},
   "source": [
    "Q9. Create a variable named name and assign your full name to it as a string. How would you print the\n",
    "value of this variable?"
   ]
  },
  {
   "cell_type": "code",
   "execution_count": 18,
   "id": "e8b49545-8bdc-43da-9790-c5e06755e7b9",
   "metadata": {},
   "outputs": [
    {
     "name": "stdout",
     "output_type": "stream",
     "text": [
      "A\n",
      "ali Sharma\n",
      "Anjali Sharma\n"
     ]
    }
   ],
   "source": [
    "name = \"Anjali Sharma\"\n",
    "print(name[0])\n",
    "print(name[3:90])\n",
    "print(name)"
   ]
  },
  {
   "cell_type": "markdown",
   "id": "1e3c651f-061c-4749-aa7b-3083a86203c3",
   "metadata": {},
   "source": [
    "Q10. Given the string \"Hello, World!\", extract the substring \"World\"."
   ]
  },
  {
   "cell_type": "code",
   "execution_count": 19,
   "id": "8c07c622-2f07-4674-a7ba-63a3a3d72622",
   "metadata": {},
   "outputs": [
    {
     "name": "stdout",
     "output_type": "stream",
     "text": [
      "World\n"
     ]
    }
   ],
   "source": [
    "string = \"Hello World\"\n",
    "print( string[-5 : ] )"
   ]
  },
  {
   "cell_type": "markdown",
   "id": "4a8662eb-8b52-412d-9eb9-928879bebac9",
   "metadata": {},
   "source": [
    "Q11. Create a variable named \"is_student\" and assign it a boolean value indicating whether you are\n",
    "currently a student or not."
   ]
  },
  {
   "cell_type": "code",
   "execution_count": 21,
   "id": "657fe4ee-31d6-4cdd-83a8-f71609af405f",
   "metadata": {},
   "outputs": [
    {
     "data": {
      "text/plain": [
       "bool"
      ]
     },
     "execution_count": 21,
     "metadata": {},
     "output_type": "execute_result"
    }
   ],
   "source": [
    "is_student = True\n",
    "type( is_student)"
   ]
  },
  {
   "cell_type": "code",
   "execution_count": null,
   "id": "ab797975-d080-4721-93d4-cfd43ff5132c",
   "metadata": {},
   "outputs": [],
   "source": []
  }
 ],
 "metadata": {
  "kernelspec": {
   "display_name": "Python 3 (ipykernel)",
   "language": "python",
   "name": "python3"
  },
  "language_info": {
   "codemirror_mode": {
    "name": "ipython",
    "version": 3
   },
   "file_extension": ".py",
   "mimetype": "text/x-python",
   "name": "python",
   "nbconvert_exporter": "python",
   "pygments_lexer": "ipython3",
   "version": "3.10.8"
  }
 },
 "nbformat": 4,
 "nbformat_minor": 5
}
