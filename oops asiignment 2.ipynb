{
 "cells": [
  {
   "cell_type": "markdown",
   "id": "ce922092-5fab-4df8-8a6b-f699f2b95e7c",
   "metadata": {},
   "source": [
    "Q1. What is Abstraction in OOps? Explain with an example."
   ]
  },
  {
   "cell_type": "markdown",
   "id": "58c35766-ccba-4419-9e3e-d6382ccf6c5e",
   "metadata": {},
   "source": [
    "    Ans) Abstraction is the process of hiding all the intricacies of a process and only showing the important things. It makes the code bothe secure and easy to use."
   ]
  },
  {
   "cell_type": "code",
   "execution_count": 5,
   "id": "83be4b2d-491e-4074-b931-ab8ee0c647e0",
   "metadata": {},
   "outputs": [],
   "source": [
    "import abc\n",
    "\n",
    "class absc:\n",
    "    @abc.abstractmethod\n",
    "    def student_info(self, name, email):\n",
    "        pass\n",
    "    @abc.abstractmethod\n",
    "    def get_value(self):\n",
    "        pass\n",
    "\n",
    "class student(absc):\n",
    "    def student_info(self, name, email):\n",
    "        self.name = name\n",
    "        self.email = email\n",
    "    \n",
    "    def get_value(self):\n",
    "        return self.name, self.email\n",
    "\n"
   ]
  },
  {
   "cell_type": "code",
   "execution_count": 6,
   "id": "89b67396-73fd-4164-8e23-ed37c4ae0a1f",
   "metadata": {},
   "outputs": [
    {
     "data": {
      "text/plain": [
       "('radhey', 'radhe@gmail.com')"
      ]
     },
     "execution_count": 6,
     "metadata": {},
     "output_type": "execute_result"
    }
   ],
   "source": [
    "st = student()\n",
    "st.student_info(\"radhey\",\"radhe@gmail.com\")\n",
    "st.get_value()"
   ]
  },
  {
   "cell_type": "markdown",
   "id": "4397b541-3bd3-4d7f-82f1-ba06f47c4805",
   "metadata": {},
   "source": [
    "Q2. Differentiate between Abstraction and Encapsulation. Explain with an example.\n",
    "\n",
    "    Ans) Abstraction is used to hide irrelevant details. Encapsulation is used to hide important features to protect them for security reasons."
   ]
  },
  {
   "cell_type": "code",
   "execution_count": 13,
   "id": "19094fdc-7ae8-4baa-9680-76171d828a90",
   "metadata": {},
   "outputs": [
    {
     "name": "stdout",
     "output_type": "stream",
     "text": [
      "radha\n",
      "radha@gmail.com\n",
      "ergeg\n"
     ]
    }
   ],
   "source": [
    "# encapsulation\n",
    "# It is done by making the data to be hidden-> private.\n",
    "class student:\n",
    "   \n",
    "    def __init__(self, name, email, password):\n",
    "        self.name = name\n",
    "        self.email = email\n",
    "        self.__password = password\n",
    "st = student(\"radha\",\"radha@gmail.com\",\"ergeg\")\n",
    "print(st.name)\n",
    "print(st.email)\n",
    "# print(st.__password)\n",
    "print(st._student__password)\n",
    "        \n",
    "    "
   ]
  },
  {
   "cell_type": "markdown",
   "id": "a7d22228-0b3e-43d5-a024-7cac63a2e5c3",
   "metadata": {},
   "source": [
    "Q3. What is abc module in python? Why is it used?\n",
    "\n",
    "    Ans) The \"abc\" module in Python standas for \"Abstract Base Classes.\" It's a module that provides mechanisms to create abstract base classes in python. Ans Abstract base class is a class that cannot be instantiated on its own but serves as a blueprint for other classes. It defines a set of methods that must be implemenented by its subclasses.\n",
    "    \n",
    "    The primary purpose of the abc module is to faciliate the creation of abstract classes and enforce certain rules and contracts of abstract among structured and organized codebases by ensuring that subclasses adhere to a consistent interface. We can make methods abstract using @abstractmethod"
   ]
  },
  {
   "cell_type": "markdown",
   "id": "cc2991da-a401-4aad-af99-df245b3baf44",
   "metadata": {},
   "source": [
    "Q4. How can we achieve data abstraction?\n",
    "\n",
    "    Ans) Data abstraction is the process of hiding all the intricate or irrelevent information from the user in order to keep the interface secure yet easy to use. It can be done by classes & objects, Encapsulation, Access modeifiers, Abstration.\n",
    "    \n",
    "    Define classes to represent abstract entities. These classes encapsulates data and behaviour tha are re;event to the abstraction you're modelling.\n",
    "    \n",
    "    Encapsulation involves bundling data and methods that operate on that data witihn a  single unit, i.e., a class.\n",
    "    Access modeifier: public, private, protected.\n",
    "    "
   ]
  },
  {
   "cell_type": "markdown",
   "id": "e4c11376-8b4e-4009-87d8-507fc97c9f8f",
   "metadata": {},
   "source": [
    "Q5. Can we create an instance of an abstract class? Explain your answer.\n",
    "\n",
    "    Ans: No, we cannot create an instance of an abstract class in python. Abstract classes are meant to be incomplete and serve as blueprints for other classes to inherit from . They define methods tha must be implemented by their subclasses."
   ]
  },
  {
   "cell_type": "code",
   "execution_count": null,
   "id": "a8c58c07-3206-4089-9cfb-b62c7e11ec81",
   "metadata": {},
   "outputs": [],
   "source": []
  }
 ],
 "metadata": {
  "kernelspec": {
   "display_name": "Python 3 (ipykernel)",
   "language": "python",
   "name": "python3"
  },
  "language_info": {
   "codemirror_mode": {
    "name": "ipython",
    "version": 3
   },
   "file_extension": ".py",
   "mimetype": "text/x-python",
   "name": "python",
   "nbconvert_exporter": "python",
   "pygments_lexer": "ipython3",
   "version": "3.10.8"
  }
 },
 "nbformat": 4,
 "nbformat_minor": 5
}
