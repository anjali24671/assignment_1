{
 "cells": [
  {
   "cell_type": "markdown",
   "id": "00e1ab06-6c78-4c10-aff5-13bf53fc734e",
   "metadata": {},
   "source": [
    "Q1. Create one variable containing following type of data:\n",
    "(i) string\n",
    "(ii) list\n",
    "(iii) float\n",
    "(iv) tuple"
   ]
  },
  {
   "cell_type": "code",
   "execution_count": 1,
   "id": "340cfd7e-c85b-4ab8-b21d-620c5c8f66ce",
   "metadata": {},
   "outputs": [],
   "source": [
    "# question-1\n",
    "string_type = \"hello pw skills\"\n",
    "list_type = [2,3,4,string_type]\n",
    "float_type = 23.45\n",
    "tuple_type = (23,4,5,2)"
   ]
  },
  {
   "cell_type": "markdown",
   "id": "3cf9333e-8722-4676-bb05-8bcec0470445",
   "metadata": {},
   "source": [
    "Q2. Given are some following variables containing data:\n",
    "(i) var1 = ‘ ‘\n",
    "(ii) var2 = ‘[ DS , ML , Python]’\n",
    "(iii) var3 = [ ‘DS’ , ’ML’ , ‘Python’ ]\n",
    "(iv) var4 = 1."
   ]
  },
  {
   "cell_type": "code",
   "execution_count": 4,
   "id": "355b91f8-6a4e-4c55-93d4-1272d84d0ee6",
   "metadata": {},
   "outputs": [
    {
     "name": "stdout",
     "output_type": "stream",
     "text": [
      "<class 'str'>\n",
      "<class 'str'>\n",
      "<class 'list'>\n",
      "<class 'int'>\n"
     ]
    }
   ],
   "source": [
    "#question-2\n",
    "var1 = ''\n",
    "var2 = '[ DS , ML , Python]'\n",
    "var3 = [ 'DS' , 'ML' , 'Python' ]\n",
    "var4 = 1\n",
    "print(type(var1))\n",
    "print(type(var2))\n",
    "print(type(var3))\n",
    "print(type(var4))"
   ]
  },
  {
   "cell_type": "markdown",
   "id": "2a4d8e81-ca95-4ea4-9cd1-51236b7f9cb5",
   "metadata": {},
   "source": [
    "Q3. Explain the use of the following operators using an example:\n",
    "(i) /\n",
    "(ii) %\n",
    "(iii) //\n",
    "(iv) **"
   ]
  },
  {
   "cell_type": "code",
   "execution_count": 5,
   "id": "3d57adab-c2a4-4569-9a19-1f57edd80d8c",
   "metadata": {},
   "outputs": [
    {
     "name": "stdout",
     "output_type": "stream",
     "text": [
      "1.8\n",
      "4\n",
      "1\n",
      "59049\n"
     ]
    }
   ],
   "source": [
    "#question_3\n",
    "a = 9\n",
    "b = 5\n",
    "# / is used to divide two numeric variables\n",
    "print(a/b)\n",
    "\n",
    "# % is used to return the remainder after division\n",
    "print(a%b)\n",
    "\n",
    "# // is used to return the floor value\n",
    "print(a//b)\n",
    "\n",
    "# ** is used to return the power \n",
    "print(a**b)"
   ]
  },
  {
   "cell_type": "markdown",
   "id": "fbca32ae-bac1-4a02-b497-cc07ef97f57f",
   "metadata": {},
   "source": [
    "Q4. Create a list of length 10 of your choice containing multiple types of data. Using for loop print the\n",
    "element and its data type."
   ]
  },
  {
   "cell_type": "code",
   "execution_count": 8,
   "id": "8257992a-6df9-4316-b5eb-8c52f843e20b",
   "metadata": {},
   "outputs": [
    {
     "name": "stdout",
     "output_type": "stream",
     "text": [
      "hello\n",
      "it has the datatype:  <class 'str'>\n",
      "this\n",
      "it has the datatype:  <class 'str'>\n",
      "56\n",
      "it has the datatype:  <class 'int'>\n",
      "78.99\n",
      "it has the datatype:  <class 'float'>\n",
      "[4, 5, 6]\n",
      "it has the datatype:  <class 'list'>\n",
      "(7, 8)\n",
      "it has the datatype:  <class 'tuple'>\n",
      "great\n",
      "it has the datatype:  <class 'str'>\n",
      "True\n",
      "it has the datatype:  <class 'bool'>\n",
      "False\n",
      "it has the datatype:  <class 'bool'>\n",
      "89\n",
      "it has the datatype:  <class 'int'>\n"
     ]
    }
   ],
   "source": [
    "lst = [\"hello\", \"this\" , 56, 78.99, [4,5,6], (7,8) ,'great',True, False, 89]\n",
    "\n",
    "for i in lst:\n",
    "    print(i)\n",
    "    print(\"it has the datatype: \", type(i))\n"
   ]
  },
  {
   "cell_type": "markdown",
   "id": "8f70d172-dc90-4908-871e-e1a95d2badf0",
   "metadata": {},
   "source": [
    "Q5. Using a while loop, verify if the number A is purely divisible by number B and if so then how many\n",
    "times it can be divisible."
   ]
  },
  {
   "cell_type": "code",
   "execution_count": 14,
   "id": "f79eb607-8261-429b-a38e-de1e66bfcf04",
   "metadata": {},
   "outputs": [
    {
     "name": "stdout",
     "output_type": "stream",
     "text": [
      "40 is purely divisible by 2 -> 3 times\n"
     ]
    }
   ],
   "source": [
    "c = 40\n",
    "a = c\n",
    "b = 2\n",
    "count = 0\n",
    "while(a % b ==0):\n",
    "    count = count+1\n",
    "    a = a/b\n",
    "print( str(c) + \" is purely divisible by \" + str(b) + \" -> \" + str(count) +\" times\")\n",
    "    "
   ]
  },
  {
   "cell_type": "markdown",
   "id": "de8c6cc9-7b20-4993-8b6f-76e04dde44f2",
   "metadata": {},
   "source": [
    "Q6. Create a list containing 25 int type data. Using for loop and if-else condition print if the element is\n",
    "divisible by 3 or not."
   ]
  },
  {
   "cell_type": "code",
   "execution_count": 17,
   "id": "8e4f51a6-d033-4347-8436-1ed74dfee18f",
   "metadata": {},
   "outputs": [
    {
     "name": "stdout",
     "output_type": "stream",
     "text": [
      "1  is not divisible by 3 \n",
      "2  is not divisible by 3 \n",
      "3  is dividible by 3\n",
      "4  is not divisible by 3 \n",
      "5  is not divisible by 3 \n",
      "6  is dividible by 3\n",
      "7  is not divisible by 3 \n",
      "8  is not divisible by 3 \n",
      "9  is dividible by 3\n",
      "10  is not divisible by 3 \n",
      "11  is not divisible by 3 \n",
      "12  is dividible by 3\n",
      "13  is not divisible by 3 \n",
      "14  is not divisible by 3 \n",
      "15  is dividible by 3\n",
      "16  is not divisible by 3 \n",
      "17  is not divisible by 3 \n",
      "18  is dividible by 3\n",
      "19  is not divisible by 3 \n",
      "20  is not divisible by 3 \n",
      "21  is dividible by 3\n",
      "22  is not divisible by 3 \n",
      "23  is not divisible by 3 \n",
      "24  is dividible by 3\n",
      "25  is not divisible by 3 \n"
     ]
    }
   ],
   "source": [
    "lst = list( range(1,26) )\n",
    "for i in lst:\n",
    "    if(i % 3 == 0):\n",
    "        print(i, \" is dividible by 3\")\n",
    "    else:\n",
    "        print( i, \" is not divisible by 3 \")"
   ]
  },
  {
   "cell_type": "markdown",
   "id": "c364cb16-8f50-4cd0-9a14-7f86d237512a",
   "metadata": {},
   "source": [
    "Q7. What do you understand about mutable and immutable data types? Give examples for both showing\n",
    "this property."
   ]
  },
  {
   "cell_type": "code",
   "execution_count": 30,
   "id": "43e8a244-ee4b-4406-859d-d0a34302598b",
   "metadata": {},
   "outputs": [
    {
     "name": "stdout",
     "output_type": "stream",
     "text": [
      "{'core': 'hello', 'intell': 'core'}\n"
     ]
    }
   ],
   "source": [
    "# mutable data can be changed i.e. modified, added, removed etc for example dict, list, set.\n",
    "# immmutable data cannot be cahnged at all e.g. tuple, string.\n",
    "\n",
    "dictionary = {\"core\" : \"i7\" , \"intell\" : \"core\"}\n",
    "dictionary[\"core\"] = \"hello\"\n",
    "print(dictionary)\n",
    "\n",
    "string = \"hello\"\n",
    "#  string[1] = \"u\"    <--- it will give error"
   ]
  },
  {
   "cell_type": "code",
   "execution_count": null,
   "id": "fbbfe22e-7027-4455-8a79-89dfa274b30c",
   "metadata": {},
   "outputs": [],
   "source": []
  }
 ],
 "metadata": {
  "kernelspec": {
   "display_name": "Python 3 (ipykernel)",
   "language": "python",
   "name": "python3"
  },
  "language_info": {
   "codemirror_mode": {
    "name": "ipython",
    "version": 3
   },
   "file_extension": ".py",
   "mimetype": "text/x-python",
   "name": "python",
   "nbconvert_exporter": "python",
   "pygments_lexer": "ipython3",
   "version": "3.10.8"
  }
 },
 "nbformat": 4,
 "nbformat_minor": 5
}
