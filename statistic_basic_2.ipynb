{
 "cells": [
  {
   "cell_type": "markdown",
   "id": "dfdd8b45-593b-4faa-937f-e22a9da5fb4c",
   "metadata": {},
   "source": [
    "Q1. What are the three measures of central tendency?"
   ]
  },
  {
   "cell_type": "raw",
   "id": "11bad47b-3886-41de-9de6-f287b9295783",
   "metadata": {},
   "source": [
    "Ans) The central tendency of a dataset are used to find a central value: \n",
    "The three measures of central tendency are mean, mode, and median:\n",
    "\n",
    "- mean: It is used when the dataset is quantitative and free of outliers.\n",
    "        mean = sum of values/ the number of values\n",
    " \n",
    "- median: It is used when the dataset is quantitative and contains outliers\n",
    "        median = central value in a sorted sequence\n",
    "\n",
    "- mode: It is used when the dataset is qualitative\n",
    "        mode = the most repeated value in a sequence\n"
   ]
  },
  {
   "cell_type": "markdown",
   "id": "6743d473-457e-4028-ad50-d6255134d7ef",
   "metadata": {},
   "source": [
    "Q2. What is the difference between the mean, median, and mode? How are they used to measure the\n",
    "central tendency of a dataset?"
   ]
  },
  {
   "cell_type": "raw",
   "id": "8dde907b-c334-419b-a0ab-ffbe424dc2cf",
   "metadata": {},
   "source": [
    "- mean: It is used when the dataset is quantitative and free of outliers.\n",
    "        mean = sum of values/ the number of values\n",
    " \n",
    "- median: It is used when the dataset is quantitative and contains outliers\n",
    "        median = central value in a sorted sequence\n",
    "\n",
    "- mode: It is used when the dataset is qualitative\n",
    "        mode = the most repeated value in a sequence"
   ]
  },
  {
   "cell_type": "markdown",
   "id": "f1137001-3a55-4aae-b368-bbe092ec11ca",
   "metadata": {},
   "source": [
    "Q3. Measure the three measures of central tendency for the given height data:\n",
    "[178,177,176,177,178.2,178,175,179,180,175,178.9,176.2,177,172.5,178,176.5]"
   ]
  },
  {
   "cell_type": "code",
   "execution_count": 14,
   "id": "2e87e8b5-3c38-4b75-a291-88167ec53380",
   "metadata": {},
   "outputs": [
    {
     "name": "stdout",
     "output_type": "stream",
     "text": [
      "mean: 177.01875\n",
      "median: 177.0\n",
      "mode: 0    177.0\n",
      "1    178.0\n",
      "dtype: float64\n"
     ]
    }
   ],
   "source": [
    "import pandas as pd\n",
    "\n",
    "data = pd.Series([178,177,176,177,178.2,178,175,179,180,175,178.9,176.2,177,172.5,178,176.5])\n",
    "\n",
    "print(f'mean: {data.mean()}')\n",
    "print(f'median: {data.median()}')\n",
    "print(f'mode: {data.mode()}')\n"
   ]
  },
  {
   "cell_type": "markdown",
   "id": "5048a5a2-dea4-4af4-a04b-c7187e6720ec",
   "metadata": {},
   "source": [
    "Q4. Find the standard deviation for the given data:\n",
    "[178,177,176,177,178.2,178,175,179,180,175,178.9,176.2,177,172.5,178,176.5]"
   ]
  },
  {
   "cell_type": "code",
   "execution_count": 23,
   "id": "010d13c5-e917-47b5-afb5-8f0f81d081d3",
   "metadata": {},
   "outputs": [
    {
     "data": {
      "text/plain": [
       "1.847238930584419"
      ]
     },
     "execution_count": 23,
     "metadata": {},
     "output_type": "execute_result"
    }
   ],
   "source": [
    "data = pd.Series([178,177,176,177,178.2,178,175,179,180,175,178.9,176.2,177,172.5,178,176.5])\n",
    "\n",
    "data.std()\n"
   ]
  },
  {
   "cell_type": "markdown",
   "id": "76fa2cb3-d5a3-4db3-9ab1-e8a1587337b2",
   "metadata": {},
   "source": [
    "Q5. How are measures of dispersion such as range, variance, and standard deviation used to describe\n",
    "the spread of a dataset? Provide an example."
   ]
  },
  {
   "cell_type": "raw",
   "id": "69cc3e51-3340-4b88-869a-d36799737a60",
   "metadata": {},
   "source": [
    "Ans) The measure of dispersion is used to find out, how much data is away from the central tendency. To get an idea of it, we use:\n",
    "\n",
    "Let's consider the data showing the heights of basketball players:\n",
    "[178,177,176,177,178.2,178,175,179,180,175,178.9,176.2,177,172.5,178,176.5] in centimetres\n",
    "\n",
    "- range: The difference between min value and max value.\n",
    "        While it's eady to compute, it does not give a comprehensive understanding of dispersion\n",
    "        \n",
    "        max_value - min_value = 180.0 - 172.5 = 7.5 cm\n",
    "        \n",
    "- vairance: It measures how much each data point is deviated from the average. By dividing the sum of               squared differences of data points from average value.\n",
    "        \n",
    "        variance = 3.412291666666668 cm^2\n",
    "\n",
    "\n",
    "- standard deviation: It is the square root of variance. It id preferred because it is more intuitive. It           gives answer in the same unit as the data.\n",
    "\n",
    "        std_dev = 1.847238930584419 cm\n"
   ]
  },
  {
   "cell_type": "markdown",
   "id": "e15c4553-e820-44c8-ac4c-c86a510f03ef",
   "metadata": {},
   "source": [
    "Q6. What is a Venn diagram?"
   ]
  },
  {
   "cell_type": "markdown",
   "id": "e47dba00-0e88-4860-ab3a-c07afc4d54d1",
   "metadata": {},
   "source": [
    "    Ans) \n",
    "    Venn diagram is a graphical representation of sets and their relationship with other sets in the same universe.\n",
    "    \n",
    "    Here, the universe is represented by the outer rectangle,\n",
    "    sets are represented by circles\n",
    "    relationships such as intersection is represented by overlapping circles to some extent.\n",
    "    \n",
    "    Non overlapping region is said to be non related to each other.\n",
    "    \n",
    "    Neverthless, It can be a really great way of getting an intuition or bird eye view of the sets we are working with, which will help us in further analysis.\n",
    "    \n",
    "    "
   ]
  },
  {
   "cell_type": "markdown",
   "id": "ff1d3b9b-0f8e-4caa-96b0-6b8bc5668a15",
   "metadata": {},
   "source": [
    "Q7. For the two given sets A = (2,3,4,5,6,7) & B = (0,2,6,8,10). Find:\n",
    "(i) A B\n",
    "(ii) A ⋃ B"
   ]
  },
  {
   "cell_type": "raw",
   "id": "8fcde04f-4c7f-44f3-9258-054a1ab042ad",
   "metadata": {},
   "source": [
    "(i) (2,6)\n",
    "(ii) (2,3,4,5,6,7,0,8,10)"
   ]
  },
  {
   "cell_type": "markdown",
   "id": "a7b38afe-ddc4-4a0e-9dbd-5c512706f3fc",
   "metadata": {},
   "source": [
    "Ans) \n",
    "- Skewness is a statistical measure that quantifies the asymmetry of a probabillity distribution of a random variable. \n",
    "- If a probability distribution like normal distribution is symmetric on both sides, then it has a skewness of zero.\n",
    "- If it is not symmetric and has long tail on right side, then it has positive skewness.\n",
    "- onversally, if it has a long left tail, then it has a negative skewness.Q8. What do you understand about skewness in data?"
   ]
  },
  {
   "cell_type": "markdown",
   "id": "e05d7dc2-0da3-41d4-a71c-4be55079d80a",
   "metadata": {},
   "source": [
    "Q9. If a data is right skewed then what will be the position of median with respect to mean?"
   ]
  },
  {
   "cell_type": "markdown",
   "id": "cf61ce59-e3e7-4db5-aaa9-a2df6a774d34",
   "metadata": {},
   "source": [
    "Ans) If the distribution is right skewed, then it has a positive skewness.\n",
    "if the data was symmtric, then the mean, median and mode, would lie on the same place. But, here they will differ. \n",
    "\n",
    "Starting from left, we'll encounter MODE, then MEDIAN and then MEAN.\n",
    "\n",
    "                    MODE <= MEDIAN <= MEAN"
   ]
  },
  {
   "cell_type": "markdown",
   "id": "a73aebf5-d244-4aff-bb00-65ee1f1938b8",
   "metadata": {},
   "source": [
    "Q10. Explain the difference between covariance and correlation. How are these measures used in\n",
    "statistical analysis?"
   ]
  },
  {
   "cell_type": "markdown",
   "id": "e280a92c-b4f4-44c5-8299-85856ba3dd3b",
   "metadata": {},
   "source": [
    "Ans) covariance and correlation are both statistical measures that provide insights into the relationship between two variables . However they serve slightly different purposes.\n",
    "\n",
    "- covariance: It measures the degree to which two variables change together. In other words, it indicates the direction of linear relationship between two variables. A positive covariance suggests that when one variable increases, the other tends to increase as well and vice versa.\n",
    "A negative covariance indicates an inverse relationship: when one variable increases, the other tends to decrease. It does not have a range, hence it is not feadible to know the relationship's strength\n",
    "\n",
    "\n",
    "- correlation: It addresses the limitations of covariance by standardizing the covariance value. it measures the strength and direction of the linear relationship between two vavraibles on a scale rom -1 to +1"
   ]
  },
  {
   "cell_type": "markdown",
   "id": "8b5892a5-2a02-4a4b-a7c5-9620ae4f0ac5",
   "metadata": {},
   "source": [
    "Q11. What is the formula for calculating the sample mean? Provide an example calculation for a\n",
    "dataset."
   ]
  },
  {
   "cell_type": "raw",
   "id": "9d82bbb7-faaa-49c0-ac0a-acd666f28071",
   "metadata": {},
   "source": [
    "The sample mean is calculated by summing up all the individual data points in a sample and then dividing by the total number of data points in the sample. Mathematically, it can be expressed as follows:\n",
    "\n",
    "Sample Mean (x̄) = (Sum of all data points) / (Total number of data points)\n",
    "\n",
    "In formula form:\n",
    "x̄ = (x₁ + x₂ + x₃ + ... + xₙ) / n\n",
    "\n",
    "in data=[2,3,4,5,6,7,8]\n",
    "\n",
    "x̄ = (2 + 3 + 4 + 5 + 6 + 7 + 8) /8\n",
    "  = 4.37"
   ]
  },
  {
   "cell_type": "markdown",
   "id": "2705d4bc-3f18-4dc6-aaf7-e6429a23236e",
   "metadata": {},
   "source": [
    "Q12. For a normal distribution data what is the relationship between its measure of central tendency?"
   ]
  },
  {
   "cell_type": "markdown",
   "id": "0e988349-42d3-4763-b4c7-b64eca48f705",
   "metadata": {},
   "source": [
    "Mean (μ): The mean of a normally distributed dataset is located at the center of the distribution, and it coincides with the peak of the curve. In other words, the mean is equal to the median and the mode in a perfectly symmetrical normal distribution.\n",
    "\n",
    "Median: The median of a normal distribution is also located at the center of the distribution. Since the normal distribution is symmetric, the median is equal to the mean. This means that 50% of the data lies below the median and 50% lies above it.\n",
    "\n",
    "Mode: The mode of a normal distribution is also located at the center of the distribution and is equal to both the mean and the median. In a symmetric normal distribution, every value occurs with the same frequency, resulting in a single peak or mode at the center."
   ]
  },
  {
   "cell_type": "markdown",
   "id": "49ad9d13-4fa2-41de-bd35-d8a9c6d79284",
   "metadata": {},
   "source": [
    "Q13. How is covariance different from correlation?"
   ]
  },
  {
   "cell_type": "markdown",
   "id": "476bb7ff-57e2-404b-88e6-bbd7f8652072",
   "metadata": {},
   "source": [
    "\n",
    "- covariance: It measures the degree to which two variables change together. In other words, it indicates the direction of linear relationship between two variables. A positive covariance suggests that when one variable increases, the other tends to increase as well and vice versa.\n",
    "A negative covariance indicates an inverse relationship: when one variable increases, the other tends to decrease. It does not have a range, hence it is not feadible to know the relationship's strength\n",
    "\n",
    "\n",
    "- correlation: It addresses the lim"
   ]
  },
  {
   "cell_type": "markdown",
   "id": "ab1c6b8c-1436-4091-9b92-85bceff6ca76",
   "metadata": {},
   "source": [
    "Q14. How do outliers affect measures of central tendency and dispersion? Provide an example."
   ]
  },
  {
   "cell_type": "markdown",
   "id": "ba3abdcc-1044-4256-b1bf-b3a425626f10",
   "metadata": {},
   "source": [
    "Effects on Measures of Dispersion:\n",
    "Outliers can also affect measures of dispersion, which describe the spread or variability of the data.\n",
    "\n",
    "Range: The range, which is the difference between the maximum and minimum values, \n",
    "can be greatly affected by outliers, especially if they are much larger or smaller than the bulk of the data.\n",
    "\n",
    "Variance and Standard Deviation: Outliers can lead to inflated values of variance and standard deviation because these measures account for the squared differences between each data point and the mean. Since outliers can have large differences from the mean, squaring these differences amplifies their impact.\n",
    "\n",
    "Here's an example to illustrate the impact of outliers:\n",
    "\n",
    "Let's consider a dataset of exam scores: 85, 90, 78, 92, 88, and an outlier, 200 (which is much larger than the other scores).\n",
    "\n",
    "Mean: Without the outlier: (85 + 90 + 78 + 92 + 88) / 5 = 86.6\n",
    "With the outlier: (85 + 90 + 78 + 92 + 88 + 200) / 6 = 110.83\n",
    "\n",
    "Median: Without the outlier: 88\n",
    "With the outlier: 89\n",
    "\n",
    "Variance: Without the outlier: 35.3\n",
    "With the outlier: 1787.47\n",
    "\n",
    "Standard Deviation: Without the outlier: ~5.95\n",
    "With the outlier: ~42.30"
   ]
  }
 ],
 "metadata": {
  "kernelspec": {
   "display_name": "Python 3 (ipykernel)",
   "language": "python",
   "name": "python3"
  },
  "language_info": {
   "codemirror_mode": {
    "name": "ipython",
    "version": 3
   },
   "file_extension": ".py",
   "mimetype": "text/x-python",
   "name": "python",
   "nbconvert_exporter": "python",
   "pygments_lexer": "ipython3",
   "version": "3.10.8"
  }
 },
 "nbformat": 4,
 "nbformat_minor": 5
}
