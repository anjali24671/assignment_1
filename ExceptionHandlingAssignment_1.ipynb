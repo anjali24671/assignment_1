{
 "cells": [
  {
   "cell_type": "markdown",
   "id": "52fdde52-f1bb-4fd2-8457-9abffb508238",
   "metadata": {},
   "source": [
    "Q1) What is an exception in python? Write the differences between Exceptions and Syntax error.\n"
   ]
  },
  {
   "cell_type": "markdown",
   "id": "37352e7c-1ad4-4655-a8d9-558fcf36fb90",
   "metadata": {},
   "source": [
    "    Ans) Exceptions in python are error or unwanted behaviour from the program. We can handle exceptions using try except block. Exceptions occur in the normal flow of program, they may occur because of un desirable input from the user etc, when the syntax and logic is correct but syntax errors are caused by the programmer due to lack of knowledge."
   ]
  },
  {
   "cell_type": "markdown",
   "id": "f94d70d6-de73-41d1-811c-932d87f8ae65",
   "metadata": {},
   "source": [
    "Q2) What happens when an exception is not handled? Explain with an example."
   ]
  },
  {
   "cell_type": "markdown",
   "id": "d4a51477-496e-4140-98d9-4583f386ae21",
   "metadata": {},
   "source": [
    "    Ans) When an exception is not handled, the program is terminated."
   ]
  },
  {
   "cell_type": "code",
   "execution_count": 8,
   "id": "d4274d1a-3a3c-4649-b5b4-be2d4a7048d9",
   "metadata": {},
   "outputs": [
    {
     "ename": "ZeroDivisionError",
     "evalue": "division by zero",
     "output_type": "error",
     "traceback": [
      "\u001b[0;31m---------------------------------------------------------------------------\u001b[0m",
      "\u001b[0;31mZeroDivisionError\u001b[0m                         Traceback (most recent call last)",
      "Cell \u001b[0;32mIn[8], line 4\u001b[0m\n\u001b[1;32m      1\u001b[0m \u001b[38;5;28;01mdef\u001b[39;00m \u001b[38;5;21mdivide_func\u001b[39m(a,b):\n\u001b[1;32m      2\u001b[0m     \u001b[38;5;28mprint\u001b[39m(a\u001b[38;5;241m/\u001b[39mb)\n\u001b[0;32m----> 4\u001b[0m \u001b[43mdivide_func\u001b[49m\u001b[43m(\u001b[49m\u001b[38;5;241;43m2\u001b[39;49m\u001b[43m,\u001b[49m\u001b[38;5;241;43m0\u001b[39;49m\u001b[43m)\u001b[49m    \n\u001b[1;32m      5\u001b[0m \u001b[38;5;66;03m# This will not be executed, becoz the program will terminate\u001b[39;00m\n\u001b[1;32m      6\u001b[0m \u001b[38;5;28mprint\u001b[39m(\u001b[38;5;124m\"\u001b[39m\u001b[38;5;124mdid not termiante\u001b[39m\u001b[38;5;124m\"\u001b[39m)\n",
      "Cell \u001b[0;32mIn[8], line 2\u001b[0m, in \u001b[0;36mdivide_func\u001b[0;34m(a, b)\u001b[0m\n\u001b[1;32m      1\u001b[0m \u001b[38;5;28;01mdef\u001b[39;00m \u001b[38;5;21mdivide_func\u001b[39m(a,b):\n\u001b[0;32m----> 2\u001b[0m     \u001b[38;5;28mprint\u001b[39m(\u001b[43ma\u001b[49m\u001b[38;5;241;43m/\u001b[39;49m\u001b[43mb\u001b[49m)\n",
      "\u001b[0;31mZeroDivisionError\u001b[0m: division by zero"
     ]
    }
   ],
   "source": [
    "def divide_func(a,b):\n",
    "    print(a/b)\n",
    "\n",
    "divide_func(2,0)    \n",
    "# This will not be executed, becoz the program will terminate\n",
    "print(\"did not termiante\")\n",
    "    \n",
    "   \n"
   ]
  },
  {
   "cell_type": "markdown",
   "id": "8e218bab-b4de-4c30-b2dd-00e3cb3d9e71",
   "metadata": {},
   "source": [
    "Q3) Which python statements are used to catch and handle exceptions? Explain with an example."
   ]
  },
  {
   "cell_type": "markdown",
   "id": "dc7294d5-eac5-4385-9970-4892cfcdf32e",
   "metadata": {},
   "source": [
    "    Ans) try and except blocks are used to handle  exceptions in python."
   ]
  },
  {
   "cell_type": "code",
   "execution_count": 12,
   "id": "ff712025-5900-44e3-bd74-f38fa8d7e89b",
   "metadata": {},
   "outputs": [
    {
     "name": "stdout",
     "output_type": "stream",
     "text": [
      "Look's like you are trying to divide by zero division by zero\n",
      "0.6666666666666666\n"
     ]
    }
   ],
   "source": [
    "try:\n",
    "    divide_func(2,0)\n",
    "except ZeroDivisionError as e:\n",
    "    print(\"Look's like you are trying to divide by zero \"+str(e))\n",
    "\n",
    "#This time it will exceute    \n",
    "divide_func(2,3)"
   ]
  },
  {
   "cell_type": "raw",
   "id": "79bc75af-1afd-444b-93d8-2094cbdf541d",
   "metadata": {},
   "source": [
    "Q4) Explain with an example:\n",
    "    - try and else\n",
    "    - finally\n",
    "    - raise"
   ]
  },
  {
   "cell_type": "code",
   "execution_count": 20,
   "id": "0184e148-e153-45a8-83e6-52e5010a90d7",
   "metadata": {},
   "outputs": [
    {
     "name": "stdout",
     "output_type": "stream",
     "text": [
      "why are you dividing by zero?\n",
      "It will always execute no matter what\n"
     ]
    }
   ],
   "source": [
    "def divide_func1(a,b):\n",
    "    if b==0:\n",
    "        raise ZeroDivisionError(\"why are you dividing by zero?\") \n",
    "    else:\n",
    "        print(a/b)\n",
    "        \n",
    "try:\n",
    "    divide_func1(3,0)\n",
    "except Exception as e:\n",
    "    print(e)\n",
    "else:\n",
    "    print(\"This will execute in case no exception has occured\")\n",
    "finally:\n",
    "    print(\"It will always execute no matter what\")"
   ]
  },
  {
   "cell_type": "markdown",
   "id": "222ea877-645b-46b2-ab3b-e93d8d4ef7f5",
   "metadata": {},
   "source": [
    "Q5) What are Custom Exceptions in python? Why do we need Custom Exceptions? Explain with an example."
   ]
  },
  {
   "cell_type": "markdown",
   "id": "1dccae06-7f7a-479d-a392-2dc3b6555f34",
   "metadata": {},
   "source": [
    "    Ans) Custom exceptions are made by the progrmmer, they initially do not exist in python. We need them to customize our own exceptions and program."
   ]
  },
  {
   "cell_type": "markdown",
   "id": "9ffc0ec4-f610-4fb1-92bd-0f0472078d90",
   "metadata": {},
   "source": [
    "Q6) Create a custom exception class. Use this class to ah"
   ]
  },
  {
   "cell_type": "code",
   "execution_count": 22,
   "id": "9b686208-f303-4a82-9088-789345419863",
   "metadata": {},
   "outputs": [
    {
     "name": "stdin",
     "output_type": "stream",
     "text": [
      "Enter your age 45\n"
     ]
    },
    {
     "name": "stdout",
     "output_type": "stream",
     "text": [
      "You are too big for this\n"
     ]
    }
   ],
   "source": [
    "# Our own Exception\n",
    "class kindergarden_age(Exception):\n",
    "    def __init__(self, msg):\n",
    "        self.msg = msg\n",
    "# function to validate age        \n",
    "def kinderGardenValidate(age):\n",
    "    if age > 9:\n",
    "        raise kindergarden_age(\"You are too big for this\")\n",
    "    else:\n",
    "        print(\"Take admission in our school\")\n",
    "        \n",
    "try:\n",
    "    Myage = int(input(\"Enter your age\"))\n",
    "    kinderGardenValidate(Myage)\n",
    "except kindergarden_age as e:\n",
    "    print(e)"
   ]
  },
  {
   "cell_type": "code",
   "execution_count": null,
   "id": "5e54ae68-095d-4caa-b7be-2835cf2d968f",
   "metadata": {},
   "outputs": [],
   "source": []
  }
 ],
 "metadata": {
  "kernelspec": {
   "display_name": "Python 3 (ipykernel)",
   "language": "python",
   "name": "python3"
  },
  "language_info": {
   "codemirror_mode": {
    "name": "ipython",
    "version": 3
   },
   "file_extension": ".py",
   "mimetype": "text/x-python",
   "name": "python",
   "nbconvert_exporter": "python",
   "pygments_lexer": "ipython3",
   "version": "3.10.8"
  }
 },
 "nbformat": 4,
 "nbformat_minor": 5
}
