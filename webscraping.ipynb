{
 "cells": [
  {
   "cell_type": "markdown",
   "id": "c082cc07-c6b2-4a6f-b38e-3bd453e52d93",
   "metadata": {},
   "source": [
    "Q1. What is Web Scraping? Why is it Used? Give three areas where Web Scraping is used to get data."
   ]
  },
  {
   "cell_type": "markdown",
   "id": "ee04f665-198b-4824-a810-7bca6c096f15",
   "metadata": {},
   "source": [
    "Ans) Webscraping is the process of retrieving relevant information from the web, often websites. It involves automatically retrieving data by parsing HTML and other structured data such as tables. It allows us to gather data from websites in a structured format, even if the data is not provided through an official API.\n",
    "\n",
    "It can be used in plenty of application:\n",
    "- Data collection and analysis: We can gather massive ammount of data from a website and analyze it to find trends and track changes over time etc.\n",
    "\n",
    "- Market Research: Organizers can scrape data from competitor websites, online marketplaces, or social media to gain insights into competetitors activites.\n",
    "\n",
    "- sentiment analysis: When we have large amount of data showing the sentiments of customers or people in general, then we can feed it into an ML model to predict the sentiments of people.\n"
   ]
  },
  {
   "cell_type": "markdown",
   "id": "9981cb05-81cf-4e03-ae65-5060177b88f9",
   "metadata": {},
   "source": [
    "Q2. What are the different methods used for Web Scraping?"
   ]
  },
  {
   "cell_type": "markdown",
   "id": "4a57d6ea-1cbb-4bf4-b8f5-5f888ef0d0a5",
   "metadata": {},
   "source": [
    "Ans) There are many methods to scrape data on web each with its own advantage and disadvantage.\n",
    "\n",
    "- HTTP libraies and requests: Libraies like 'requests' are used to make HTTP requests to a website's server and retrieve its HTML content.(sometimes websites do not allow it)\n",
    "\n",
    "- HTML parsing libraies(Beautiful Soup): These libraries provide methods to navigate and extract data from the HTML structure.\n",
    "\n",
    "- APIs and Web Services: Websites provide APIs that allow you to access their data programmatically without needing to scrape the HTML content.\n"
   ]
  },
  {
   "cell_type": "markdown",
   "id": "f890a3b7-23c9-4bca-9533-abef9081c215",
   "metadata": {},
   "source": [
    "Q3. What is Beautiful Soup? Why is it used?"
   ]
  },
  {
   "cell_type": "markdown",
   "id": "64025843-21a5-424c-a912-8b3da154c642",
   "metadata": {},
   "source": [
    "Ans) Beautiful Soup is a python library that is commonly used for web scraping and parsing HTML and XML documents. It provides tools for extracting data from web pages, navigating HTML structure and maipulatinf the parsed data. Beautiful Soup is particularly useful when you need to work with unstructured or semi- Structured data from websites.\n",
    "\n",
    "- HTML and XML parsing: Beautiful Soup parse both HTML and XML documents, allowing you to extract data from web pages and other structured documents.\n",
    "\n",
    "- Navigable and Searchable: It creates a navigable parse tree from the HTML content, which you can traverse and serach using methods and filters."
   ]
  },
  {
   "cell_type": "markdown",
   "id": "7e3bd006-5889-4b12-81f8-559fa883feda",
   "metadata": {},
   "source": [
    "Q4. Why is flask used in this Web Scraping project?"
   ]
  },
  {
   "cell_type": "markdown",
   "id": "568beee5-96d4-4ac7-8516-6fb330e55c3a",
   "metadata": {},
   "source": [
    "Ans) Flask is python web framework, which can be used to do the backending of a website. In this project, we have used it to render HTML pages to specific URL routes, so that user can visit different pages, i.e., routes and get specific webpages.\n",
    "\n",
    "Flask is simple to use and it comes under the category of miscro framwework i.e., it only provides the bare minimum functionality which was just what we wanted for our small project.\n",
    "Flask helped us to create this website very easily.\n"
   ]
  },
  {
   "cell_type": "markdown",
   "id": "f368d979-edde-4d0f-9822-ff7815315feb",
   "metadata": {},
   "source": [
    "Q5. Write the names of AWS services used in this project. Also, explain the use of each service."
   ]
  },
  {
   "cell_type": "markdown",
   "id": "09f87da5-18e9-4869-afe1-99b232fc7039",
   "metadata": {},
   "source": [
    "- Aws Code Pipeline: It is CI/CD (continuous integration and continuous delivery) service that automates the process of building, testing, and deploying code changes. CodePipelines provide a structured way to move your code changes through various stages, from source code repository to production deployment.\n",
    "\n",
    "- Aws Beanstalk: It provides PaaS (platform as service) ehich simplifies the process of deploying and managing web application and service."
   ]
  },
  {
   "cell_type": "code",
   "execution_count": null,
   "id": "776c6c2d-04b1-45f4-a725-03ea6a717c21",
   "metadata": {},
   "outputs": [],
   "source": []
  }
 ],
 "metadata": {
  "kernelspec": {
   "display_name": "Python 3 (ipykernel)",
   "language": "python",
   "name": "python3"
  },
  "language_info": {
   "codemirror_mode": {
    "name": "ipython",
    "version": 3
   },
   "file_extension": ".py",
   "mimetype": "text/x-python",
   "name": "python",
   "nbconvert_exporter": "python",
   "pygments_lexer": "ipython3",
   "version": "3.10.8"
  }
 },
 "nbformat": 4,
 "nbformat_minor": 5
}
