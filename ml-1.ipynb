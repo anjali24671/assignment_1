{
 "cells": [
  {
   "cell_type": "markdown",
   "id": "72e5f5e4-5931-47fc-85b5-2dacb51f59e9",
   "metadata": {},
   "source": [
    "1. Explain the following with an example :\n",
    "- Artificial intelligence\n",
    "- machine learning\n",
    "- deep learning"
   ]
  },
  {
   "cell_type": "raw",
   "id": "8282ed04-9460-43d6-8678-a908466493f4",
   "metadata": {},
   "source": [
    "Ans) Artificial intelligence is a field of computer science that focuses on creating intelligent systems capable of performing tasks that usuallyy require human intelligence.\n",
    "\n",
    "machine learning is a subset of artificial intelligence, that involves the development of algorithm and models tha allow computers to learn form and make predictions or decision based on data. It can be categorized into three categories, supervised, unsupervised and reinforcament learning algorithms.\n",
    "\n",
    "Deep learning is a subset of machine learning that focuses on neural networks with multiple layers. These networks are inspired by the structure of the human brain and are designed to automatically learn ."
   ]
  },
  {
   "cell_type": "markdown",
   "id": "58f171be-6aae-4a30-8e77-a28ff34c9850",
   "metadata": {},
   "source": [
    "2. What is supervised learining? LIst some example of suprvised learning\n"
   ]
  },
  {
   "cell_type": "raw",
   "id": "729afcb6-3fa1-4394-8757-792abb72a815",
   "metadata": {},
   "source": [
    "Ans) supervised learning is a learning approach, where algorithm learns from a labeled dataset, consisting of input data and corresponding output labels.\n",
    "The goal of the algorithm is to learn a mapping from inputs to outputs, so it can make right predictions on new, unseen data.\n",
    "eg. Image classification, sentiment analysis, stock price prediction.\n"
   ]
  },
  {
   "cell_type": "markdown",
   "id": "88a6eec7-b0a2-4f0a-b137-17bb443e9e8a",
   "metadata": {},
   "source": [
    "3. What is unsupervised learning? List some examples of supervised learning."
   ]
  },
  {
   "cell_type": "raw",
   "id": "5feca1c7-d115-495b-973b-8f38ea744ed0",
   "metadata": {},
   "source": [
    "Ans) Unsupervised learning is a machine learning approach, where algorithm works with unlabeled data, seeking to find inherent patterns or structure within it. The goal is to find hidden patterns or insights without explicit labels.\n",
    "e.g. It is used in clustering and dimensionality reductions.\n"
   ]
  },
  {
   "cell_type": "raw",
   "id": "089af5b3-b5ef-47a4-9619-0fdd44a5a6ce",
   "metadata": {},
   "source": [
    "4. What is the difference vetween AI, ML, DL and DS?"
   ]
  },
  {
   "cell_type": "raw",
   "id": "efa9cbc4-7480-4dcf-b604-f7dbababaf49",
   "metadata": {},
   "source": [
    "Ans) Artificial intelligence is the superset of all these technologies.\n",
    "It focuses on creating intelligent systems capable of performing tasks that only human intelligence could perform.\n",
    "\n",
    "machine learning is a subset of AI. It focuses on building algorithms that can make predictions on unseen data.\n",
    "\n",
    "Deep learining is a subset of ML. It mainly focuses on simulating the neural network in human brain.\n",
    "\n",
    "Data science is an interdisciplinary field. It intersects with all the above fields. Additionaly, it has more to it e.g., statistics, mathematics, probability, domain knowledge etc."
   ]
  },
  {
   "cell_type": "markdown",
   "id": "2bf16987-e5af-46e1-9e1c-a922c8f40ac0",
   "metadata": {},
   "source": [
    "5. What are the main differences between supervised, unsupervised and semi-supervized learing?"
   ]
  },
  {
   "cell_type": "markdown",
   "id": "9e8932a5-8906-4f43-abac-fa0ec272716f",
   "metadata": {},
   "source": [
    "Ans) The main difference between supervised and unsupervised learning approach lies in the data. \n",
    "In supervised learning,labeled input data and output data, both are fed. The goal of the algorithm is to map both of them. Based on the mapping/ learning, it is able to make predictions on unseen and new data, with high accuracy.\n",
    "\n",
    "In unsupervised learning, the algorithm works with unlabeled data. It finds hidden pattern and insights from the data. It is used to find inherent patterns from the data. \n",
    "\n",
    "semi-supervised learning combines elements of both supervised and unsupervised learning. The main idea behind it is to leverage the information contained in the unlabaled data to improve the performance of the model beyond what could be achieved with only a small amount of labeled data. The algorithm uses the labeled data to guide its learning process and then generalizes from the unlabeled data. \n"
   ]
  },
  {
   "cell_type": "markdown",
   "id": "e064ae44-0a97-47ac-9c62-0ee4b3c594e1",
   "metadata": {},
   "source": [
    "6. What is train ,test and validation split?"
   ]
  },
  {
   "cell_type": "raw",
   "id": "ce0915f3-2963-470c-84ae-829bc2854356",
   "metadata": {},
   "source": [
    "Ans) \n",
    "When we collect data for a model, it is preprocesssed and it is splited into three categories, so to use the preprocessed data in three consecutive phases.\n",
    "\n",
    "Training data is the portion of the dataset that the machine learning model uses to learn and adjust its  internal parameters. During the training, the models take training input data with corresonding output data and set parameters based on patterns identified.\n",
    "\n",
    "Validation data is used to fine tune the model's hyperparameters and assess its performance. It helps prevent overfitting, which occurs when a model work best on training data but poorly on unseen data.\n",
    "\n",
    "Test data is used to test the model after it has learned on the preprocessed data. It is imperative to use test data, so that we can assess how well our model is working on unseen data."
   ]
  },
  {
   "cell_type": "markdown",
   "id": "9691fd02-a4a0-46e8-b0b0-851fbdab0666",
   "metadata": {},
   "source": [
    "7. How can unsupervised learning be used in anomaly detection?\n"
   ]
  },
  {
   "cell_type": "raw",
   "id": "978de999-76c0-4efc-b338-657e751b6ffd",
   "metadata": {},
   "source": [
    "Ans) Unsupervised learning algorithms use unlabeled data and focuses on finding patterns or relationship between data points, based upon which they are divided into clusters. This could be quite useful in anamoly detection. Anamoly will have different properties than normal data. Hence the algorithm can find them easily."
   ]
  },
  {
   "cell_type": "markdown",
   "id": "c4692736-e1e3-45d2-bda4-95f51f4304d8",
   "metadata": {},
   "source": [
    "8. List down some commonly used supervised learning algorithm and unsupervised learning algorithms"
   ]
  },
  {
   "cell_type": "raw",
   "id": "a051e93a-6a6e-404a-99b9-de597e08ad18",
   "metadata": {},
   "source": [
    "Ans) Some commonly used supervised and unsupervised learning algorithms are:\n",
    "\n",
    "supervised:\n",
    "    image classification\n",
    "    sentiment analysis\n",
    "    House price prediction\n",
    "    \n",
    "unsupervised:\n",
    "    Clustering\n",
    "    dimension reduction\n",
    "    anamoly detection"
   ]
  },
  {
   "cell_type": "code",
   "execution_count": null,
   "id": "53f4100a-a07c-4f32-a14c-a5cb8443f189",
   "metadata": {},
   "outputs": [],
   "source": []
  }
 ],
 "metadata": {
  "kernelspec": {
   "display_name": "Python 3 (ipykernel)",
   "language": "python",
   "name": "python3"
  },
  "language_info": {
   "codemirror_mode": {
    "name": "ipython",
    "version": 3
   },
   "file_extension": ".py",
   "mimetype": "text/x-python",
   "name": "python",
   "nbconvert_exporter": "python",
   "pygments_lexer": "ipython3",
   "version": "3.10.8"
  }
 },
 "nbformat": 4,
 "nbformat_minor": 5
}
