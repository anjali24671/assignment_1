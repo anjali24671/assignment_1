{
 "cells": [
  {
   "cell_type": "markdown",
   "id": "52fdde52-f1bb-4fd2-8457-9abffb508238",
   "metadata": {},
   "source": [
    "Q1) Explain why we have to use the Exception class while creating a Custom Exception."
   ]
  },
  {
   "cell_type": "markdown",
   "id": "37352e7c-1ad4-4655-a8d9-558fcf36fb90",
   "metadata": {},
   "source": [
    "    Ans) \"Exception\" is the super class of all the exceptions. So, when we create our own exception, we inherit it, so, that we can avail all of its methods."
   ]
  },
  {
   "cell_type": "markdown",
   "id": "f94d70d6-de73-41d1-811c-932d87f8ae65",
   "metadata": {},
   "source": [
    "Q2)Write a python program to print Python Exception Hierarchy?"
   ]
  },
  {
   "cell_type": "code",
   "execution_count": null,
   "id": "5b80dd0f-d6d7-4297-b9f5-9bd818682af7",
   "metadata": {},
   "outputs": [],
   "source": [
    "try:\n",
    "    print(2/0)\n",
    "except ArithmeticError"
   ]
  },
  {
   "cell_type": "code",
   "execution_count": null,
   "id": "d4274d1a-3a3c-4649-b5b4-be2d4a7048d9",
   "metadata": {},
   "outputs": [],
   "source": []
  },
  {
   "cell_type": "markdown",
   "id": "8e218bab-b4de-4c30-b2dd-00e3cb3d9e71",
   "metadata": {},
   "source": [
    "Q3)What errors are defined in ArithmeticError class? Explain any two with an example."
   ]
  },
  {
   "cell_type": "raw",
   "id": "cb37d78c-ecf1-4f2f-8393-320d25a3231b",
   "metadata": {},
   "source": [
    "Ans) ArithmeticException class has three exceptions: \n",
    "(1) ZeroDivisonError: Raised when a number is divided         by zero.\n",
    "(2)FLoatingPointError: Raised when the precision             limit of floating point is exceeded.         (3)OverflowError: Raised when size of a \n",
    "    numeric type is exceeded."
   ]
  },
  {
   "cell_type": "code",
   "execution_count": 31,
   "id": "ff712025-5900-44e3-bd74-f38fa8d7e89b",
   "metadata": {},
   "outputs": [
    {
     "name": "stdout",
     "output_type": "stream",
     "text": [
      "zero division error\n"
     ]
    }
   ],
   "source": [
    "try:\n",
    "    print(3/0)\n",
    "except ZeroDivisionError:\n",
    "    print(\"zero division error\")"
   ]
  },
  {
   "cell_type": "code",
   "execution_count": 38,
   "id": "94f0c262-0355-4c6e-a66b-545ba92d9855",
   "metadata": {},
   "outputs": [
    {
     "name": "stdout",
     "output_type": "stream",
     "text": [
      "too much precision\n"
     ]
    }
   ],
   "source": [
    "import math\n",
    "try:\n",
    "    a = math.exp(1000)\n",
    "except OverflowError:\n",
    "    print(\"too much precision\")"
   ]
  },
  {
   "cell_type": "raw",
   "id": "79bc75af-1afd-444b-93d8-2094cbdf541d",
   "metadata": {},
   "source": [
    "Q4) Why LookupError class is used? Explain any two with an example."
   ]
  },
  {
   "cell_type": "markdown",
   "id": "8ee8336c-bb20-40f0-b3a7-4d92de6e06a7",
   "metadata": {},
   "source": [
    "    Ans) It is the base class of exceptions, raised when something's not found. It conatains subclasses such as IndexError and KeyError."
   ]
  },
  {
   "cell_type": "code",
   "execution_count": 45,
   "id": "8b437e26-5be0-44b9-8602-29c474af9b9a",
   "metadata": {},
   "outputs": [
    {
     "name": "stdout",
     "output_type": "stream",
     "text": [
      "list index out of range\n"
     ]
    }
   ],
   "source": [
    "lst = [3,45,6,2,2,6]\n",
    "di= {3:5,5:3}\n",
    "\n",
    "try:\n",
    "    print(lst[6])\n",
    "except IndexError as i:\n",
    "    print(i)"
   ]
  },
  {
   "cell_type": "code",
   "execution_count": 50,
   "id": "03301e9a-3038-4276-81e3-3e10f88adb9c",
   "metadata": {},
   "outputs": [
    {
     "name": "stdout",
     "output_type": "stream",
     "text": [
      "key error\n"
     ]
    }
   ],
   "source": [
    "try:\n",
    "    print(di['u'])\n",
    "except KeyError as k:\n",
    "    print(\"key error\")"
   ]
  },
  {
   "cell_type": "markdown",
   "id": "222ea877-645b-46b2-ab3b-e93d8d4ef7f5",
   "metadata": {},
   "source": [
    "Q5)Explain ImportError. What is ModuleNotFoundError?"
   ]
  },
  {
   "cell_type": "markdown",
   "id": "1dccae06-7f7a-479d-a392-2dc3b6555f34",
   "metadata": {},
   "source": [
    "    Ans) ImportErrors are raised when there's some problem while importing. ModuleNotFoundError is raised when the module we are trying to import is found(maybe module doesn't exist)"
   ]
  },
  {
   "cell_type": "code",
   "execution_count": 51,
   "id": "ed235b32-6acb-493f-8214-d541f70f8d33",
   "metadata": {},
   "outputs": [
    {
     "name": "stdout",
     "output_type": "stream",
     "text": [
      "No module named 'dsgjdsjg'\n"
     ]
    }
   ],
   "source": [
    "try:\n",
    "    import dsgjdsjg\n",
    "except ModuleNotFoundError as m:\n",
    "    print(m)"
   ]
  },
  {
   "cell_type": "markdown",
   "id": "9ffc0ec4-f610-4fb1-92bd-0f0472078d90",
   "metadata": {},
   "source": [
    "Q6) List down some best practises for exception handling in python."
   ]
  },
  {
   "cell_type": "markdown",
   "id": "cc65553a-b910-4196-a45c-84a192fcf0cb",
   "metadata": {},
   "source": [
    "Ans)\n",
    "1) Use specific exception in except block.\n",
    "2) Write in ascending level of heirarchy.\n",
    "3) clean up resources in finally block.\n",
    "4) always  log instead of print."
   ]
  },
  {
   "cell_type": "code",
   "execution_count": null,
   "id": "a553c637-0e7d-4103-857f-e2c172af3229",
   "metadata": {},
   "outputs": [],
   "source": []
  }
 ],
 "metadata": {
  "kernelspec": {
   "display_name": "Python 3 (ipykernel)",
   "language": "python",
   "name": "python3"
  },
  "language_info": {
   "codemirror_mode": {
    "name": "ipython",
    "version": 3
   },
   "file_extension": ".py",
   "mimetype": "text/x-python",
   "name": "python",
   "nbconvert_exporter": "python",
   "pygments_lexer": "ipython3",
   "version": "3.10.8"
  }
 },
 "nbformat": 4,
 "nbformat_minor": 5
}
