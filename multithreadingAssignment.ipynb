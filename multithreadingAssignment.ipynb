{
 "cells": [
  {
   "cell_type": "markdown",
   "id": "f70c5595-510a-418c-a30f-1f6b39d1cae2",
   "metadata": {},
   "source": [
    "Q1)What is multithreading in python? Why is it used? Name the module used to handle threads in python."
   ]
  },
  {
   "cell_type": "markdown",
   "id": "72014d8c-8113-4220-a012-32e4f1e9c239",
   "metadata": {},
   "source": [
    "    Ans) Multithreading is used to execute two procedures concurrently. It drastically decreases the cummulative time to execute those multiple programs, hence it is used. \"threading\" module is used to handle threads in python"
   ]
  },
  {
   "cell_type": "markdown",
   "id": "c25345ad-41ff-40ef-a503-23f3c5aaf73d",
   "metadata": {},
   "source": [
    "Q2) Why threading module used? Write the use of the following functions:\n",
    "1. activeCount()\n",
    "2. currentThread()\n",
    "3. enumerate()"
   ]
  },
  {
   "cell_type": "markdown",
   "id": "4a8dfa27-5395-429a-b395-799f6eacf214",
   "metadata": {},
   "source": [
    "    Ans) threading module is used to handle operations related with threads in python. active_thread() is used to return the count of all active threads. current_thread() is used to return the thread object which is currently executing. enumerate() returns a list containing all the active thread objects. \n",
    "    "
   ]
  },
  {
   "cell_type": "code",
   "execution_count": 21,
   "id": "fd66ab9b-93b6-4382-9cc0-ae08d0755965",
   "metadata": {},
   "outputs": [
    {
     "name": "stdout",
     "output_type": "stream",
     "text": [
      "8 threads are active!\n",
      "\n",
      "The current thread is: <_MainThread(MainThread, started 140277334341440)>\n",
      "\n",
      "The list of all active threads:\n",
      " [<_MainThread(MainThread, started 140277334341440)>, <Thread(IOPub, started daemon 140277188654656)>, <Heartbeat(Heartbeat, started daemon 140277180261952)>, <Thread(Thread-3 (_watch_pipe_fd), started daemon 140277155083840)>, <Thread(Thread-4 (_watch_pipe_fd), started daemon 140277146691136)>, <ControlThread(Control, started daemon 140277138298432)>, <HistorySavingThread(IPythonHistorySavingThread, started 140276786001472)>, <ParentPollerUnix(Thread-2, started daemon 140276777608768)>]\n"
     ]
    }
   ],
   "source": [
    "import threading\n",
    "print(f\"{threading.active_count()} threads are active!\\n\")\n",
    "print(f\"The current thread is: {threading.current_thread()}\\n\")\n",
    "print(f\"The list of all active threads:\\n {threading.enumerate()}\")"
   ]
  },
  {
   "cell_type": "markdown",
   "id": "27b7c1cf-63a4-43f1-961c-bc16bbef1dc1",
   "metadata": {},
   "source": [
    "Q3) Explain the following functions\n",
    "1. run()\n",
    "2. start()\n",
    "3. join()\n",
    "4. isAlive()"
   ]
  },
  {
   "cell_type": "code",
   "execution_count": 23,
   "id": "d96b512f-5094-4e14-8b76-d1eea0e45247",
   "metadata": {},
   "outputs": [
    {
     "name": "stdout",
     "output_type": "stream",
     "text": [
      "Good Morning. How are you?\n",
      "I am main program, and I'll execute before your thread, if you don't use join()\n",
      "Good Night.\n"
     ]
    }
   ],
   "source": [
    "# run() is the entry point of a thread. When a thread is started, run() method is implicitely called.\n",
    "# start() is used to start a thread's execution.\n",
    "# join() is used to block the execution of other the program until *this thread finishes.\n",
    "# isAlive() is used to check if a thread is alive or dead. \n",
    "\n",
    "class greeting(threading.Thread):\n",
    "    def run(self):\n",
    "        print(\"Good Morning. How are you?\")\n",
    "        time.sleep(2)\n",
    "        print(\"Good Night.\")\n",
    "\n",
    "greet = greeting()\n",
    "greet.start()\n",
    "\n",
    "print(\"I am main program, and I'll execute before your thread, if you don't use join()\")"
   ]
  },
  {
   "cell_type": "code",
   "execution_count": 28,
   "id": "aec62d77-ce80-4192-98fe-cebecf12a58d",
   "metadata": {},
   "outputs": [
    {
     "name": "stdout",
     "output_type": "stream",
     "text": [
      "Good Morning. How are you?\n",
      "Good Night.\n",
      "False\n",
      "I am main program, and I'll execute before your thread, if you don't use join()\n"
     ]
    }
   ],
   "source": [
    "greet1 = greeting()\n",
    "greet1.start()\n",
    "greet1.join()\n",
    "print(greet1.is_alive())\n",
    "\n",
    "print(\"I am main program, and I'll execute before your thread, if you don't use join()\")"
   ]
  },
  {
   "cell_type": "markdown",
   "id": "b59bdc4e-7142-425f-90a6-d41b6386e335",
   "metadata": {},
   "source": [
    "Q4) Write a python program to create two threads. Thread one must print the list of squares and thread two must print the list of cubes."
   ]
  },
  {
   "cell_type": "code",
   "execution_count": 42,
   "id": "4e23e0a2-e5f5-4f66-8cff-b38892f22b3b",
   "metadata": {},
   "outputs": [
    {
     "name": "stdout",
     "output_type": "stream",
     "text": [
      "0\n",
      "4\n",
      "1\n",
      "81\n",
      "36\n",
      "16\n",
      "9\n",
      "49\n",
      "64\n",
      "25\n",
      "1\n",
      "8\n",
      "125\n",
      "0\n",
      "216\n",
      "27\n",
      "64\n",
      "512\n",
      "343\n",
      "729\n"
     ]
    }
   ],
   "source": [
    "def sq(i):\n",
    "    time.sleep(1)\n",
    "    print(i**2)\n",
    "\n",
    "def qb(i):\n",
    "    time.sleep(1)\n",
    "    print(i**3)\n",
    "    \n",
    "sqar = [threading.Thread(target=sq, args=(i,)) for i in range(10)]\n",
    "cube = [threading.Thread(target=qb, args=(i,)) for i in range(10)]\n",
    "\n",
    "for s in sqar:\n",
    "    s.start()\n",
    "for c in cube:\n",
    "    c.start()"
   ]
  },
  {
   "cell_type": "markdown",
   "id": "adb60829-0f7d-4505-8442-7089f25170f0",
   "metadata": {},
   "source": [
    "Q5) State advantages and disadvantages of multithreading."
   ]
  },
  {
   "cell_type": "markdown",
   "id": "bae42762-5ca8-4876-bcc8-010f38bac3ea",
   "metadata": {},
   "source": [
    "     Ans)Advantages: Threads can make a program faster. Easy to implement. Real life application.\n",
    "     Disadventages: Harder to debug. Deadlock"
   ]
  },
  {
   "cell_type": "markdown",
   "id": "fbd4ad41-a908-441d-8799-a3f84e549d89",
   "metadata": {},
   "source": [
    "Q6) Explain deadlocks and race conditions."
   ]
  },
  {
   "cell_type": "markdown",
   "id": "e828c3aa-7113-4959-bd45-4227228a4ca2",
   "metadata": {},
   "source": [
    "    Ans) deadlocks might occur when two or more threads share the same resources. when one thread is using a resource, it locks it. If at the same time another thread wants to lock on the same resource, it cannot do so untill the first thresad looses control, now let's say thread one can only unlock its resource when it gets the lock of the resource, the second thread is holding onto. In this way, both of them need each others resources to proceed. This is called deadlock."
   ]
  },
  {
   "cell_type": "code",
   "execution_count": 4,
   "id": "7a90a4dc-e6a4-4119-8bb5-9dfe9f1f8bde",
   "metadata": {},
   "outputs": [
    {
     "name": "stdout",
     "output_type": "stream",
     "text": [
      "starting thread 1\n",
      "resource1 acquired by thread1\n",
      "resource 2 is acquired by the thread1\n",
      "starting thread 12\n",
      "resource2 acquired by thread2\n",
      "resource 1 is acquired by the thread2\n"
     ]
    }
   ],
   "source": [
    "import threading\n",
    "import time\n",
    "\n",
    "resource1 = threading.Lock()\n",
    "resource2 = threading.Lock()\n",
    "\n",
    "def thread1():\n",
    "    print(\"starting thread 1\")\n",
    "    resource1.acquire()\n",
    "    print(\"resource1 acquired by thread1\")\n",
    "    resource2.acquire()\n",
    "    print(\"resource 2 is acquired by the thread1\")\n",
    "    resource1.release()\n",
    "    resource2.release()\n",
    "\n",
    "def thread2():\n",
    "    print(\"starting thread 12\")\n",
    "    resource2.acquire()\n",
    "    print(\"resource2 acquired by thread2\")\n",
    "    resource1.acquire()\n",
    "    print(\"resource 1 is acquired by the thread2\")\n",
    "    resource2.release()\n",
    "    resource1.release()\n",
    "th1 = threading.Thread(target=thread1)\n",
    "th2 = threading.Thread(target=thread2)\n",
    "\n",
    "th1.start()\n",
    "th2.start()\n",
    "    "
   ]
  },
  {
   "cell_type": "code",
   "execution_count": null,
   "id": "1d974690-ed3b-44bb-bb84-7307e32b180f",
   "metadata": {},
   "outputs": [],
   "source": []
  }
 ],
 "metadata": {
  "kernelspec": {
   "display_name": "Python 3 (ipykernel)",
   "language": "python",
   "name": "python3"
  },
  "language_info": {
   "codemirror_mode": {
    "name": "ipython",
    "version": 3
   },
   "file_extension": ".py",
   "mimetype": "text/x-python",
   "name": "python",
   "nbconvert_exporter": "python",
   "pygments_lexer": "ipython3",
   "version": "3.10.8"
  }
 },
 "nbformat": 4,
 "nbformat_minor": 5
}
